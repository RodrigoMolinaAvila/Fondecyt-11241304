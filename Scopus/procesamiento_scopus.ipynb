{
 "cells": [
  {
   "cell_type": "code",
   "execution_count": 24,
   "metadata": {},
   "outputs": [],
   "source": [
    "import pandas as pd"
   ]
  },
  {
   "cell_type": "code",
   "execution_count": 25,
   "metadata": {},
   "outputs": [
    {
     "data": {
      "text/plain": [
       "(23179, 14)"
      ]
     },
     "execution_count": 25,
     "metadata": {},
     "output_type": "execute_result"
    }
   ],
   "source": [
    "maestra_path = 'C:/Users/Rodrigo/Desktop/Roxana Files/Scopus/maestra.xlsx'\n",
    "scopus_path = 'C:/Users/Rodrigo/Desktop/Roxana Files/Scopus/scopus_resultados_beta.xlsx'\n",
    "\n",
    "df_maestra = pd.read_excel(maestra_path, sheet_name='BaseMaestra')\n",
    "df_scopus = pd.read_excel(scopus_path)\n",
    "\n",
    "df_scopus.shape"
   ]
  },
  {
   "cell_type": "code",
   "execution_count": 26,
   "metadata": {},
   "outputs": [
    {
     "data": {
      "text/plain": [
       "(2273, 14)"
      ]
     },
     "execution_count": 26,
     "metadata": {},
     "output_type": "execute_result"
    }
   ],
   "source": [
    "df_scopus_chile = df_scopus[df_scopus['pais_afiliacion'].str.upper() == 'CHILE']\n",
    "df_scopus_chile = df_scopus_chile.drop_duplicates(subset=['nombre_completo_scopus', 'afiliacion_actual', 'scopus_id'])\n",
    "\n",
    "df_scopus_chile.shape\n"
   ]
  },
  {
   "cell_type": "code",
   "execution_count": 27,
   "metadata": {},
   "outputs": [],
   "source": [
    "def normalizar_columnas(df, columnas):\n",
    "    for col in columnas:\n",
    "        df[col] = df[col].str.upper().str.strip().fillna('')\n",
    "    return df\n"
   ]
  },
  {
   "cell_type": "code",
   "execution_count": 35,
   "metadata": {},
   "outputs": [],
   "source": [
    "df_maestra = normalizar_columnas(df_maestra, ['Primer_Nombre', 'Segundo_Nombre', 'Apellido_Paterno', 'Apellido_Materno'])\n",
    "df_scopus_chile = normalizar_columnas(df_scopus_chile, ['nombre_completo_scopus'])\n",
    "\n",
    "df_maestra['nombre_completo_maestra'] = df_maestra['Primer_Nombre'] + ' ' + df_maestra['Segundo_Nombre'] + ' ' + df_maestra['Apellido_Paterno'] + ' ' + df_maestra['Apellido_Materno']\n",
    "df_maestra['nombre_completo_maestra'] = df_maestra['nombre_completo_maestra'].str.strip()\n"
   ]
  },
  {
   "cell_type": "code",
   "execution_count": 29,
   "metadata": {},
   "outputs": [],
   "source": [
    "def generar_combinaciones(row):\n",
    "    combinaciones = [\n",
    "        f\"{row['Primer_Nombre']} {row['Apellido_Paterno']}\",\n",
    "        f\"{row['Primer_Nombre']} {row['Apellido_Materno']}\",\n",
    "        f\"{row['Segundo_Nombre']} {row['Apellido_Paterno']}\",\n",
    "        f\"{row['Segundo_Nombre']} {row['Apellido_Materno']}\",\n",
    "        f\"{row['Primer_Nombre']} {row['Segundo_Nombre']} {row['Apellido_Paterno']}\",\n",
    "        f\"{row['Primer_Nombre']} {row['Segundo_Nombre']} {row['Apellido_Materno']}\"\n",
    "    ]\n",
    "    return combinaciones\n"
   ]
  },
  {
   "cell_type": "code",
   "execution_count": 30,
   "metadata": {},
   "outputs": [],
   "source": [
    "df_maestra['combinaciones_nombres'] = df_maestra.apply(generar_combinaciones, axis=1)"
   ]
  },
  {
   "cell_type": "code",
   "execution_count": 31,
   "metadata": {},
   "outputs": [],
   "source": [
    "def buscar_coincidencias(fila_maestra, df_scopus):\n",
    "    coincidencias = df_scopus[df_scopus['nombre_completo_scopus'].apply(\n",
    "        lambda x: any([combinacion in x for combinacion in fila_maestra['combinaciones_nombres']])\n",
    "    )]\n",
    "    return coincidencias\n",
    "\n"
   ]
  },
  {
   "cell_type": "code",
   "execution_count": 32,
   "metadata": {},
   "outputs": [],
   "source": [
    "nuevas_columnas = ['scopus_id', 'numero_publicaciones', 'cited_by_count', 'citation_count', 'afiliacion_actual']\n",
    "for col in nuevas_columnas:\n",
    "    df_maestra[col] = None "
   ]
  },
  {
   "cell_type": "code",
   "execution_count": 33,
   "metadata": {},
   "outputs": [],
   "source": [
    "for index, row in df_maestra.iterrows():\n",
    "    coincidencias = buscar_coincidencias(row, df_scopus_chile)\n",
    "    if not coincidencias.empty:\n",
    "        # Si hay coincidencias, tomamos la primera y actualizamos la fila de la base maestra\n",
    "        primera_coincidencia = coincidencias.iloc[0]\n",
    "        df_maestra.at[index, 'scopus_id'] = primera_coincidencia['scopus_id']\n",
    "        df_maestra.at[index, 'numero_publicaciones'] = primera_coincidencia['numero_publicaciones']\n",
    "        df_maestra.at[index, 'cited_by_count'] = primera_coincidencia['cited_by_count']\n",
    "        df_maestra.at[index, 'citation_count'] = primera_coincidencia['citation_count']\n",
    "        df_maestra.at[index, 'afiliacion_actual'] = primera_coincidencia['afiliacion_actual']\n"
   ]
  },
  {
   "cell_type": "code",
   "execution_count": 34,
   "metadata": {},
   "outputs": [
    {
     "name": "stdout",
     "output_type": "stream",
     "text": [
      "Actualización completada. Archivo guardado en: C:/Users/Rodrigo/Desktop/Roxana Files/Scopus/match_resultados.xlsx\n"
     ]
    }
   ],
   "source": [
    "output_path = 'C:/Users/Rodrigo/Desktop/Roxana Files/Scopus/match_resultados.xlsx'\n",
    "df_maestra.to_excel(output_path, index=False)\n",
    "\n",
    "print(\"Actualización completada. Archivo guardado en:\", output_path)"
   ]
  }
 ],
 "metadata": {
  "kernelspec": {
   "display_name": "Python 3",
   "language": "python",
   "name": "python3"
  },
  "language_info": {
   "codemirror_mode": {
    "name": "ipython",
    "version": 3
   },
   "file_extension": ".py",
   "mimetype": "text/x-python",
   "name": "python",
   "nbconvert_exporter": "python",
   "pygments_lexer": "ipython3",
   "version": "3.12.4"
  }
 },
 "nbformat": 4,
 "nbformat_minor": 2
}
