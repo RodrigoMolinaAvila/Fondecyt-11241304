{
 "cells": [
  {
   "cell_type": "code",
   "execution_count": 1,
   "metadata": {},
   "outputs": [],
   "source": [
    "import pandas as pd\n",
    "import numpy as np\n"
   ]
  },
  {
   "cell_type": "code",
   "execution_count": 2,
   "metadata": {},
   "outputs": [
    {
     "name": "stdout",
     "output_type": "stream",
     "text": [
      "Base maestra cargada con 3166 filas y 23 columnas.\n",
      "Base ANID cargada con 44143 filas y 23 columnas.\n"
     ]
    }
   ],
   "source": [
    "# Cargar las bases de datos\n",
    "path_maestra = r\"C:\\Users\\Rodrigo\\Desktop\\Roxana Files\\base_maestra\\base_maestra.xlsx\"\n",
    "path_anid = r\"C:\\Users\\Rodrigo\\Desktop\\Roxana Files\\Add databases\\Github ANID\\BDH_HISTORICA.xlsx\"\n",
    "\n",
    "# Leer los datos\n",
    "maestra = pd.read_excel(path_maestra)\n",
    "anid = pd.read_excel(path_anid)\n",
    "\n",
    "print(f\"Base maestra cargada con {maestra.shape[0]} filas y {maestra.shape[1]} columnas.\")\n",
    "print(f\"Base ANID cargada con {anid.shape[0]} filas y {anid.shape[1]} columnas.\")\n"
   ]
  },
  {
   "cell_type": "code",
   "execution_count": 3,
   "metadata": {},
   "outputs": [
    {
     "name": "stdout",
     "output_type": "stream",
     "text": [
      "Base ANID filtrada con 13355 filas.\n"
     ]
    }
   ],
   "source": [
    "# Filtrar la base ANID para los proyectos relevantes\n",
    "anid_filtrada = anid[\n",
    "    (anid['PROGRAMA'] == 'FONDECYT') &\n",
    "    (anid['INSTRUMENTO'].isin(['REGULAR', 'POSTDOCTORADO', 'INICIACION'])) &\n",
    "    (anid['AGNO_FALLO'].between(2014, 2024))\n",
    "]\n",
    "\n",
    "print(f\"Base ANID filtrada con {anid_filtrada.shape[0]} filas.\")"
   ]
  },
  {
   "cell_type": "code",
   "execution_count": 4,
   "metadata": {},
   "outputs": [
    {
     "name": "stdout",
     "output_type": "stream",
     "text": [
      "Combinaciones generadas: comb_1, comb_2, comb_3, comb_4, comb_5, comb_7, comb_8, comb_11\n"
     ]
    }
   ],
   "source": [
    "# Rellenar valores nulos en nombres\n",
    "columnas_nombres = ['Primer_Nombre', 'Segundo_Nombre', 'Apellido_Paterno', 'Apellido_Materno']\n",
    "maestra[columnas_nombres] = maestra[columnas_nombres].fillna('')\n",
    "\n",
    "# Crear combinaciones de nombres\n",
    "maestra = maestra.assign(\n",
    "    comb_1=maestra['Primer_Nombre'] + \" \" + maestra['Segundo_Nombre'] + \" \" + maestra['Apellido_Paterno'] + \" \" + maestra['Apellido_Materno'],\n",
    "    comb_2=maestra['Primer_Nombre'] + \" \" + maestra['Segundo_Nombre'] + \" \" + maestra['Apellido_Materno'] + \" \" + maestra['Apellido_Paterno'],\n",
    "    comb_3=maestra['Primer_Nombre'] + \" \" + maestra['Apellido_Paterno'] + \" \" + maestra['Apellido_Materno'],\n",
    "    comb_4=maestra['Primer_Nombre'] + \" \" + maestra['Apellido_Materno'] + \" \" + maestra['Apellido_Paterno'],\n",
    "    comb_5=maestra['Segundo_Nombre'] + \" \" + maestra['Primer_Nombre'] + \" \" + maestra['Apellido_Paterno'] + \" \" + maestra['Apellido_Materno'],\n",
    "    comb_7=maestra['Segundo_Nombre'] + \" \" + maestra['Apellido_Paterno'] + \" \" + maestra['Apellido_Materno'],\n",
    "    comb_8=maestra['Segundo_Nombre'] + \" \" + maestra['Apellido_Materno'] + \" \" + maestra['Apellido_Paterno'],\n",
    "    comb_11=maestra['Primer_Nombre'] + \" \" + maestra['Segundo_Nombre'] + \" \" + maestra['Apellido_Paterno']\n",
    ")\n",
    "\n",
    "# Crear columna identificadora para vincular registros\n",
    "maestra['nombre_original_maestra'] = maestra['Primer_Nombre'] + \" \" + maestra['Apellido_Paterno']\n",
    "\n",
    "print(f\"Combinaciones generadas: {', '.join([col for col in maestra.columns if 'comb_' in col])}\")\n"
   ]
  },
  {
   "cell_type": "code",
   "execution_count": 5,
   "metadata": {},
   "outputs": [
    {
     "name": "stdout",
     "output_type": "stream",
     "text": [
      "Realizando merge con combinación: comb_1\n",
      "Realizando merge con combinación: comb_2\n",
      "Realizando merge con combinación: comb_3\n",
      "Realizando merge con combinación: comb_4\n",
      "Realizando merge con combinación: comb_5\n",
      "Realizando merge con combinación: comb_7\n",
      "Realizando merge con combinación: comb_8\n",
      "Realizando merge con combinación: comb_11\n",
      "Base combinada creada con 25348 filas.\n"
     ]
    }
   ],
   "source": [
    "# Inicializar la base combinada\n",
    "base_combinada = pd.DataFrame()\n",
    "\n",
    "# Iterar sobre las combinaciones para realizar los merges\n",
    "for comb_col in [col for col in maestra.columns if 'comb_' in col]:\n",
    "    print(f\"Realizando merge con combinación: {comb_col}\")\n",
    "    resultado = pd.merge(\n",
    "        maestra,\n",
    "        anid_filtrada,\n",
    "        how='left',\n",
    "        left_on=comb_col,\n",
    "        right_on='NOMBRE_RESPONSABLE',\n",
    "        suffixes=('', f'_{comb_col}')\n",
    "    )\n",
    "    base_combinada = pd.concat([base_combinada, resultado], ignore_index=True)\n",
    "\n",
    "print(f\"Base combinada creada con {base_combinada.shape[0]} filas.\")\n"
   ]
  },
  {
   "cell_type": "code",
   "execution_count": 6,
   "metadata": {},
   "outputs": [
    {
     "name": "stdout",
     "output_type": "stream",
     "text": [
      "Base distinta creada con 3828 filas únicas.\n"
     ]
    }
   ],
   "source": [
    "# Mantener filas únicas basadas en 'nombre_original_maestra' y 'NOMBRE_RESPONSABLE'\n",
    "base_distinct = base_combinada.drop_duplicates(subset=['nombre_original_maestra', 'NOMBRE_RESPONSABLE'])\n",
    "print(f\"Base distinta creada con {base_distinct.shape[0]} filas únicas.\")\n"
   ]
  },
  {
   "cell_type": "code",
   "execution_count": 7,
   "metadata": {},
   "outputs": [
    {
     "ename": "AssertionError",
     "evalue": "Error: La base final no coincide con la base maestra. 3165 != 3166",
     "output_type": "error",
     "traceback": [
      "\u001b[1;31m---------------------------------------------------------------------------\u001b[0m",
      "\u001b[1;31mAssertionError\u001b[0m                            Traceback (most recent call last)",
      "Cell \u001b[1;32mIn[7], line 16\u001b[0m\n\u001b[0;32m     13\u001b[0m base_final \u001b[38;5;241m=\u001b[39m pd\u001b[38;5;241m.\u001b[39mconcat([base_con_proyectos, becarios_sin_proyectos], ignore_index\u001b[38;5;241m=\u001b[39m\u001b[38;5;28;01mTrue\u001b[39;00m)\n\u001b[0;32m     15\u001b[0m \u001b[38;5;66;03m# Validar integridad\u001b[39;00m\n\u001b[1;32m---> 16\u001b[0m \u001b[38;5;28;01massert\u001b[39;00m base_final\u001b[38;5;241m.\u001b[39mshape[\u001b[38;5;241m0\u001b[39m] \u001b[38;5;241m==\u001b[39m maestra\u001b[38;5;241m.\u001b[39mshape[\u001b[38;5;241m0\u001b[39m], \\\n\u001b[0;32m     17\u001b[0m     \u001b[38;5;124mf\u001b[39m\u001b[38;5;124m\"\u001b[39m\u001b[38;5;124mError: La base final no coincide con la base maestra. \u001b[39m\u001b[38;5;132;01m{\u001b[39;00mbase_final\u001b[38;5;241m.\u001b[39mshape[\u001b[38;5;241m0\u001b[39m]\u001b[38;5;132;01m}\u001b[39;00m\u001b[38;5;124m != \u001b[39m\u001b[38;5;132;01m{\u001b[39;00mmaestra\u001b[38;5;241m.\u001b[39mshape[\u001b[38;5;241m0\u001b[39m]\u001b[38;5;132;01m}\u001b[39;00m\u001b[38;5;124m\"\u001b[39m\n\u001b[0;32m     19\u001b[0m \u001b[38;5;28mprint\u001b[39m(\u001b[38;5;124mf\u001b[39m\u001b[38;5;124m\"\u001b[39m\u001b[38;5;124mBase final creada con \u001b[39m\u001b[38;5;132;01m{\u001b[39;00mbase_final\u001b[38;5;241m.\u001b[39mshape[\u001b[38;5;241m0\u001b[39m]\u001b[38;5;132;01m}\u001b[39;00m\u001b[38;5;124m filas.\u001b[39m\u001b[38;5;124m\"\u001b[39m)\n",
      "\u001b[1;31mAssertionError\u001b[0m: Error: La base final no coincide con la base maestra. 3165 != 3166"
     ]
    }
   ],
   "source": [
    "# Identificar becarios con proyectos (1 o más)\n",
    "base_con_proyectos = base_distinct[base_distinct['NOMBRE_RESPONSABLE'].notnull()].copy()\n",
    "base_con_proyectos['Tiene_fondecyt'] = 1\n",
    "\n",
    "# Identificar becarios sin proyectos\n",
    "becarios_sin_proyectos = maestra[~maestra['nombre_original_maestra'].isin(base_con_proyectos['nombre_original_maestra'])].copy()\n",
    "becarios_sin_proyectos = becarios_sin_proyectos.assign(\n",
    "    Tiene_fondecyt=0,\n",
    "    cuantos_proyectos=0\n",
    ")\n",
    "\n",
    "# Unir ambas bases\n",
    "base_final = pd.concat([base_con_proyectos, becarios_sin_proyectos], ignore_index=True)\n",
    "\n",
    "# Validar integridad\n",
    "assert base_final.shape[0] == maestra.shape[0], \\\n",
    "    f\"Error: La base final no coincide con la base maestra. {base_final.shape[0]} != {maestra.shape[0]}\"\n",
    "\n",
    "print(f\"Base final creada con {base_final.shape[0]} filas.\")\n"
   ]
  },
  {
   "cell_type": "code",
   "execution_count": null,
   "metadata": {},
   "outputs": [
    {
     "name": "stdout",
     "output_type": "stream",
     "text": [
      "Total de nombres únicos en maestra: 3061\n",
      "Total de nombres únicos en base_final: 3061\n"
     ]
    }
   ],
   "source": [
    "print(f\"Total de nombres únicos en maestra: {maestra['nombre_original_maestra'].nunique()}\")\n",
    "print(f\"Total de nombres únicos en base_final: {base_final['nombre_original_maestra'].nunique()}\")\n"
   ]
  },
  {
   "cell_type": "code",
   "execution_count": 9,
   "metadata": {},
   "outputs": [
    {
     "name": "stdout",
     "output_type": "stream",
     "text": [
      "Nombres faltantes:\n",
      "Series([], Name: nombre_original_maestra, dtype: object)\n"
     ]
    }
   ],
   "source": [
    "# Identificar nombres presentes en maestra pero no en base_final\n",
    "nombres_faltantes = maestra.loc[\n",
    "    ~maestra['nombre_original_maestra'].isin(base_final['nombre_original_maestra']),\n",
    "    'nombre_original_maestra'\n",
    "]\n",
    "print(f\"Nombres faltantes:\\n{nombres_faltantes}\")\n"
   ]
  },
  {
   "cell_type": "code",
   "execution_count": 10,
   "metadata": {},
   "outputs": [],
   "source": [
    "registros_faltantes = maestra.loc[\n",
    "    maestra['nombre_original_maestra'].isin(nombres_faltantes)\n",
    "].copy()\n",
    "\n",
    "# Asegurarnos de asignar valores adecuados\n",
    "registros_faltantes = registros_faltantes.assign(\n",
    "    Tiene_fondecyt=0,\n",
    "    cuantos_proyectos=0\n",
    ")\n",
    "\n",
    "# Unir los registros faltantes a la base final\n",
    "base_final = pd.concat([base_final, registros_faltantes], ignore_index=True)\n"
   ]
  },
  {
   "cell_type": "code",
   "execution_count": 11,
   "metadata": {},
   "outputs": [
    {
     "ename": "AssertionError",
     "evalue": "Error: La base final aún no coincide con la base maestra. 3165 != 3166",
     "output_type": "error",
     "traceback": [
      "\u001b[1;31m---------------------------------------------------------------------------\u001b[0m",
      "\u001b[1;31mAssertionError\u001b[0m                            Traceback (most recent call last)",
      "Cell \u001b[1;32mIn[11], line 1\u001b[0m\n\u001b[1;32m----> 1\u001b[0m \u001b[38;5;28;01massert\u001b[39;00m base_final\u001b[38;5;241m.\u001b[39mshape[\u001b[38;5;241m0\u001b[39m] \u001b[38;5;241m==\u001b[39m maestra\u001b[38;5;241m.\u001b[39mshape[\u001b[38;5;241m0\u001b[39m], \\\n\u001b[0;32m      2\u001b[0m     \u001b[38;5;124mf\u001b[39m\u001b[38;5;124m\"\u001b[39m\u001b[38;5;124mError: La base final aún no coincide con la base maestra. \u001b[39m\u001b[38;5;132;01m{\u001b[39;00mbase_final\u001b[38;5;241m.\u001b[39mshape[\u001b[38;5;241m0\u001b[39m]\u001b[38;5;132;01m}\u001b[39;00m\u001b[38;5;124m != \u001b[39m\u001b[38;5;132;01m{\u001b[39;00mmaestra\u001b[38;5;241m.\u001b[39mshape[\u001b[38;5;241m0\u001b[39m]\u001b[38;5;132;01m}\u001b[39;00m\u001b[38;5;124m\"\u001b[39m\n\u001b[0;32m      3\u001b[0m \u001b[38;5;28mprint\u001b[39m(\u001b[38;5;124mf\u001b[39m\u001b[38;5;124m\"\u001b[39m\u001b[38;5;124mBase final corregida con \u001b[39m\u001b[38;5;132;01m{\u001b[39;00mbase_final\u001b[38;5;241m.\u001b[39mshape[\u001b[38;5;241m0\u001b[39m]\u001b[38;5;132;01m}\u001b[39;00m\u001b[38;5;124m filas.\u001b[39m\u001b[38;5;124m\"\u001b[39m)\n",
      "\u001b[1;31mAssertionError\u001b[0m: Error: La base final aún no coincide con la base maestra. 3165 != 3166"
     ]
    }
   ],
   "source": [
    "assert base_final.shape[0] == maestra.shape[0], \\\n",
    "    f\"Error: La base final aún no coincide con la base maestra. {base_final.shape[0]} != {maestra.shape[0]}\"\n",
    "print(f\"Base final corregida con {base_final.shape[0]} filas.\")\n"
   ]
  },
  {
   "cell_type": "code",
   "execution_count": 12,
   "metadata": {},
   "outputs": [
    {
     "name": "stdout",
     "output_type": "stream",
     "text": [
      "Total de duplicados en base_final: 205\n",
      "Duplicados detectados:\n",
      "         FOLIO                              NOMBRE Primer_Nombre  \\\n",
      "4     21140409             ALEJANDRO MIRANDA CERPA     ALEJANDRO   \n",
      "20    21150288        BRIAN ALEXANDER EFFER ROLDAN         BRIAN   \n",
      "24    72150023       CAMILA PATRICIA MOYANO DAVILA        CAMILA   \n",
      "27    21140424       CARLOS ALEJANDRO CRUZ HERRERA        CARLOS   \n",
      "42    21161211   CHRISTIAN JAVIER SANTANDER CASTRO     CHRISTIAN   \n",
      "...        ...                                 ...           ...   \n",
      "2944  21140490  SEBASTIAN ANDRES SALGADO REBOLLEDO     SEBASTIAN   \n",
      "2971  72150510       SERGIO ANDRES CONTRERAS PINTO        SERGIO   \n",
      "2975  21140057     SERGIO ANTONIO CONTRERAS HANTKE        SERGIO   \n",
      "3130  72170181         XIMENA CAROLINA CANELO PINO        XIMENA   \n",
      "3131  72170181         XIMENA CAROLINA CANELO PINO        XIMENA   \n",
      "\n",
      "     Segundo_Nombre Apellido_Paterno Apellido_Materno SEXO_COMPLETO  \\\n",
      "4                            MIRANDA            CERPA     MASCULINO   \n",
      "20        ALEXANDER            EFFER           ROLDAN     MASCULINO   \n",
      "24         PATRICIA           MOYANO           DAVILA      FEMENINO   \n",
      "27        ALEJANDRO             CRUZ          HERRERA     MASCULINO   \n",
      "42           JAVIER        SANTANDER           CASTRO     MASCULINO   \n",
      "...             ...              ...              ...           ...   \n",
      "2944         ANDRES          SALGADO        REBOLLEDO     MASCULINO   \n",
      "2971         ANDRES        CONTRERAS            PINTO     MASCULINO   \n",
      "2975        ANTONIO        CONTRERAS           HANTKE     MASCULINO   \n",
      "3130       CAROLINA           CANELO             PINO      FEMENINO   \n",
      "3131       CAROLINA           CANELO             PINO      FEMENINO   \n",
      "\n",
      "      Ano de inicio beca    TIPO_BECA  \\\n",
      "4                   1970      CONICYT   \n",
      "20                  1970      CONICYT   \n",
      "24                  1970  BECAS CHILE   \n",
      "27                  1970      CONICYT   \n",
      "42                  1970      CONICYT   \n",
      "...                  ...          ...   \n",
      "2944                1970      CONICYT   \n",
      "2971                1970  BECAS CHILE   \n",
      "2975                1970      CONICYT   \n",
      "3130                1970  BECAS CHILE   \n",
      "3131                1970  BECAS CHILE   \n",
      "\n",
      "                            UNIVERSIDAD_PROGRAMA  ...  \\\n",
      "4                   UNIVERSIDAD AUSTRAL DE CHILE  ...   \n",
      "20                    UNIVERSIDAD DE LA FRONTERA  ...   \n",
      "24                        UNIVERSITE DE LAUSANNE  ...   \n",
      "27                          UNIVERSIDAD DE CHILE  ...   \n",
      "42                    UNIVERSIDAD DE LA FRONTERA  ...   \n",
      "...                                          ...  ...   \n",
      "2944                   UNIVERSIDAD DE CONCEPCION  ...   \n",
      "2971  UNIVERSITY OF ILLINOIS AT URBANA-CHAMPAIGN  ...   \n",
      "2975    PONTIFICIA UNIVERSIDAD CATOLICA DE CHILE  ...   \n",
      "3130           THE UNIVERSITY OF TEXAS AT AUSTIN  ...   \n",
      "3131           THE UNIVERSITY OF TEXAS AT AUSTIN  ...   \n",
      "\n",
      "                                        PALABRAS_CLAVES PROGRAMA_comb_2  \\\n",
      "4     ECOLOGÍA DE PAISAJES FORESTALES; CAMBIO CLIMÁT...             NaN   \n",
      "20         MONOCLONAL ANTIBODIES; PHAGE DISPLAY; CANCER             NaN   \n",
      "24               MERECIMIENTO; EDUCACIÓN; MICROPOLÍTICA             NaN   \n",
      "27    COORDINATION POLYMERS; SPIN-CROSSOVER\\nMOLECUL...             NaN   \n",
      "42    MICROBIAL CONSORTIA; DROUGHT STRESS; HORTICULT...             NaN   \n",
      "...                                                 ...             ...   \n",
      "2944                                                NaN             NaN   \n",
      "2971                                                NaN             NaN   \n",
      "2975                                                NaN             NaN   \n",
      "3130                                                NaN             NaN   \n",
      "3131                                                NaN             NaN   \n",
      "\n",
      "     PROGRAMA_comb_3  PROGRAMA_comb_4  PROGRAMA_comb_5  PROGRAMA_comb_7  \\\n",
      "4                NaN              NaN              NaN              NaN   \n",
      "20               NaN              NaN              NaN              NaN   \n",
      "24               NaN              NaN              NaN              NaN   \n",
      "27               NaN              NaN              NaN              NaN   \n",
      "42               NaN              NaN              NaN              NaN   \n",
      "...              ...              ...              ...              ...   \n",
      "2944             NaN              NaN              NaN              NaN   \n",
      "2971             NaN              NaN              NaN              NaN   \n",
      "2975             NaN              NaN              NaN              NaN   \n",
      "3130             NaN              NaN              NaN              NaN   \n",
      "3131             NaN              NaN              NaN              NaN   \n",
      "\n",
      "      PROGRAMA_comb_8 PROGRAMA_comb_11 Tiene_fondecyt cuantos_proyectos  \n",
      "4                 NaN              NaN              1               NaN  \n",
      "20                NaN              NaN              1               NaN  \n",
      "24                NaN              NaN              1               NaN  \n",
      "27                NaN              NaN              1               NaN  \n",
      "42                NaN              NaN              1               NaN  \n",
      "...               ...              ...            ...               ...  \n",
      "2944              NaN              NaN              0               0.0  \n",
      "2971              NaN              NaN              0               0.0  \n",
      "2975              NaN              NaN              0               0.0  \n",
      "3130              NaN              NaN              0               0.0  \n",
      "3131              NaN              NaN              0               0.0  \n",
      "\n",
      "[205 rows x 64 columns]\n"
     ]
    }
   ],
   "source": [
    "duplicados = base_final[base_final.duplicated(subset='nombre_original_maestra', keep=False)]\n",
    "print(f\"Total de duplicados en base_final: {duplicados.shape[0]}\")\n",
    "if not duplicados.empty:\n",
    "    print(\"Duplicados detectados:\")\n",
    "    print(duplicados)\n"
   ]
  },
  {
   "cell_type": "code",
   "execution_count": 13,
   "metadata": {},
   "outputs": [
    {
     "name": "stdout",
     "output_type": "stream",
     "text": [
      "Total de filas en la maestra: 3166\n",
      "Total de filas en la base final: 3165\n"
     ]
    }
   ],
   "source": [
    "print(f\"Total de filas en la maestra: {maestra.shape[0]}\")\n",
    "print(f\"Total de filas en la base final: {base_final.shape[0]}\")\n"
   ]
  },
  {
   "cell_type": "code",
   "execution_count": 14,
   "metadata": {},
   "outputs": [
    {
     "name": "stdout",
     "output_type": "stream",
     "text": [
      "Total de nombres faltantes: 0\n"
     ]
    }
   ],
   "source": [
    "faltantes = maestra[~maestra['nombre_original_maestra'].isin(base_final['nombre_original_maestra'])]\n",
    "print(f\"Total de nombres faltantes: {faltantes.shape[0]}\")\n",
    "if not faltantes.empty:\n",
    "    print(\"Nombres faltantes en base_final:\")\n",
    "    print(faltantes)"
   ]
  },
  {
   "cell_type": "code",
   "execution_count": 15,
   "metadata": {},
   "outputs": [
    {
     "name": "stdout",
     "output_type": "stream",
     "text": [
      "Resolviendo duplicados...\n"
     ]
    },
    {
     "ename": "AssertionError",
     "evalue": "Error: La base final aún no coincide con la base maestra. 3061 != 3166",
     "output_type": "error",
     "traceback": [
      "\u001b[1;31m---------------------------------------------------------------------------\u001b[0m",
      "\u001b[1;31mAssertionError\u001b[0m                            Traceback (most recent call last)",
      "Cell \u001b[1;32mIn[15], line 14\u001b[0m\n\u001b[0;32m     11\u001b[0m base_final[\u001b[38;5;124m'\u001b[39m\u001b[38;5;124mcuantos_proyectos\u001b[39m\u001b[38;5;124m'\u001b[39m] \u001b[38;5;241m=\u001b[39m base_final\u001b[38;5;241m.\u001b[39mgroupby(\u001b[38;5;124m'\u001b[39m\u001b[38;5;124mnombre_original_maestra\u001b[39m\u001b[38;5;124m'\u001b[39m)[\u001b[38;5;124m'\u001b[39m\u001b[38;5;124mNOMBRE_RESPONSABLE\u001b[39m\u001b[38;5;124m'\u001b[39m]\u001b[38;5;241m.\u001b[39mtransform(\u001b[38;5;124m'\u001b[39m\u001b[38;5;124mcount\u001b[39m\u001b[38;5;124m'\u001b[39m)\n\u001b[0;32m     13\u001b[0m \u001b[38;5;66;03m# Validar que ahora el tamaño coincide con la base maestra\u001b[39;00m\n\u001b[1;32m---> 14\u001b[0m \u001b[38;5;28;01massert\u001b[39;00m base_final\u001b[38;5;241m.\u001b[39mshape[\u001b[38;5;241m0\u001b[39m] \u001b[38;5;241m==\u001b[39m maestra\u001b[38;5;241m.\u001b[39mshape[\u001b[38;5;241m0\u001b[39m], \\\n\u001b[0;32m     15\u001b[0m     \u001b[38;5;124mf\u001b[39m\u001b[38;5;124m\"\u001b[39m\u001b[38;5;124mError: La base final aún no coincide con la base maestra. \u001b[39m\u001b[38;5;132;01m{\u001b[39;00mbase_final\u001b[38;5;241m.\u001b[39mshape[\u001b[38;5;241m0\u001b[39m]\u001b[38;5;132;01m}\u001b[39;00m\u001b[38;5;124m != \u001b[39m\u001b[38;5;132;01m{\u001b[39;00mmaestra\u001b[38;5;241m.\u001b[39mshape[\u001b[38;5;241m0\u001b[39m]\u001b[38;5;132;01m}\u001b[39;00m\u001b[38;5;124m\"\u001b[39m\n\u001b[0;32m     17\u001b[0m \u001b[38;5;28mprint\u001b[39m(\u001b[38;5;124mf\u001b[39m\u001b[38;5;124m\"\u001b[39m\u001b[38;5;124mBase final corregida con \u001b[39m\u001b[38;5;132;01m{\u001b[39;00mbase_final\u001b[38;5;241m.\u001b[39mshape[\u001b[38;5;241m0\u001b[39m]\u001b[38;5;132;01m}\u001b[39;00m\u001b[38;5;124m filas.\u001b[39m\u001b[38;5;124m\"\u001b[39m)\n\u001b[0;32m     18\u001b[0m \u001b[38;5;28mprint\u001b[39m(\u001b[38;5;124mf\u001b[39m\u001b[38;5;124m\"\u001b[39m\u001b[38;5;124mDistribución actualizada de \u001b[39m\u001b[38;5;124m'\u001b[39m\u001b[38;5;124mTiene_fondecyt\u001b[39m\u001b[38;5;124m'\u001b[39m\u001b[38;5;124m:\u001b[39m\u001b[38;5;124m\"\u001b[39m)\n",
      "\u001b[1;31mAssertionError\u001b[0m: Error: La base final aún no coincide con la base maestra. 3061 != 3166"
     ]
    }
   ],
   "source": [
    "# Resolver duplicados en la base final\n",
    "print(\"Resolviendo duplicados...\")\n",
    "\n",
    "# Ordenar por `AGNO_FALLO` descendente para priorizar el proyecto más reciente\n",
    "base_final = base_final.sort_values(by=['nombre_original_maestra', 'AGNO_FALLO'], ascending=[True, False])\n",
    "\n",
    "# Eliminar duplicados manteniendo solo uno por nombre\n",
    "base_final = base_final.drop_duplicates(subset='nombre_original_maestra', keep='first')\n",
    "\n",
    "# Volver a calcular la columna `cuantos_proyectos` para reflejar la cantidad total de proyectos por becario\n",
    "base_final['cuantos_proyectos'] = base_final.groupby('nombre_original_maestra')['NOMBRE_RESPONSABLE'].transform('count')\n",
    "\n",
    "# Validar que ahora el tamaño coincide con la base maestra\n",
    "assert base_final.shape[0] == maestra.shape[0], \\\n",
    "    f\"Error: La base final aún no coincide con la base maestra. {base_final.shape[0]} != {maestra.shape[0]}\"\n",
    "\n",
    "print(f\"Base final corregida con {base_final.shape[0]} filas.\")\n",
    "print(f\"Distribución actualizada de 'Tiene_fondecyt':\")\n",
    "print(base_final['Tiene_fondecyt'].value_counts())\n"
   ]
  },
  {
   "cell_type": "code",
   "execution_count": 16,
   "metadata": {},
   "outputs": [
    {
     "name": "stdout",
     "output_type": "stream",
     "text": [
      "Total de nombres únicos en la maestra: 3061\n",
      "Total de nombres únicos en la base final: 3061\n",
      "Total de nombres faltantes: 0\n",
      "Nombres faltantes:\n",
      "set()\n"
     ]
    }
   ],
   "source": [
    "# Identificar los nombres únicos en la maestra y en la base final\n",
    "nombres_maestra = set(maestra['nombre_original_maestra'])\n",
    "nombres_final = set(base_final['nombre_original_maestra'])\n",
    "\n",
    "# Nombres que están en la maestra pero no en la base final\n",
    "nombres_faltantes = nombres_maestra - nombres_final\n",
    "\n",
    "# Mostrar resultados\n",
    "print(f\"Total de nombres únicos en la maestra: {len(nombres_maestra)}\")\n",
    "print(f\"Total de nombres únicos en la base final: {len(nombres_final)}\")\n",
    "print(f\"Total de nombres faltantes: {len(nombres_faltantes)}\")\n",
    "\n",
    "# Mostrar los nombres faltantes\n",
    "print(\"Nombres faltantes:\")\n",
    "print(nombres_faltantes)\n"
   ]
  },
  {
   "cell_type": "code",
   "execution_count": 18,
   "metadata": {},
   "outputs": [
    {
     "name": "stdout",
     "output_type": "stream",
     "text": [
      "Total de proyectos adicionales: 1479\n"
     ]
    }
   ],
   "source": [
    "# Identificar proyectos adicionales (becarios con más de un proyecto en ANID)\n",
    "proyectos_adicionales = base_distinct[base_distinct.duplicated(subset='nombre_original_maestra', keep=False)].copy()\n",
    "\n",
    "# Verificar cuántos proyectos adicionales hay\n",
    "print(f\"Total de proyectos adicionales: {proyectos_adicionales.shape[0]}\")\n"
   ]
  },
  {
   "cell_type": "code",
   "execution_count": 19,
   "metadata": {},
   "outputs": [
    {
     "name": "stdout",
     "output_type": "stream",
     "text": [
      "Base de datos exportada a base_maestra_con_proyectos.xlsx\n"
     ]
    }
   ],
   "source": [
    "# Ruta para exportar el archivo\n",
    "output_path = \"base_maestra_con_proyectos.xlsx\"\n",
    "\n",
    "# Exportar base final y proyectos adicionales a diferentes hojas\n",
    "with pd.ExcelWriter(output_path) as writer:\n",
    "    base_final.to_excel(writer, sheet_name=\"Base Final\", index=False)\n",
    "    proyectos_adicionales.to_excel(writer, sheet_name=\"Proyectos Adicionales\", index=False)\n",
    "\n",
    "print(f\"Base de datos exportada a {output_path}\")\n"
   ]
  }
 ],
 "metadata": {
  "kernelspec": {
   "display_name": "Python 3",
   "language": "python",
   "name": "python3"
  },
  "language_info": {
   "codemirror_mode": {
    "name": "ipython",
    "version": 3
   },
   "file_extension": ".py",
   "mimetype": "text/x-python",
   "name": "python",
   "nbconvert_exporter": "python",
   "pygments_lexer": "ipython3",
   "version": "3.12.4"
  }
 },
 "nbformat": 4,
 "nbformat_minor": 2
}
