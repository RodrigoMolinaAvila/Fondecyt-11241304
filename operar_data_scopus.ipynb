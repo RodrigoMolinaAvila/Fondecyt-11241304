{
 "cells": [
  {
   "cell_type": "code",
   "execution_count": null,
   "metadata": {},
   "outputs": [],
   "source": [
    "import pandas as pd"
   ]
  },
  {
   "cell_type": "markdown",
   "metadata": {},
   "source": [
    "# 1. Carga de datos"
   ]
  },
  {
   "cell_type": "code",
   "execution_count": null,
   "metadata": {},
   "outputs": [],
   "source": [
    "df_bd = pd.read_excel('bd.xlsx')\n",
    "df_resultados = pd.read_excel('resultados_completos_v4.xlsx')"
   ]
  },
  {
   "cell_type": "markdown",
   "metadata": {},
   "source": [
    "# 2. Aplicar filtrar a datos"
   ]
  },
  {
   "cell_type": "code",
   "execution_count": null,
   "metadata": {},
   "outputs": [],
   "source": [
    "def generar_combinaciones(fila):\n",
    "    nombres = [nombre for nombre in fila if isinstance(nombre, str)]\n",
    "    combinaciones = []\n",
    "    \n",
    "    # Combinaciones de nombres completos\n",
    "    # NOMBRE: JUAN CARLOS GARCIA PEREZ\n",
    "    combinaciones.append(\" \".join(nombres)) # JUAN CARLOS GARCIA PEREZ\n",
    "    \n",
    "    # Combinaciones de iniciales y nombres completos\n",
    "    # NOMBRE: JUAN CARLOS GARCIA PEREZ\n",
    "    for i in range(1, len(nombres)):\n",
    "        combinaciones.append(\" \".join([nombres[0]] + [nombre[0] + \".\" for nombre in nombres[1:i+1]] + nombres[i+1:])) # JUAN C. GARCIA\n",
    "        combinaciones.append(\" \".join([nombres[0][0] + \".\"] + [nombre[0] + \".\" for nombre in nombres[1:i+1]] + nombres[i+1:])) # J. C. GARCIA\n",
    "    \n",
    "    # Combinaciones de nombres y apellidos\n",
    "    # NOMBRE: JUAN CARLOS GARCIA PEREZ\n",
    "    if len(nombres) > 2:\n",
    "        combinaciones.append(f\"{nombres[0]} {nombres[2]}\") # JUAN GARCIA\n",
    "        if len(nombres) > 3:\n",
    "            combinaciones.append(f\"{nombres[0]} {nombres[2]} {nombres[3]}\") # JUAN GARCIA PEREZ\n",
    "        combinaciones.append(f\"{nombres[0][0]}. {nombres[2]}\") # J. GARCIA\n",
    "        if len(nombres) > 3:\n",
    "            combinaciones.append(f\"{nombres[0]} {nombres[2]} {nombres[3][0]}\") # JUAN GARCIA P\n",
    "            combinaciones.append(f\"{nombres[0]} {nombres[2]} {nombres[3][0]}.\") # JUAN GARCIA P\n",
    "            combinaciones.append(f\"{nombres[0][0]}. {nombres[2]} {nombres[3]}\") # J. GARCIA PEREZ\n",
    "    \n",
    "    # Combinaciones con apellidos compuestos\n",
    "    if len(nombres) > 3:\n",
    "        # NOMBRE: JUAN CARLOS GARCIA PEREZ\n",
    "        apellido_compuesto1 = f\"{nombres[2]}-{nombres[3]}\" # GARCIA-PEREZ\n",
    "        combinaciones.append(f\"{nombres[0]} {apellido_compuesto1}\") # JUAN CARLOS GARCIA-PEREZ\n",
    "        combinaciones.append(f\"{nombres[0][0]}. {apellido_compuesto1}\") # J. GARCIA-PEREZ\n",
    "        combinaciones.append(f\"{nombres[0]} {nombres[1][0]}. {apellido_compuesto1}\") # JUAN C. GARCIA-PEREZ\n",
    "        combinaciones.append(f\"{nombres[0][0]}. {nombres[1][0]}. {apellido_compuesto1}\") # J. C. GARCIA-PEREZ\n",
    "    \n",
    "    return combinaciones"
   ]
  },
  {
   "cell_type": "code",
   "execution_count": null,
   "metadata": {},
   "outputs": [],
   "source": [
    "# Separar los nombres de la base de datos\n",
    "df_nombres_separados = df_resultados[\"Nombre BD\"].str.split(\" \", expand=True)\n",
    "# Aplicar la función a cada fila del DataFrame\n",
    "todas_combinaciones = df_nombres_separados.apply(generar_combinaciones, axis=1)"
   ]
  },
  {
   "cell_type": "code",
   "execution_count": null,
   "metadata": {},
   "outputs": [],
   "source": [
    "# Crear el diccionario\n",
    "diccionario_nombres = {}\n",
    "\n",
    "# Aplicar la función a cada fila del DataFrame\n",
    "for index, fila in df_nombres_separados.iterrows():\n",
    "    combinaciones = generar_combinaciones(fila) # Generar combinaciones\n",
    "    clave = f\"{fila[0]} {fila[2]}\" if len(fila) > 2 else fila[0] # Clave del diccionario\n",
    "    diccionario_nombres[clave] = combinaciones # Agregar combinaciones al diccionario\n",
    "# OUPUT: {NOMBRE APELLIDO: [COMBINACIONES]} (Ejemplo: {\"JUAN GARCIA\": [\"JUAN GARCIA\", \"J. GARCIA\"]})"
   ]
  },
  {
   "cell_type": "code",
   "execution_count": null,
   "metadata": {},
   "outputs": [],
   "source": [
    "def verificar_coincidencia_combinacion_nombres(row):\n",
    "    search_name = row['Nombre BUSQUEDA']  # Nombre de búsqueda\n",
    "    name = row['Nombre SCOPUS']  # Nombre original\n",
    "    \n",
    "    # Obtener combinaciones del diccionario para el nombre de búsqueda\n",
    "    combinaciones = diccionario_nombres.get(search_name, [])\n",
    "    \n",
    "    # Verificar si el 'Name' está en las combinaciones generadas\n",
    "    if name in combinaciones:\n",
    "        return name\n",
    "    return None"
   ]
  },
  {
   "cell_type": "markdown",
   "metadata": {},
   "source": [
    "# 3. Exportar datos"
   ]
  },
  {
   "cell_type": "code",
   "execution_count": null,
   "metadata": {},
   "outputs": [],
   "source": [
    "# Aplicar la función a cada registro del DataFrame\n",
    "df_resultados['Punto Combinacion Nombres'] = df_resultados.apply(verificar_coincidencia_combinacion_nombres, axis=1)\n",
    "# Exportar resultados\n",
    "df_resultados.to_excel('resultados_completos_v5.xlsx', index=False)"
   ]
  }
 ],
 "metadata": {
  "kernelspec": {
   "display_name": "matematica_env",
   "language": "python",
   "name": "python3"
  },
  "language_info": {
   "name": "python",
   "version": "3.11.9"
  }
 },
 "nbformat": 4,
 "nbformat_minor": 2
}
