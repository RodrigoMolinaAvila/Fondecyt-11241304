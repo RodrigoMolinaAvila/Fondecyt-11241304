{
 "cells": [
  {
   "cell_type": "code",
   "execution_count": 1,
   "metadata": {},
   "outputs": [],
   "source": [
    "import pandas as pd\n",
    "import plotly.express as px"
   ]
  },
  {
   "cell_type": "code",
   "execution_count": 2,
   "metadata": {},
   "outputs": [
    {
     "name": "stdout",
     "output_type": "stream",
     "text": [
      "      FOLIO                           NOMBRE Primer_Nombre Segundo_Nombre  \\\n",
      "0  72160230  ABELINO ENRIQUE JIMENEZ GAJARDO       ABELINO        ENRIQUE   \n",
      "1  21150571     ABRAHAM BENJAMIN NOVOA LAGOS       ABRAHAM       BENJAMIN   \n",
      "2  72170568      ACCEL NICOLAS ABARCA PROUZA         ACCEL        NICOLAS   \n",
      "3  72170089          ADELAIDA BARROS CAJDLER      ADELAIDA            NaN   \n",
      "4  72170561       ADOLFO ANTONIO ROCCO ROCCO        ADOLFO        ANTONIO   \n",
      "\n",
      "  Apellido_Paterno Apellido_Materno SEXO_COMPLETO ESTADO BECA  \\\n",
      "0          JIMENEZ          GAJARDO     MASCULINO  NO VIGENTE   \n",
      "1            NOVOA            LAGOS     MASCULINO  NO VIGENTE   \n",
      "2           ABARCA           PROUZA     MASCULINO  NO VIGENTE   \n",
      "3           BARROS          CAJDLER      FEMENINO  NO VIGENTE   \n",
      "4            ROCCO            ROCCO     MASCULINO  NO VIGENTE   \n",
      "\n",
      "   Ano de inicio beca    TIPO_BECA  ... REGION_EJECUCION MONTO_ADJUDICADO  \\\n",
      "0                2015  BECAS CHILE  ...              NaN              NaN   \n",
      "1                2015      CONICYT  ...              NaN              NaN   \n",
      "2                2016  BECAS CHILE  ...              NaN              NaN   \n",
      "3                2016  BECAS CHILE  ...              NaN              NaN   \n",
      "4                2016  BECAS CHILE  ...              NaN              NaN   \n",
      "\n",
      "  NOTA_MONTO MONEDA  PALABRAS_CLAVES      RBD  \\\n",
      "0        NaN    NaN              NaN   8748.0   \n",
      "1        NaN    NaN              NaN   4824.0   \n",
      "2        NaN    NaN              NaN  11962.0   \n",
      "3        NaN    NaN              NaN   8906.0   \n",
      "4        NaN    NaN              NaN   8492.0   \n",
      "\n",
      "                                Nombre    Comuna  \\\n",
      "0  COLEGIO INSTITUTO ALONSO DE ERCILLA  Santiago   \n",
      "1             LICEO INDUSTRIAL DE TOME      Tomé   \n",
      "2  COLEGIO PEDRO DE VALDIVIA-AGUSTINAS  Santiago   \n",
      "3       COLEGIO SAINT GEORGE S COLLEGE  Vitacura   \n",
      "4          LICEO MANUEL BARROS BORGONO  Santiago   \n",
      "\n",
      "                             Región    GSE  \n",
      "0  Región Metropolitana de Santiago   Alto  \n",
      "1                 Región del Biobío   Bajo  \n",
      "2  Región Metropolitana de Santiago   Alto  \n",
      "3  Región Metropolitana de Santiago   Alto  \n",
      "4  Región Metropolitana de Santiago  Medio  \n",
      "\n",
      "[5 rows x 60 columns]\n"
     ]
    }
   ],
   "source": [
    "# Import the Excel file\n",
    "file_path = 'C:\\\\Users\\\\rodri\\\\OneDrive\\\\Escritorio\\\\Roxana Files\\\\GSE_establecimientos\\\\maestra_rbd.xlsx'\n",
    "df = pd.read_excel(file_path)\n",
    "\n",
    "# Display the first few rows of the dataframe\n",
    "print(df.head())"
   ]
  },
  {
   "cell_type": "code",
   "execution_count": 3,
   "metadata": {},
   "outputs": [
    {
     "data": {
      "application/vnd.plotly.v1+json": {
       "config": {
        "plotlyServerURL": "https://plot.ly"
       },
       "data": [
        {
         "alignmentgroup": "True",
         "bingroup": "x",
         "hovertemplate": "GSE=%{x}<br>count=%{y}<extra></extra>",
         "legendgroup": "",
         "marker": {
          "color": "#636efa",
          "pattern": {
           "shape": ""
          }
         },
         "name": "",
         "offsetgroup": "",
         "orientation": "v",
         "showlegend": false,
         "texttemplate": "%{value}",
         "type": "histogram",
         "x": [
          "Alto",
          "Bajo",
          "Alto",
          "Alto",
          "Medio",
          "Medio",
          "Medio bajo",
          "Medio",
          "Medio alto",
          null,
          null,
          "Medio",
          null,
          "Alto",
          null,
          null,
          null,
          "Alto",
          "Alto",
          "Medio",
          null,
          "Medio",
          "Medio alto",
          null,
          "Medio bajo",
          null,
          null,
          null,
          null,
          "Medio alto",
          "Bajo",
          "Medio bajo",
          "Medio",
          "Medio",
          "Alto",
          "Alto",
          "Medio",
          "Alto",
          "Medio bajo",
          "Medio",
          "Alto",
          "Medio",
          "Medio bajo",
          "Medio",
          "Medio alto",
          "Alto",
          "Medio",
          "Medio bajo",
          "Bajo",
          "Medio bajo",
          "Medio alto",
          "Medio alto",
          null,
          "Medio",
          "Medio",
          "Alto",
          "Medio bajo",
          "Alto",
          "Alto",
          "Medio",
          "Medio bajo",
          null,
          "Alto",
          "Alto",
          "Medio bajo",
          "Medio",
          null,
          "Alto",
          null,
          "Medio alto",
          "Medio alto",
          null,
          "Medio",
          "Medio bajo",
          null,
          null,
          null,
          "Alto",
          "Medio alto",
          "Alto",
          "Medio bajo",
          "Medio bajo",
          "Medio",
          "Medio bajo",
          "Medio",
          "Medio alto",
          "Medio bajo",
          "Medio alto",
          "Alto",
          "Medio",
          "Alto",
          "Medio bajo",
          "Medio bajo",
          "Medio bajo",
          "Medio bajo",
          "Alto",
          "Alto",
          "Medio",
          "Medio",
          "Medio alto",
          "Alto",
          null,
          null,
          "Alto",
          "Alto",
          null,
          "Medio alto",
          null,
          "Medio bajo",
          "Medio",
          "Alto",
          "Medio alto",
          null,
          "Alto",
          "Alto",
          "Medio",
          "Alto",
          "Medio alto",
          "Medio alto",
          null,
          "Alto",
          "Alto",
          "Medio alto",
          null,
          "Medio alto",
          null,
          null,
          "Medio alto",
          null,
          "Medio bajo",
          "Medio",
          "Alto",
          "Medio alto",
          "Medio bajo",
          "Medio",
          "Medio alto",
          null,
          "Medio alto",
          "Medio bajo",
          null,
          "Medio bajo",
          null,
          "Medio alto",
          null,
          "Medio bajo",
          "Medio bajo",
          null,
          "Medio",
          null,
          null,
          "Medio bajo",
          "Alto",
          "Medio",
          "Medio",
          "Medio",
          null,
          "Alto",
          "Medio",
          null,
          "Medio alto",
          null,
          "Medio alto",
          "Medio alto",
          "Alto",
          "Alto",
          "Medio bajo",
          "Medio bajo",
          "Alto",
          "Alto",
          "Alto",
          "Medio",
          null,
          "Alto",
          null,
          "Medio alto",
          null,
          "Alto",
          "Alto",
          "Alto",
          "Alto",
          "Medio",
          "Medio",
          "Medio alto",
          "Medio alto",
          null,
          "Medio bajo",
          "Medio",
          null,
          null,
          null,
          "Medio",
          "Alto",
          "Medio bajo",
          "Alto",
          "Medio alto",
          null,
          "Medio alto",
          "Medio alto",
          "Alto",
          null,
          "Medio",
          "Alto",
          "Alto",
          null,
          null,
          "Medio",
          "Medio",
          "Medio bajo",
          "Medio bajo",
          null,
          null,
          null,
          null,
          "Medio bajo",
          null,
          "Medio bajo",
          "Medio",
          "Medio",
          null,
          "Medio alto",
          "Medio bajo",
          "Alto",
          "Alto",
          "Medio",
          "Alto",
          "Medio bajo",
          "Medio bajo",
          "Alto",
          "Alto",
          "Medio bajo",
          "Medio",
          "Bajo",
          "Alto",
          "Alto",
          "Alto",
          "Alto",
          "Alto",
          "Medio",
          null,
          "Medio alto",
          "Medio",
          "Medio",
          "Medio",
          "Medio alto",
          "Medio bajo",
          null,
          null,
          "Medio",
          "Medio bajo",
          "Bajo",
          null,
          "Medio",
          "Alto",
          "Alto",
          null,
          "Medio",
          "Medio bajo",
          null,
          "Medio",
          "Medio",
          "Medio bajo",
          "Alto",
          "Medio alto",
          "Medio alto",
          "Medio alto",
          null,
          "Alto",
          "Medio alto",
          "Medio",
          "Alto",
          "Medio bajo",
          "Alto",
          "Alto",
          "Medio alto",
          null,
          null,
          "Medio alto",
          "Alto",
          "Medio",
          null,
          "Medio alto",
          "Alto",
          "Alto",
          "Alto",
          "Alto",
          "Alto",
          "Medio",
          null,
          null,
          "Alto",
          "Alto",
          "Alto",
          null,
          "Medio bajo",
          null,
          "Medio alto",
          "Alto",
          "Medio bajo",
          null,
          "Medio",
          "Medio bajo",
          "Alto",
          "Medio alto",
          null,
          "Medio alto",
          "Alto",
          null,
          null,
          "Alto",
          "Medio bajo",
          "Medio",
          "Medio",
          "Alto",
          "Medio",
          "Medio",
          "Alto",
          "Alto",
          "Medio",
          "Medio alto",
          "Medio alto",
          "Medio bajo",
          "Medio bajo",
          "Medio",
          "Medio bajo",
          "Alto",
          "Medio alto",
          "Alto",
          "Alto",
          "Alto",
          "Medio alto",
          "Alto",
          null,
          "Alto",
          "Alto",
          "Medio",
          "Alto",
          "Medio",
          "Alto",
          "Alto",
          "Medio",
          "Medio",
          "Medio alto",
          "Alto",
          "Medio",
          "Medio alto",
          "Medio",
          "Medio alto",
          "Medio alto",
          "Alto",
          "Medio",
          "Medio alto",
          "Bajo",
          null,
          "Medio",
          "Medio alto",
          "Medio alto",
          "Medio alto",
          "Alto",
          "Medio",
          null,
          "Medio",
          null,
          "Alto",
          "Medio",
          "Medio",
          "Medio bajo",
          "Alto",
          "Alto",
          "Medio",
          "Alto",
          "Medio bajo",
          "Medio",
          "Bajo",
          "Medio",
          null,
          "Medio",
          "Alto",
          null,
          "Medio",
          "Alto",
          null,
          "Medio alto",
          "Medio bajo",
          "Medio alto",
          "Alto",
          "Medio",
          "Medio",
          null,
          null,
          "Medio",
          "Alto",
          "Medio",
          null,
          "Medio",
          "Medio",
          "Medio",
          "Alto",
          "Alto",
          "Medio",
          "Alto",
          null,
          "Medio alto",
          "Alto",
          "Alto",
          "Medio bajo",
          "Alto",
          "Alto",
          "Alto",
          null,
          "Medio alto",
          "Bajo",
          "Medio alto",
          "Medio alto",
          "Alto",
          null,
          "Medio alto",
          null,
          null,
          null,
          null,
          null,
          null,
          null,
          "Bajo",
          "Medio",
          "Medio",
          "Alto",
          "Alto",
          null,
          "Medio",
          "Medio",
          "Medio bajo",
          "Medio bajo",
          "Medio bajo",
          "Medio",
          "Medio",
          "Alto",
          null,
          "Alto",
          "Medio",
          "Alto",
          "Alto",
          "Medio",
          "Alto",
          "Medio",
          "Medio bajo",
          null,
          "Alto",
          "Medio alto",
          "Medio",
          "Alto",
          "Medio",
          "Medio alto",
          null,
          "Medio",
          null,
          "Medio",
          "Medio alto",
          "Medio bajo",
          "Alto",
          "Medio alto",
          "Alto",
          "Alto",
          "Medio bajo",
          "Medio alto",
          "Medio alto",
          "Medio bajo",
          null,
          "Medio",
          "Medio bajo",
          "Medio alto",
          "Medio alto",
          "Medio",
          "Medio alto",
          "Alto",
          "Medio",
          "Alto",
          "Alto",
          "Alto",
          null,
          "Medio alto",
          "Medio bajo",
          null,
          "Medio",
          "Medio",
          null,
          "Medio",
          "Alto",
          "Alto",
          "Alto",
          "Medio",
          "Alto",
          "Medio",
          "Alto",
          "Alto",
          "Medio",
          "Alto",
          "Alto",
          null,
          null,
          "Alto",
          "Alto",
          "Medio bajo",
          "Medio bajo",
          "Medio bajo",
          "Alto",
          "Medio",
          "Bajo",
          "Alto",
          null,
          "Alto",
          "Alto",
          null,
          "Medio bajo",
          null,
          null,
          null,
          "Medio alto",
          "Medio bajo",
          null,
          "Medio alto",
          null,
          "Medio",
          "Alto",
          "Medio",
          null,
          null,
          null,
          "Alto",
          "Medio bajo",
          "Medio",
          null,
          "Medio bajo",
          "Alto",
          "Medio",
          "Bajo",
          "Bajo",
          "Alto",
          "Medio",
          "Medio",
          "Medio",
          "Medio",
          "Alto",
          "Medio alto",
          "Alto",
          null,
          "Medio",
          null,
          null,
          "Medio",
          "Medio bajo",
          null,
          "Medio",
          null,
          "Medio bajo",
          "Medio alto",
          "Medio alto",
          "Alto",
          "Medio",
          "Medio",
          "Medio",
          "Medio bajo",
          "Medio bajo",
          "Medio bajo",
          "Medio bajo",
          "Alto",
          null,
          "Alto",
          "Medio alto",
          "Medio alto",
          "Bajo",
          null,
          "Alto",
          "Medio alto",
          "Medio",
          "Medio bajo",
          "Medio",
          null,
          null,
          "Alto",
          "Medio alto",
          "Medio",
          "Medio",
          "Medio bajo",
          "Medio bajo",
          "Medio",
          "Medio",
          "Medio",
          "Medio alto",
          "Alto",
          "Medio",
          "Alto",
          null,
          "Medio bajo",
          "Bajo",
          "Medio alto",
          "Medio",
          "Medio alto",
          "Bajo",
          "Medio",
          "Alto",
          "Alto",
          "Medio",
          "Medio bajo",
          "Medio bajo",
          "Medio",
          "Medio",
          "Alto",
          "Medio alto",
          "Medio alto",
          "Alto",
          "Alto",
          "Alto",
          "Alto",
          "Medio alto",
          null,
          "Alto",
          "Alto",
          "Medio bajo",
          null,
          null,
          "Alto",
          "Alto",
          null,
          "Medio",
          "Alto",
          "Alto",
          null,
          "Medio",
          "Alto",
          "Medio bajo",
          "Medio",
          null,
          null,
          "Medio bajo",
          null,
          "Medio bajo",
          "Medio",
          "Alto",
          "Alto",
          "Medio alto",
          "Medio alto",
          "Medio alto",
          "Medio alto",
          "Alto",
          "Alto",
          "Alto",
          "Alto",
          "Medio",
          "Alto",
          "Alto",
          "Medio",
          "Medio alto",
          "Medio alto",
          null,
          "Alto",
          "Medio bajo",
          "Medio",
          "Alto",
          "Medio",
          "Medio",
          "Alto",
          "Alto",
          "Alto",
          "Alto",
          "Medio",
          "Medio bajo",
          "Alto",
          "Alto",
          "Alto",
          "Alto",
          "Alto",
          "Alto",
          null,
          null,
          "Bajo",
          "Medio",
          "Medio",
          "Medio alto",
          "Alto",
          "Medio",
          "Medio alto",
          null,
          null,
          "Alto",
          "Medio",
          null,
          null,
          "Bajo",
          "Alto",
          null,
          null,
          "Alto",
          null,
          null,
          "Medio alto",
          null,
          "Medio alto",
          "Alto",
          "Medio bajo",
          "Alto",
          "Bajo",
          null,
          "Medio bajo",
          "Alto",
          "Medio alto",
          "Bajo",
          "Alto",
          "Medio",
          "Medio",
          "Medio alto",
          "Medio bajo",
          "Medio bajo",
          null,
          null,
          "Medio alto",
          "Medio bajo",
          "Alto",
          "Medio",
          "Alto",
          "Alto",
          "Medio alto",
          "Alto",
          "Medio",
          "Medio alto",
          null,
          "Medio alto",
          "Medio bajo",
          "Alto",
          "Medio",
          null,
          "Medio alto",
          "Medio",
          "Medio",
          null,
          null,
          "Medio alto",
          "Medio",
          "Medio alto",
          "Medio bajo",
          "Medio bajo",
          "Alto",
          "Alto",
          "Medio alto",
          "Medio bajo",
          "Medio bajo",
          "Alto",
          "Medio",
          "Medio alto",
          "Medio",
          "Medio bajo",
          "Medio",
          "Medio",
          "Medio alto",
          "Medio",
          "Alto",
          "Medio alto",
          "Bajo",
          "Alto",
          "Medio bajo",
          "Alto",
          "Alto",
          "Medio",
          "Bajo",
          "Alto",
          "Medio alto",
          "Medio bajo",
          "Medio",
          "Medio",
          "Alto",
          "Alto",
          "Alto",
          "Medio",
          "Alto",
          "Alto",
          "Medio bajo",
          "Medio alto",
          null,
          null,
          "Bajo",
          "Medio",
          "Medio",
          "Medio",
          "Medio alto",
          "Medio alto",
          null,
          "Medio bajo",
          "Medio bajo",
          "Medio bajo",
          "Medio bajo",
          "Alto",
          "Medio alto",
          null,
          "Medio bajo",
          null,
          null,
          "Medio alto",
          "Alto",
          "Medio alto",
          "Medio",
          "Medio",
          "Medio",
          "Medio",
          null,
          "Alto",
          null,
          "Bajo",
          "Medio",
          "Medio",
          "Medio alto",
          "Medio alto",
          "Alto",
          "Alto",
          null,
          null,
          "Medio alto",
          "Medio",
          "Medio",
          null,
          "Medio alto",
          "Alto",
          "Medio",
          "Medio alto",
          "Medio",
          "Alto",
          "Medio",
          "Medio",
          "Medio",
          null,
          "Medio bajo",
          null,
          null,
          null,
          null,
          null,
          null,
          null,
          "Medio alto",
          null,
          "Medio",
          "Medio",
          "Alto",
          "Medio alto",
          null,
          "Alto",
          "Medio bajo",
          "Medio",
          "Medio bajo",
          null,
          "Alto",
          null,
          "Alto",
          "Medio",
          "Bajo",
          "Medio bajo",
          "Alto",
          "Alto",
          null,
          null,
          null,
          null,
          "Alto",
          "Bajo",
          "Medio",
          "Medio",
          "Medio",
          null,
          "Medio bajo",
          "Alto",
          "Alto",
          "Alto",
          "Medio",
          "Alto",
          null,
          "Alto",
          "Alto",
          "Medio",
          "Medio alto",
          "Alto",
          "Medio bajo",
          null,
          null,
          null,
          "Medio",
          null,
          null,
          "Medio",
          null,
          "Medio alto",
          "Medio bajo",
          "Medio alto",
          "Alto",
          "Medio",
          "Medio",
          "Bajo",
          "Alto",
          "Alto",
          "Medio alto",
          "Medio",
          null,
          null,
          "Medio alto",
          "Medio bajo",
          "Alto",
          "Alto",
          "Medio",
          "Alto",
          null,
          "Alto",
          "Medio",
          "Alto",
          "Alto",
          "Medio",
          null,
          "Medio alto",
          null,
          null,
          "Alto",
          "Bajo",
          "Alto",
          "Bajo",
          null,
          "Medio bajo",
          null,
          "Alto",
          "Alto",
          "Alto",
          null,
          "Alto",
          null,
          "Medio",
          "Medio bajo",
          "Medio alto",
          null,
          "Bajo",
          "Medio alto",
          "Medio bajo",
          "Medio",
          null,
          "Medio bajo",
          "Alto",
          "Medio alto",
          "Medio",
          "Alto",
          null,
          "Medio bajo",
          "Alto",
          "Medio",
          "Medio bajo",
          null,
          "Medio bajo",
          null,
          "Alto",
          "Medio",
          "Medio alto",
          "Alto",
          "Medio",
          "Medio",
          "Medio",
          null,
          "Medio bajo",
          "Medio bajo",
          "Medio",
          "Medio",
          null,
          "Medio",
          "Alto",
          "Alto",
          "Medio alto",
          "Medio",
          "Alto",
          null,
          "Medio alto",
          "Medio bajo",
          null,
          "Medio bajo",
          "Alto",
          null,
          "Medio alto",
          "Medio alto",
          "Alto",
          "Medio alto",
          "Alto",
          "Medio alto",
          "Medio bajo",
          "Medio bajo",
          "Alto",
          "Alto",
          "Alto",
          "Medio alto",
          null,
          null,
          "Medio bajo",
          null,
          "Medio bajo",
          "Medio bajo",
          null,
          "Medio bajo",
          "Medio bajo",
          "Medio",
          "Bajo",
          null,
          null,
          null,
          "Bajo",
          "Medio alto",
          "Alto",
          "Medio",
          "Medio",
          "Medio alto",
          "Medio",
          "Medio",
          "Alto",
          null,
          "Alto",
          "Alto",
          "Alto",
          "Medio",
          "Medio bajo",
          "Medio bajo",
          "Medio bajo",
          "Medio bajo",
          "Medio",
          "Medio alto",
          "Alto",
          "Medio",
          null,
          null,
          "Alto",
          null,
          "Alto",
          "Alto",
          "Medio alto",
          "Medio alto",
          null,
          "Alto",
          "Medio alto",
          "Medio",
          "Medio",
          "Medio",
          "Alto",
          "Medio alto",
          "Medio",
          "Alto",
          "Alto",
          "Alto",
          "Alto",
          "Medio",
          "Alto",
          "Alto",
          null,
          "Bajo",
          null,
          "Medio bajo",
          "Medio",
          "Medio bajo",
          "Medio",
          "Medio",
          "Alto",
          null,
          "Medio",
          "Alto",
          "Medio alto",
          "Medio alto",
          "Medio alto",
          "Medio",
          "Alto",
          null,
          "Alto",
          null,
          "Medio alto",
          "Alto",
          "Alto",
          "Medio alto",
          null,
          null,
          null,
          "Alto",
          "Medio",
          "Medio alto",
          "Alto",
          null,
          null,
          "Medio alto",
          "Alto",
          "Medio",
          "Medio bajo",
          "Medio alto",
          "Medio bajo",
          "Medio bajo",
          "Medio bajo",
          "Medio",
          "Medio",
          "Medio bajo",
          "Alto",
          "Alto",
          "Medio",
          "Medio",
          "Medio bajo",
          "Medio",
          "Medio",
          "Medio",
          "Alto",
          "Medio",
          "Medio",
          "Alto",
          null,
          "Medio",
          "Medio",
          "Medio bajo",
          "Medio bajo",
          "Bajo",
          "Alto",
          "Medio alto",
          "Medio bajo",
          "Medio",
          "Medio bajo",
          "Alto",
          null,
          "Alto",
          null,
          "Alto",
          "Alto",
          "Alto",
          null,
          "Alto",
          "Medio alto",
          "Alto",
          "Alto",
          "Alto",
          "Medio alto",
          "Alto",
          "Medio bajo",
          "Medio",
          "Alto",
          "Medio alto",
          "Medio",
          null,
          "Alto",
          "Medio bajo",
          "Medio",
          "Alto",
          "Medio alto",
          "Alto",
          "Medio",
          "Medio alto",
          "Alto",
          "Medio alto",
          "Medio bajo",
          "Medio alto",
          "Alto",
          "Alto",
          "Medio alto",
          "Medio",
          null,
          "Medio",
          "Medio",
          "Alto",
          "Medio",
          null,
          "Alto",
          "Alto",
          "Medio alto",
          "Alto",
          "Medio",
          "Bajo",
          "Medio",
          "Alto",
          "Medio",
          "Alto",
          "Medio",
          "Alto",
          null,
          "Medio alto",
          "Medio alto",
          null,
          "Alto",
          "Alto",
          "Alto",
          "Medio alto",
          "Alto",
          "Alto",
          "Medio alto",
          "Alto",
          "Alto",
          "Alto",
          "Medio",
          "Medio",
          "Alto",
          "Medio bajo",
          "Medio",
          "Medio alto",
          "Medio",
          "Alto",
          "Medio alto",
          "Medio",
          "Medio",
          "Alto",
          "Bajo",
          null,
          null,
          "Medio",
          "Alto",
          null,
          "Alto",
          null,
          "Medio bajo",
          "Medio alto",
          null,
          "Alto",
          null,
          "Medio",
          "Alto",
          "Medio",
          "Alto",
          "Alto",
          "Alto",
          "Medio bajo",
          "Alto",
          null,
          "Medio",
          "Medio",
          null,
          "Medio",
          "Alto",
          "Medio bajo",
          null,
          "Alto",
          "Medio bajo",
          "Medio bajo",
          "Medio alto",
          "Alto",
          null,
          "Medio",
          "Medio",
          "Medio alto",
          "Medio bajo",
          "Medio",
          "Medio bajo",
          "Medio alto",
          "Alto",
          null,
          "Alto",
          "Medio bajo",
          "Medio",
          "Medio",
          "Alto",
          "Alto",
          "Medio",
          null,
          "Medio alto",
          null,
          "Alto",
          "Medio",
          "Medio bajo",
          null,
          "Medio",
          "Medio alto",
          "Medio bajo",
          "Medio",
          "Medio alto",
          "Alto",
          "Medio bajo",
          "Alto",
          "Medio",
          "Alto",
          "Medio alto",
          "Alto",
          "Medio",
          "Alto",
          "Medio",
          "Alto",
          "Medio bajo",
          "Alto",
          "Alto",
          "Medio alto",
          "Medio bajo",
          null,
          "Medio alto",
          "Medio",
          null,
          "Bajo",
          "Medio bajo",
          "Medio",
          "Medio",
          null,
          "Medio",
          "Medio",
          "Bajo",
          "Medio bajo",
          null,
          "Alto",
          null,
          "Medio",
          "Medio alto",
          "Medio",
          "Medio",
          "Medio",
          "Medio bajo",
          null,
          null,
          null,
          null,
          "Medio bajo",
          "Medio",
          "Medio alto",
          "Medio",
          "Medio",
          "Medio",
          "Medio alto",
          "Medio",
          null,
          "Medio",
          "Medio",
          "Medio bajo",
          null,
          "Medio alto",
          "Alto",
          "Medio",
          "Medio",
          "Alto",
          "Alto",
          "Medio",
          "Alto",
          "Medio",
          null,
          "Medio bajo",
          "Medio",
          null,
          "Alto",
          "Alto",
          null,
          "Medio",
          null,
          "Medio bajo",
          null,
          "Medio",
          "Alto",
          null,
          null,
          null,
          "Alto",
          "Medio",
          "Medio",
          "Medio alto",
          "Medio alto",
          "Alto",
          "Alto",
          "Alto",
          null,
          "Alto",
          "Bajo",
          "Medio bajo",
          "Alto",
          "Medio",
          "Alto",
          null,
          "Medio alto",
          "Medio",
          "Medio",
          "Medio",
          "Alto",
          "Medio",
          "Medio",
          "Medio alto",
          "Medio alto",
          "Alto",
          "Alto",
          "Alto",
          "Alto",
          null,
          null,
          null,
          null,
          null,
          "Medio",
          "Medio",
          "Medio bajo",
          "Medio",
          null,
          "Medio",
          "Alto",
          "Medio alto",
          "Medio alto",
          "Medio alto",
          "Alto",
          null,
          "Alto",
          "Medio",
          "Medio bajo",
          null,
          "Medio",
          null,
          "Medio",
          "Medio",
          "Medio",
          "Medio alto",
          "Medio alto",
          "Medio",
          "Alto",
          null,
          null,
          null,
          "Medio",
          null,
          "Alto",
          null,
          "Medio alto",
          "Alto",
          "Medio",
          null,
          null,
          "Medio",
          null,
          null,
          null,
          null,
          "Medio",
          "Alto",
          null,
          "Medio",
          "Alto",
          null,
          "Medio",
          "Medio",
          "Alto",
          "Medio bajo",
          "Medio bajo",
          "Bajo",
          "Alto",
          "Medio alto",
          "Medio bajo",
          "Alto",
          null,
          null,
          "Alto",
          "Medio bajo",
          "Medio alto",
          "Medio",
          null,
          "Medio",
          "Medio alto",
          "Medio",
          "Medio alto",
          null,
          "Medio",
          "Alto",
          "Medio",
          "Medio",
          "Medio alto",
          "Medio alto",
          "Alto",
          "Medio",
          "Alto",
          "Medio alto",
          "Medio alto",
          "Medio",
          "Alto",
          "Alto",
          "Alto",
          null,
          "Medio",
          "Medio bajo",
          "Alto",
          "Medio",
          null,
          "Medio bajo",
          "Medio",
          "Medio bajo",
          "Medio alto",
          "Medio alto",
          "Alto",
          "Medio",
          "Alto",
          "Medio",
          "Alto",
          "Alto",
          "Alto",
          "Medio bajo",
          "Alto",
          "Medio alto",
          "Alto",
          "Alto",
          null,
          "Medio alto",
          "Medio",
          "Alto",
          "Alto",
          "Medio bajo",
          "Alto",
          null,
          "Medio bajo",
          "Medio",
          "Medio bajo",
          null,
          null,
          null,
          "Medio alto",
          "Medio",
          "Medio",
          null,
          "Medio alto",
          "Medio bajo",
          "Medio alto",
          null,
          "Medio",
          null,
          null,
          "Medio bajo",
          "Medio",
          null,
          "Alto",
          "Medio alto",
          "Medio",
          "Medio alto",
          "Medio bajo",
          "Bajo",
          null,
          "Medio alto",
          "Alto",
          "Medio",
          null,
          null,
          "Medio bajo",
          "Medio",
          null,
          "Medio bajo",
          "Medio",
          "Medio alto",
          null,
          "Medio",
          null,
          "Medio",
          "Medio bajo",
          "Medio",
          "Alto",
          "Medio",
          null,
          "Medio",
          "Medio alto",
          "Medio",
          "Medio alto",
          null,
          "Medio alto",
          "Alto",
          "Medio",
          "Medio",
          "Medio",
          "Medio alto",
          "Medio alto",
          null,
          "Alto",
          "Alto",
          "Medio alto",
          "Medio alto",
          "Medio",
          "Medio alto",
          "Medio bajo",
          "Alto",
          "Medio alto",
          null,
          "Alto",
          null,
          null,
          null,
          null,
          "Medio bajo",
          "Medio bajo",
          "Medio",
          "Medio",
          null,
          "Medio bajo",
          "Alto",
          "Medio alto",
          "Alto",
          "Medio",
          "Medio",
          "Medio",
          "Medio",
          "Alto",
          "Alto",
          "Medio alto",
          "Medio",
          "Medio",
          "Medio bajo",
          null,
          "Medio bajo",
          "Medio bajo",
          "Medio alto",
          "Alto",
          "Medio alto",
          null,
          "Alto",
          "Alto",
          "Alto",
          "Alto",
          "Medio bajo",
          "Alto",
          "Alto",
          "Alto",
          "Medio bajo",
          "Medio",
          "Medio",
          "Alto",
          "Alto",
          "Medio bajo",
          null,
          "Alto",
          null,
          "Alto",
          "Alto",
          null,
          "Medio alto",
          "Medio alto",
          "Alto",
          "Bajo",
          "Medio",
          "Bajo",
          null,
          null,
          "Alto",
          null,
          "Alto",
          "Alto",
          "Alto",
          "Medio bajo",
          "Alto",
          null,
          "Medio alto",
          "Medio",
          "Medio",
          "Alto",
          "Alto",
          null,
          null,
          "Alto",
          "Alto",
          "Alto",
          "Alto",
          "Bajo",
          "Medio bajo",
          "Bajo",
          "Medio bajo",
          null,
          "Alto",
          "Alto",
          "Medio",
          "Medio",
          "Medio bajo",
          "Medio alto",
          null,
          "Medio",
          "Medio bajo",
          null,
          "Medio",
          "Medio",
          "Medio alto",
          "Alto",
          "Medio",
          "Medio",
          null,
          "Alto",
          "Medio",
          null,
          "Alto",
          "Alto",
          "Medio bajo",
          "Medio bajo",
          null,
          "Alto",
          "Alto",
          "Alto",
          "Alto",
          "Alto",
          "Medio",
          "Alto",
          "Medio alto",
          "Alto",
          "Medio",
          "Medio",
          "Medio bajo",
          "Medio",
          "Alto",
          "Alto",
          "Medio alto",
          "Alto",
          null,
          "Alto",
          null,
          "Medio",
          "Alto",
          "Alto",
          null,
          "Medio alto",
          "Medio",
          "Medio bajo",
          "Bajo",
          "Medio",
          "Alto",
          "Medio alto",
          "Alto",
          "Medio alto",
          "Alto",
          "Medio alto",
          "Alto",
          "Alto",
          "Alto",
          "Alto",
          "Medio alto",
          "Medio",
          "Medio",
          "Medio",
          null,
          "Alto",
          null,
          "Medio bajo",
          "Medio bajo",
          null,
          null,
          "Medio alto",
          null,
          "Medio alto",
          "Alto",
          "Alto",
          "Medio bajo",
          null,
          "Medio",
          null,
          null,
          "Bajo",
          null,
          "Medio bajo",
          "Alto",
          "Medio",
          "Alto",
          "Medio bajo",
          "Medio bajo",
          "Medio",
          null,
          "Medio bajo",
          "Medio alto",
          "Medio",
          "Medio alto",
          null,
          null,
          null,
          null,
          "Medio",
          "Alto",
          "Alto",
          "Alto",
          "Medio bajo",
          null,
          "Alto",
          "Medio",
          "Medio bajo",
          "Medio alto",
          "Alto",
          "Medio",
          null,
          "Medio bajo",
          "Alto",
          "Medio alto",
          "Medio",
          "Medio",
          "Alto",
          null,
          null,
          null,
          "Medio bajo",
          null,
          "Medio",
          "Medio",
          null,
          null,
          null,
          "Alto",
          null,
          null,
          "Medio",
          null,
          "Alto",
          null,
          null,
          "Medio",
          null,
          null,
          null,
          "Medio",
          null,
          null,
          null,
          null,
          "Alto",
          "Alto",
          "Medio",
          "Medio",
          "Medio bajo",
          "Medio",
          "Medio",
          "Medio",
          "Medio",
          "Medio",
          "Medio",
          "Alto",
          "Medio bajo",
          "Alto",
          null,
          "Medio bajo",
          "Medio",
          "Alto",
          "Medio alto",
          "Medio bajo",
          "Medio",
          "Medio bajo",
          null,
          "Medio",
          "Medio alto",
          "Alto",
          null,
          null,
          null,
          null,
          null,
          "Medio bajo",
          "Alto",
          null,
          null,
          null,
          "Medio bajo",
          null,
          "Medio alto",
          "Medio bajo",
          "Medio",
          "Medio bajo",
          "Medio bajo",
          "Bajo",
          null,
          "Medio alto",
          "Alto",
          null,
          "Alto",
          "Medio",
          "Medio",
          "Medio alto",
          "Alto",
          "Medio",
          "Alto",
          "Alto",
          "Bajo",
          "Medio alto",
          "Medio",
          "Medio",
          "Medio",
          null,
          "Medio alto",
          "Medio",
          null,
          null,
          "Medio alto",
          "Alto",
          "Alto",
          "Alto",
          null,
          "Alto",
          "Alto",
          "Medio",
          "Medio",
          "Medio bajo",
          "Medio alto",
          "Medio bajo",
          "Bajo",
          "Medio",
          "Bajo",
          "Medio alto",
          "Medio",
          null,
          "Medio alto",
          null,
          "Medio bajo",
          "Bajo",
          "Medio",
          "Bajo",
          "Alto",
          "Medio alto",
          null,
          "Alto",
          "Medio",
          "Medio alto",
          null,
          "Alto",
          "Medio alto",
          "Medio",
          null,
          null,
          "Medio bajo",
          "Alto",
          "Medio",
          "Medio bajo",
          "Alto",
          null,
          "Bajo",
          "Medio bajo",
          "Alto",
          "Alto",
          "Alto",
          "Medio alto",
          null,
          "Medio",
          "Medio",
          "Medio alto",
          "Bajo",
          null,
          null,
          "Medio alto",
          "Medio bajo",
          "Medio alto",
          "Medio alto",
          "Alto",
          "Alto",
          null,
          "Medio",
          "Medio bajo",
          "Alto",
          "Alto",
          "Medio alto",
          "Bajo",
          "Medio",
          "Alto",
          null,
          "Medio bajo",
          "Alto",
          "Alto",
          "Alto",
          "Medio alto",
          null,
          "Medio alto",
          null,
          "Alto",
          "Alto",
          "Alto",
          "Alto",
          "Medio bajo",
          null,
          null,
          null,
          null,
          "Alto",
          "Alto",
          "Alto",
          "Medio",
          null,
          "Medio bajo",
          "Medio alto",
          "Bajo",
          "Medio bajo",
          "Alto",
          null,
          null,
          "Alto",
          "Alto",
          null,
          "Medio",
          "Medio alto",
          "Medio",
          null,
          "Alto",
          "Medio bajo",
          "Medio alto",
          "Medio alto",
          "Medio bajo",
          null,
          "Medio bajo",
          "Alto",
          "Medio bajo",
          "Bajo",
          null,
          "Alto",
          "Medio alto",
          "Medio alto",
          "Alto",
          "Alto",
          "Medio",
          "Alto",
          "Medio bajo",
          "Medio",
          "Alto",
          "Medio bajo",
          null,
          "Medio",
          "Alto",
          "Medio",
          "Alto",
          "Medio bajo",
          null,
          "Medio",
          "Medio bajo",
          null,
          null,
          "Medio",
          null,
          null,
          "Bajo",
          "Medio bajo",
          "Alto",
          null,
          "Alto",
          "Medio alto",
          "Alto",
          "Medio",
          null,
          "Medio",
          "Medio alto",
          "Medio alto",
          "Alto",
          "Medio bajo",
          "Alto",
          "Alto",
          null,
          "Alto",
          null,
          "Alto",
          "Alto",
          "Alto",
          "Alto",
          "Alto",
          "Medio",
          "Medio alto",
          "Medio",
          "Alto",
          "Alto",
          null,
          null,
          "Alto",
          null,
          "Alto",
          "Medio bajo",
          "Medio bajo",
          "Alto",
          "Medio",
          "Alto",
          "Medio bajo",
          "Medio",
          "Medio",
          "Alto",
          "Alto",
          "Medio",
          "Alto",
          "Alto",
          "Medio",
          "Medio alto",
          "Medio",
          "Alto",
          "Alto",
          "Alto",
          "Alto",
          null,
          "Medio",
          "Alto",
          "Medio alto",
          "Medio bajo",
          null,
          "Medio",
          "Alto",
          null,
          "Alto",
          "Medio bajo",
          null,
          "Alto",
          null,
          "Alto",
          "Alto",
          "Alto",
          "Alto",
          "Medio",
          "Alto",
          "Medio bajo",
          "Medio alto",
          "Alto",
          "Medio alto",
          "Alto",
          "Medio bajo",
          "Medio alto",
          "Medio alto",
          "Alto",
          "Alto",
          "Medio",
          "Bajo",
          "Medio",
          "Alto",
          "Medio alto",
          null,
          "Alto",
          "Medio alto",
          "Medio",
          "Medio",
          "Alto",
          "Alto",
          null,
          null,
          "Alto",
          "Medio",
          "Medio alto",
          null,
          null,
          "Alto",
          "Alto",
          null,
          "Alto",
          "Alto",
          "Alto",
          "Alto",
          "Medio alto",
          "Alto",
          "Alto",
          null,
          null,
          "Medio",
          null,
          "Medio",
          "Medio bajo",
          "Medio",
          "Alto",
          null,
          "Alto",
          "Medio",
          "Alto",
          "Alto",
          "Alto",
          "Alto",
          null,
          "Medio bajo",
          "Alto",
          null,
          null,
          "Medio",
          "Alto",
          "Medio",
          "Alto",
          "Alto",
          "Alto",
          "Medio",
          "Medio bajo",
          "Medio",
          "Medio bajo",
          "Alto",
          "Medio alto",
          "Alto",
          "Medio",
          null,
          null,
          "Medio",
          "Medio",
          null,
          "Medio",
          "Alto",
          "Alto",
          "Alto",
          "Medio",
          "Alto",
          "Medio",
          "Alto",
          "Medio alto",
          "Alto",
          "Medio alto",
          "Medio alto",
          "Alto",
          "Medio",
          "Medio",
          "Medio",
          null,
          "Alto",
          "Medio bajo",
          "Medio alto",
          "Medio alto",
          null,
          "Medio bajo",
          "Alto",
          "Alto",
          "Alto",
          "Alto",
          "Medio alto",
          "Medio alto",
          "Medio bajo",
          "Medio alto",
          "Medio",
          "Alto",
          "Medio alto",
          "Medio",
          "Alto",
          "Medio",
          "Medio bajo",
          "Medio alto",
          null,
          "Medio alto",
          "Alto",
          null,
          "Medio",
          "Medio alto",
          "Alto",
          "Alto",
          "Alto",
          "Medio alto",
          "Medio",
          "Medio alto",
          "Medio",
          null,
          null,
          "Alto",
          "Alto",
          "Alto",
          "Alto",
          null,
          null,
          "Bajo",
          "Medio bajo",
          null,
          "Medio bajo",
          "Alto",
          "Medio alto",
          "Medio",
          "Medio",
          "Medio",
          null,
          "Medio bajo",
          "Medio",
          "Medio alto",
          "Alto",
          null,
          "Medio",
          "Medio alto",
          "Alto",
          "Alto",
          "Alto",
          null,
          "Alto",
          null,
          "Medio bajo",
          "Medio",
          "Medio bajo",
          "Alto",
          "Medio alto",
          null,
          "Alto",
          null,
          "Alto",
          null,
          "Medio alto",
          null,
          "Alto",
          null,
          null,
          null,
          "Alto",
          "Medio",
          "Medio",
          "Medio",
          "Medio",
          "Medio",
          "Medio alto",
          "Medio alto",
          "Medio alto",
          "Medio alto",
          "Medio",
          "Medio bajo",
          "Medio",
          "Alto",
          "Medio",
          "Medio",
          "Medio bajo",
          "Bajo",
          "Medio",
          "Alto",
          "Medio",
          "Medio",
          "Medio bajo",
          "Medio",
          null,
          "Medio alto",
          null,
          "Medio alto",
          "Medio alto",
          null,
          "Alto",
          "Medio",
          "Medio",
          "Medio",
          "Medio alto",
          "Medio",
          "Medio",
          null,
          "Alto",
          "Alto",
          "Medio alto",
          null,
          "Alto",
          null,
          "Medio",
          "Alto",
          "Alto",
          "Alto",
          "Alto",
          "Medio alto",
          null,
          null,
          null,
          "Alto",
          "Medio bajo",
          null,
          "Alto",
          "Medio bajo",
          "Medio bajo",
          null,
          "Medio bajo",
          "Medio",
          "Medio alto",
          null,
          null,
          "Alto",
          null,
          "Medio",
          null,
          "Medio alto",
          "Medio",
          "Medio bajo",
          "Medio",
          "Alto",
          "Medio bajo",
          "Alto",
          null,
          null,
          "Alto",
          "Alto",
          "Alto",
          "Alto",
          "Medio bajo",
          "Alto",
          "Alto",
          "Medio alto",
          "Alto",
          "Alto",
          "Medio",
          null,
          "Medio",
          "Alto",
          null,
          null,
          "Medio bajo",
          "Medio bajo",
          "Alto",
          "Alto",
          "Medio alto",
          "Alto",
          "Medio",
          "Alto",
          "Alto",
          "Medio",
          "Alto",
          "Medio",
          "Alto",
          null,
          "Alto",
          "Alto",
          "Alto",
          "Alto",
          "Alto",
          null,
          "Medio",
          "Alto",
          null,
          "Alto",
          "Medio alto",
          "Medio bajo",
          "Medio",
          null,
          "Medio",
          "Medio",
          "Medio",
          "Alto",
          null,
          "Alto",
          "Alto",
          null,
          "Alto",
          "Medio alto",
          "Alto",
          "Medio bajo",
          "Medio",
          "Bajo",
          "Bajo",
          "Medio",
          "Alto",
          "Medio bajo",
          "Medio",
          "Alto",
          null,
          null,
          null,
          "Medio",
          "Medio alto",
          null,
          "Medio",
          "Alto",
          "Medio",
          "Medio bajo",
          "Medio",
          "Medio bajo",
          "Medio",
          null,
          "Medio bajo",
          "Medio bajo",
          "Medio bajo",
          "Medio alto",
          "Medio alto",
          "Medio alto",
          "Medio",
          null,
          "Medio",
          "Medio bajo",
          null,
          "Medio alto",
          null,
          "Alto",
          "Alto",
          "Medio alto",
          "Bajo",
          "Medio",
          "Medio alto",
          "Medio alto",
          null,
          null,
          null,
          null,
          null,
          "Medio bajo",
          "Alto",
          "Medio",
          null,
          "Medio",
          "Alto",
          "Medio alto",
          "Medio",
          "Alto",
          "Alto",
          "Bajo",
          "Alto",
          "Medio bajo",
          "Alto",
          "Medio",
          "Medio bajo",
          "Medio",
          "Medio",
          "Alto",
          "Medio alto",
          "Medio bajo",
          "Medio alto",
          "Medio",
          "Medio alto",
          null,
          null,
          "Medio bajo",
          "Alto",
          "Alto",
          "Medio",
          "Medio bajo",
          "Medio bajo",
          "Medio",
          "Alto",
          "Alto",
          "Medio bajo",
          "Bajo",
          "Medio alto",
          "Medio",
          "Alto",
          "Medio",
          "Medio",
          "Medio alto",
          "Alto",
          "Medio alto",
          "Medio alto",
          "Medio",
          "Medio alto",
          "Alto",
          "Medio",
          "Medio",
          "Medio",
          "Alto",
          "Alto",
          "Medio bajo",
          "Alto",
          "Medio",
          "Medio",
          "Medio alto",
          null,
          "Alto",
          "Alto",
          "Alto",
          "Medio",
          "Medio alto",
          null,
          "Medio bajo",
          "Medio alto",
          null,
          null,
          "Medio bajo",
          null,
          "Alto",
          "Alto",
          "Medio bajo",
          "Medio alto",
          null,
          "Medio bajo",
          "Alto",
          "Alto",
          "Medio alto",
          "Medio alto",
          null,
          "Alto",
          "Medio",
          "Medio alto",
          "Alto",
          "Alto",
          "Medio alto",
          "Medio",
          "Medio",
          null,
          "Medio bajo",
          "Medio bajo",
          null,
          "Alto",
          "Alto",
          null,
          "Alto",
          "Alto",
          "Alto",
          "Alto",
          "Medio alto",
          null,
          "Medio alto",
          "Medio bajo",
          "Medio alto",
          null,
          "Medio alto",
          null,
          "Medio bajo",
          "Medio alto",
          "Medio bajo",
          "Bajo",
          "Medio",
          "Medio",
          "Medio",
          "Medio bajo",
          null,
          "Alto",
          "Medio bajo",
          "Alto",
          "Medio",
          "Medio bajo",
          "Medio",
          "Alto",
          null,
          "Bajo",
          "Alto",
          "Medio bajo",
          null,
          null,
          "Medio alto",
          "Alto",
          "Medio alto",
          "Medio bajo",
          "Medio",
          "Alto",
          "Medio alto",
          "Medio alto",
          "Medio",
          "Alto",
          "Medio bajo",
          null,
          "Medio",
          "Alto",
          "Medio alto",
          "Medio alto",
          "Alto",
          "Medio alto",
          "Alto",
          "Medio",
          "Medio alto",
          "Medio bajo",
          "Medio",
          "Medio alto",
          "Alto",
          "Medio",
          "Alto",
          null,
          null,
          "Alto",
          "Medio alto",
          "Medio alto",
          "Medio",
          "Alto",
          "Bajo",
          "Medio alto",
          "Medio",
          null,
          "Alto",
          "Medio bajo",
          "Alto",
          "Medio",
          "Bajo",
          "Medio alto",
          "Medio bajo",
          "Medio",
          "Alto",
          "Medio alto",
          "Medio bajo",
          null,
          "Medio bajo",
          null,
          "Medio",
          "Medio alto",
          null,
          "Medio",
          null,
          "Alto",
          "Alto",
          "Bajo",
          null,
          "Alto",
          "Medio bajo",
          "Medio",
          "Medio",
          "Medio",
          "Medio",
          "Alto",
          "Medio",
          "Alto",
          "Alto",
          "Alto",
          "Medio",
          null,
          "Medio bajo",
          "Alto",
          null,
          null,
          null,
          "Medio bajo",
          "Alto",
          "Medio alto",
          "Alto",
          "Medio alto",
          "Alto",
          null,
          null,
          null,
          null,
          "Alto",
          "Alto",
          null,
          null,
          "Medio bajo",
          "Medio",
          null,
          "Medio bajo",
          "Medio",
          "Alto",
          "Medio bajo",
          "Medio alto",
          "Medio",
          "Alto",
          null,
          null,
          "Medio",
          null,
          "Medio bajo",
          "Alto",
          null,
          "Medio alto",
          null,
          "Medio alto",
          null,
          null,
          "Bajo",
          "Medio bajo",
          null,
          "Medio bajo",
          "Alto",
          "Medio",
          "Medio",
          "Medio bajo",
          null,
          "Alto",
          "Medio bajo",
          "Medio bajo",
          "Medio alto",
          "Medio",
          null,
          "Medio",
          null,
          "Medio",
          "Medio alto",
          "Medio bajo",
          null,
          "Medio",
          null,
          "Medio alto",
          "Medio bajo",
          "Bajo",
          "Alto",
          "Alto",
          "Medio bajo",
          "Alto",
          "Medio alto",
          "Medio",
          "Medio alto",
          "Medio alto",
          "Alto",
          "Medio alto",
          null,
          null,
          null,
          null,
          "Alto",
          null,
          "Medio alto",
          "Medio alto",
          null,
          "Medio bajo",
          null,
          "Medio bajo",
          "Bajo",
          "Medio bajo",
          null,
          "Medio",
          "Alto",
          "Alto",
          "Medio",
          "Medio alto",
          "Medio",
          "Medio bajo",
          "Medio alto",
          "Medio bajo",
          "Medio",
          "Medio alto",
          "Medio alto",
          "Medio alto",
          "Medio",
          "Alto",
          "Medio",
          "Alto",
          "Alto",
          "Bajo",
          null,
          null,
          "Medio bajo",
          "Medio",
          "Medio",
          "Medio alto",
          "Bajo",
          "Medio",
          "Alto",
          "Alto",
          "Alto",
          "Medio bajo",
          "Medio bajo",
          "Medio",
          "Medio alto",
          null,
          "Medio alto",
          "Alto",
          "Medio alto",
          "Alto",
          "Alto",
          "Alto",
          "Alto",
          "Alto",
          "Medio",
          "Medio bajo",
          "Medio alto",
          "Alto",
          "Medio",
          "Alto",
          "Medio alto",
          "Medio",
          "Alto",
          "Medio",
          null,
          "Medio bajo",
          "Alto",
          "Alto",
          "Alto",
          null,
          "Medio",
          "Alto",
          "Medio",
          "Alto",
          "Alto",
          "Medio bajo",
          "Medio",
          "Medio",
          "Alto",
          null,
          null,
          null,
          "Alto",
          "Medio alto",
          null,
          "Alto",
          "Alto",
          "Medio",
          "Medio",
          "Alto",
          "Bajo",
          "Medio bajo",
          "Medio",
          "Medio bajo",
          "Bajo",
          "Alto",
          null,
          null,
          "Medio alto",
          "Alto",
          "Alto",
          "Medio alto",
          "Medio alto",
          null,
          "Medio bajo",
          null,
          "Medio",
          "Alto",
          "Medio alto",
          "Medio alto",
          "Medio bajo",
          "Medio bajo",
          null,
          null,
          "Alto",
          "Alto",
          null,
          "Medio alto",
          "Medio",
          "Medio alto",
          "Medio alto",
          "Medio",
          null,
          null,
          "Bajo",
          "Alto",
          "Bajo",
          null,
          null,
          "Medio alto",
          "Medio alto",
          null,
          "Alto",
          "Alto",
          "Alto",
          "Medio",
          "Medio",
          null,
          "Medio alto",
          null,
          null,
          "Medio",
          "Alto",
          null,
          "Alto",
          "Medio alto",
          "Alto",
          "Medio",
          "Medio alto",
          "Alto",
          "Medio",
          null,
          "Alto",
          "Medio alto",
          "Alto",
          "Alto",
          "Medio alto",
          "Medio alto",
          "Medio alto",
          "Medio",
          "Alto",
          null,
          "Alto",
          "Medio",
          "Medio bajo",
          null,
          "Medio alto",
          "Medio bajo",
          "Medio",
          "Medio",
          "Medio alto",
          "Alto",
          "Medio",
          "Medio",
          "Alto",
          "Medio",
          "Alto",
          "Medio bajo",
          "Alto",
          null,
          "Medio alto",
          "Medio",
          "Medio",
          "Medio",
          "Medio alto",
          "Medio",
          "Medio bajo",
          null,
          "Alto",
          "Medio bajo",
          "Medio",
          "Alto",
          "Alto",
          "Alto",
          "Alto",
          "Alto",
          "Medio",
          "Medio bajo",
          null,
          null,
          "Alto",
          "Alto",
          "Alto",
          "Medio",
          "Medio bajo",
          "Alto",
          "Medio alto",
          "Alto",
          "Medio bajo",
          null,
          "Medio",
          "Medio",
          "Medio bajo",
          "Medio alto",
          "Alto",
          "Medio alto",
          "Alto",
          "Medio",
          "Alto",
          "Alto",
          "Medio alto",
          "Medio alto",
          "Medio bajo",
          "Medio",
          "Medio",
          "Medio alto",
          "Medio bajo",
          "Alto",
          null,
          "Medio alto",
          "Medio bajo",
          null,
          "Medio alto",
          "Medio",
          "Medio",
          null,
          "Alto",
          "Alto",
          "Alto",
          "Medio",
          null,
          "Alto",
          "Alto",
          "Medio",
          "Alto",
          "Alto",
          "Alto",
          "Medio bajo",
          "Medio",
          null,
          "Alto",
          "Alto",
          "Medio bajo",
          "Alto",
          "Alto",
          "Medio",
          "Medio",
          "Medio bajo",
          "Alto",
          "Medio",
          null,
          "Alto",
          "Medio bajo",
          "Medio",
          null,
          "Alto",
          "Medio bajo",
          "Medio alto",
          null,
          null,
          "Alto",
          "Medio",
          "Medio alto",
          "Medio",
          "Medio bajo",
          "Medio",
          "Alto",
          "Alto",
          "Medio",
          "Medio bajo",
          "Alto",
          "Alto",
          null,
          "Alto",
          null,
          "Alto",
          "Medio",
          "Medio alto",
          null,
          null,
          null,
          "Alto",
          "Medio",
          "Alto",
          "Alto",
          "Alto",
          "Medio alto",
          "Alto",
          "Alto",
          null,
          "Alto",
          null,
          "Alto",
          "Alto",
          "Alto",
          "Medio alto",
          "Alto",
          "Alto",
          "Medio alto",
          "Medio bajo",
          null,
          "Medio bajo",
          "Medio alto",
          "Medio bajo",
          "Alto",
          "Alto",
          "Medio bajo",
          "Alto",
          "Alto",
          "Medio alto",
          null,
          "Medio bajo",
          null,
          "Medio",
          "Alto",
          null,
          "Medio",
          "Alto",
          "Medio alto",
          "Medio bajo",
          "Medio bajo",
          null,
          null,
          "Medio bajo",
          "Bajo",
          "Medio",
          "Alto",
          "Medio bajo",
          "Medio alto",
          null,
          "Medio",
          "Alto",
          "Medio alto",
          "Alto",
          "Alto",
          null,
          "Alto",
          "Alto",
          null,
          "Medio alto",
          "Alto",
          "Alto",
          null,
          "Alto",
          "Medio alto",
          "Medio",
          "Medio",
          "Medio",
          "Medio",
          "Alto",
          "Medio",
          "Medio alto",
          "Medio",
          "Medio",
          "Medio bajo",
          "Medio bajo",
          "Medio",
          "Bajo",
          "Medio bajo",
          "Alto",
          "Alto",
          "Medio alto",
          "Medio alto",
          "Medio alto",
          "Medio",
          "Medio alto",
          "Medio alto",
          "Medio bajo",
          null,
          "Alto",
          "Medio bajo",
          "Medio bajo",
          "Medio alto",
          "Bajo",
          "Medio alto",
          null,
          null,
          "Alto",
          "Medio alto",
          null,
          null,
          null,
          "Medio bajo",
          "Medio",
          null,
          "Medio bajo",
          "Medio",
          null,
          "Medio bajo",
          "Medio",
          null,
          "Alto",
          "Medio",
          "Medio alto",
          "Alto",
          "Alto",
          "Alto",
          "Medio",
          "Medio alto",
          "Alto",
          "Medio alto",
          "Medio",
          "Medio alto",
          "Medio alto",
          null,
          null,
          null,
          null,
          "Alto",
          null,
          "Medio bajo",
          "Medio bajo",
          "Medio",
          null,
          "Medio alto",
          "Medio",
          "Medio",
          "Medio alto",
          null,
          "Bajo",
          "Medio",
          null,
          "Bajo",
          "Medio alto",
          "Medio bajo",
          "Medio bajo",
          null,
          null,
          null,
          null,
          null,
          "Medio bajo",
          "Medio bajo",
          null,
          null
         ],
         "xaxis": "x",
         "yaxis": "y"
        }
       ],
       "layout": {
        "barmode": "relative",
        "legend": {
         "tracegroupgap": 0
        },
        "template": {
         "data": {
          "bar": [
           {
            "error_x": {
             "color": "#2a3f5f"
            },
            "error_y": {
             "color": "#2a3f5f"
            },
            "marker": {
             "line": {
              "color": "#E5ECF6",
              "width": 0.5
             },
             "pattern": {
              "fillmode": "overlay",
              "size": 10,
              "solidity": 0.2
             }
            },
            "type": "bar"
           }
          ],
          "barpolar": [
           {
            "marker": {
             "line": {
              "color": "#E5ECF6",
              "width": 0.5
             },
             "pattern": {
              "fillmode": "overlay",
              "size": 10,
              "solidity": 0.2
             }
            },
            "type": "barpolar"
           }
          ],
          "carpet": [
           {
            "aaxis": {
             "endlinecolor": "#2a3f5f",
             "gridcolor": "white",
             "linecolor": "white",
             "minorgridcolor": "white",
             "startlinecolor": "#2a3f5f"
            },
            "baxis": {
             "endlinecolor": "#2a3f5f",
             "gridcolor": "white",
             "linecolor": "white",
             "minorgridcolor": "white",
             "startlinecolor": "#2a3f5f"
            },
            "type": "carpet"
           }
          ],
          "choropleth": [
           {
            "colorbar": {
             "outlinewidth": 0,
             "ticks": ""
            },
            "type": "choropleth"
           }
          ],
          "contour": [
           {
            "colorbar": {
             "outlinewidth": 0,
             "ticks": ""
            },
            "colorscale": [
             [
              0,
              "#0d0887"
             ],
             [
              0.1111111111111111,
              "#46039f"
             ],
             [
              0.2222222222222222,
              "#7201a8"
             ],
             [
              0.3333333333333333,
              "#9c179e"
             ],
             [
              0.4444444444444444,
              "#bd3786"
             ],
             [
              0.5555555555555556,
              "#d8576b"
             ],
             [
              0.6666666666666666,
              "#ed7953"
             ],
             [
              0.7777777777777778,
              "#fb9f3a"
             ],
             [
              0.8888888888888888,
              "#fdca26"
             ],
             [
              1,
              "#f0f921"
             ]
            ],
            "type": "contour"
           }
          ],
          "contourcarpet": [
           {
            "colorbar": {
             "outlinewidth": 0,
             "ticks": ""
            },
            "type": "contourcarpet"
           }
          ],
          "heatmap": [
           {
            "colorbar": {
             "outlinewidth": 0,
             "ticks": ""
            },
            "colorscale": [
             [
              0,
              "#0d0887"
             ],
             [
              0.1111111111111111,
              "#46039f"
             ],
             [
              0.2222222222222222,
              "#7201a8"
             ],
             [
              0.3333333333333333,
              "#9c179e"
             ],
             [
              0.4444444444444444,
              "#bd3786"
             ],
             [
              0.5555555555555556,
              "#d8576b"
             ],
             [
              0.6666666666666666,
              "#ed7953"
             ],
             [
              0.7777777777777778,
              "#fb9f3a"
             ],
             [
              0.8888888888888888,
              "#fdca26"
             ],
             [
              1,
              "#f0f921"
             ]
            ],
            "type": "heatmap"
           }
          ],
          "heatmapgl": [
           {
            "colorbar": {
             "outlinewidth": 0,
             "ticks": ""
            },
            "colorscale": [
             [
              0,
              "#0d0887"
             ],
             [
              0.1111111111111111,
              "#46039f"
             ],
             [
              0.2222222222222222,
              "#7201a8"
             ],
             [
              0.3333333333333333,
              "#9c179e"
             ],
             [
              0.4444444444444444,
              "#bd3786"
             ],
             [
              0.5555555555555556,
              "#d8576b"
             ],
             [
              0.6666666666666666,
              "#ed7953"
             ],
             [
              0.7777777777777778,
              "#fb9f3a"
             ],
             [
              0.8888888888888888,
              "#fdca26"
             ],
             [
              1,
              "#f0f921"
             ]
            ],
            "type": "heatmapgl"
           }
          ],
          "histogram": [
           {
            "marker": {
             "pattern": {
              "fillmode": "overlay",
              "size": 10,
              "solidity": 0.2
             }
            },
            "type": "histogram"
           }
          ],
          "histogram2d": [
           {
            "colorbar": {
             "outlinewidth": 0,
             "ticks": ""
            },
            "colorscale": [
             [
              0,
              "#0d0887"
             ],
             [
              0.1111111111111111,
              "#46039f"
             ],
             [
              0.2222222222222222,
              "#7201a8"
             ],
             [
              0.3333333333333333,
              "#9c179e"
             ],
             [
              0.4444444444444444,
              "#bd3786"
             ],
             [
              0.5555555555555556,
              "#d8576b"
             ],
             [
              0.6666666666666666,
              "#ed7953"
             ],
             [
              0.7777777777777778,
              "#fb9f3a"
             ],
             [
              0.8888888888888888,
              "#fdca26"
             ],
             [
              1,
              "#f0f921"
             ]
            ],
            "type": "histogram2d"
           }
          ],
          "histogram2dcontour": [
           {
            "colorbar": {
             "outlinewidth": 0,
             "ticks": ""
            },
            "colorscale": [
             [
              0,
              "#0d0887"
             ],
             [
              0.1111111111111111,
              "#46039f"
             ],
             [
              0.2222222222222222,
              "#7201a8"
             ],
             [
              0.3333333333333333,
              "#9c179e"
             ],
             [
              0.4444444444444444,
              "#bd3786"
             ],
             [
              0.5555555555555556,
              "#d8576b"
             ],
             [
              0.6666666666666666,
              "#ed7953"
             ],
             [
              0.7777777777777778,
              "#fb9f3a"
             ],
             [
              0.8888888888888888,
              "#fdca26"
             ],
             [
              1,
              "#f0f921"
             ]
            ],
            "type": "histogram2dcontour"
           }
          ],
          "mesh3d": [
           {
            "colorbar": {
             "outlinewidth": 0,
             "ticks": ""
            },
            "type": "mesh3d"
           }
          ],
          "parcoords": [
           {
            "line": {
             "colorbar": {
              "outlinewidth": 0,
              "ticks": ""
             }
            },
            "type": "parcoords"
           }
          ],
          "pie": [
           {
            "automargin": true,
            "type": "pie"
           }
          ],
          "scatter": [
           {
            "fillpattern": {
             "fillmode": "overlay",
             "size": 10,
             "solidity": 0.2
            },
            "type": "scatter"
           }
          ],
          "scatter3d": [
           {
            "line": {
             "colorbar": {
              "outlinewidth": 0,
              "ticks": ""
             }
            },
            "marker": {
             "colorbar": {
              "outlinewidth": 0,
              "ticks": ""
             }
            },
            "type": "scatter3d"
           }
          ],
          "scattercarpet": [
           {
            "marker": {
             "colorbar": {
              "outlinewidth": 0,
              "ticks": ""
             }
            },
            "type": "scattercarpet"
           }
          ],
          "scattergeo": [
           {
            "marker": {
             "colorbar": {
              "outlinewidth": 0,
              "ticks": ""
             }
            },
            "type": "scattergeo"
           }
          ],
          "scattergl": [
           {
            "marker": {
             "colorbar": {
              "outlinewidth": 0,
              "ticks": ""
             }
            },
            "type": "scattergl"
           }
          ],
          "scattermapbox": [
           {
            "marker": {
             "colorbar": {
              "outlinewidth": 0,
              "ticks": ""
             }
            },
            "type": "scattermapbox"
           }
          ],
          "scatterpolar": [
           {
            "marker": {
             "colorbar": {
              "outlinewidth": 0,
              "ticks": ""
             }
            },
            "type": "scatterpolar"
           }
          ],
          "scatterpolargl": [
           {
            "marker": {
             "colorbar": {
              "outlinewidth": 0,
              "ticks": ""
             }
            },
            "type": "scatterpolargl"
           }
          ],
          "scatterternary": [
           {
            "marker": {
             "colorbar": {
              "outlinewidth": 0,
              "ticks": ""
             }
            },
            "type": "scatterternary"
           }
          ],
          "surface": [
           {
            "colorbar": {
             "outlinewidth": 0,
             "ticks": ""
            },
            "colorscale": [
             [
              0,
              "#0d0887"
             ],
             [
              0.1111111111111111,
              "#46039f"
             ],
             [
              0.2222222222222222,
              "#7201a8"
             ],
             [
              0.3333333333333333,
              "#9c179e"
             ],
             [
              0.4444444444444444,
              "#bd3786"
             ],
             [
              0.5555555555555556,
              "#d8576b"
             ],
             [
              0.6666666666666666,
              "#ed7953"
             ],
             [
              0.7777777777777778,
              "#fb9f3a"
             ],
             [
              0.8888888888888888,
              "#fdca26"
             ],
             [
              1,
              "#f0f921"
             ]
            ],
            "type": "surface"
           }
          ],
          "table": [
           {
            "cells": {
             "fill": {
              "color": "#EBF0F8"
             },
             "line": {
              "color": "white"
             }
            },
            "header": {
             "fill": {
              "color": "#C8D4E3"
             },
             "line": {
              "color": "white"
             }
            },
            "type": "table"
           }
          ]
         },
         "layout": {
          "annotationdefaults": {
           "arrowcolor": "#2a3f5f",
           "arrowhead": 0,
           "arrowwidth": 1
          },
          "autotypenumbers": "strict",
          "coloraxis": {
           "colorbar": {
            "outlinewidth": 0,
            "ticks": ""
           }
          },
          "colorscale": {
           "diverging": [
            [
             0,
             "#8e0152"
            ],
            [
             0.1,
             "#c51b7d"
            ],
            [
             0.2,
             "#de77ae"
            ],
            [
             0.3,
             "#f1b6da"
            ],
            [
             0.4,
             "#fde0ef"
            ],
            [
             0.5,
             "#f7f7f7"
            ],
            [
             0.6,
             "#e6f5d0"
            ],
            [
             0.7,
             "#b8e186"
            ],
            [
             0.8,
             "#7fbc41"
            ],
            [
             0.9,
             "#4d9221"
            ],
            [
             1,
             "#276419"
            ]
           ],
           "sequential": [
            [
             0,
             "#0d0887"
            ],
            [
             0.1111111111111111,
             "#46039f"
            ],
            [
             0.2222222222222222,
             "#7201a8"
            ],
            [
             0.3333333333333333,
             "#9c179e"
            ],
            [
             0.4444444444444444,
             "#bd3786"
            ],
            [
             0.5555555555555556,
             "#d8576b"
            ],
            [
             0.6666666666666666,
             "#ed7953"
            ],
            [
             0.7777777777777778,
             "#fb9f3a"
            ],
            [
             0.8888888888888888,
             "#fdca26"
            ],
            [
             1,
             "#f0f921"
            ]
           ],
           "sequentialminus": [
            [
             0,
             "#0d0887"
            ],
            [
             0.1111111111111111,
             "#46039f"
            ],
            [
             0.2222222222222222,
             "#7201a8"
            ],
            [
             0.3333333333333333,
             "#9c179e"
            ],
            [
             0.4444444444444444,
             "#bd3786"
            ],
            [
             0.5555555555555556,
             "#d8576b"
            ],
            [
             0.6666666666666666,
             "#ed7953"
            ],
            [
             0.7777777777777778,
             "#fb9f3a"
            ],
            [
             0.8888888888888888,
             "#fdca26"
            ],
            [
             1,
             "#f0f921"
            ]
           ]
          },
          "colorway": [
           "#636efa",
           "#EF553B",
           "#00cc96",
           "#ab63fa",
           "#FFA15A",
           "#19d3f3",
           "#FF6692",
           "#B6E880",
           "#FF97FF",
           "#FECB52"
          ],
          "font": {
           "color": "#2a3f5f"
          },
          "geo": {
           "bgcolor": "white",
           "lakecolor": "white",
           "landcolor": "#E5ECF6",
           "showlakes": true,
           "showland": true,
           "subunitcolor": "white"
          },
          "hoverlabel": {
           "align": "left"
          },
          "hovermode": "closest",
          "mapbox": {
           "style": "light"
          },
          "paper_bgcolor": "white",
          "plot_bgcolor": "#E5ECF6",
          "polar": {
           "angularaxis": {
            "gridcolor": "white",
            "linecolor": "white",
            "ticks": ""
           },
           "bgcolor": "#E5ECF6",
           "radialaxis": {
            "gridcolor": "white",
            "linecolor": "white",
            "ticks": ""
           }
          },
          "scene": {
           "xaxis": {
            "backgroundcolor": "#E5ECF6",
            "gridcolor": "white",
            "gridwidth": 2,
            "linecolor": "white",
            "showbackground": true,
            "ticks": "",
            "zerolinecolor": "white"
           },
           "yaxis": {
            "backgroundcolor": "#E5ECF6",
            "gridcolor": "white",
            "gridwidth": 2,
            "linecolor": "white",
            "showbackground": true,
            "ticks": "",
            "zerolinecolor": "white"
           },
           "zaxis": {
            "backgroundcolor": "#E5ECF6",
            "gridcolor": "white",
            "gridwidth": 2,
            "linecolor": "white",
            "showbackground": true,
            "ticks": "",
            "zerolinecolor": "white"
           }
          },
          "shapedefaults": {
           "line": {
            "color": "#2a3f5f"
           }
          },
          "ternary": {
           "aaxis": {
            "gridcolor": "white",
            "linecolor": "white",
            "ticks": ""
           },
           "baxis": {
            "gridcolor": "white",
            "linecolor": "white",
            "ticks": ""
           },
           "bgcolor": "#E5ECF6",
           "caxis": {
            "gridcolor": "white",
            "linecolor": "white",
            "ticks": ""
           }
          },
          "title": {
           "x": 0.05
          },
          "xaxis": {
           "automargin": true,
           "gridcolor": "white",
           "linecolor": "white",
           "ticks": "",
           "title": {
            "standoff": 15
           },
           "zerolinecolor": "white",
           "zerolinewidth": 2
          },
          "yaxis": {
           "automargin": true,
           "gridcolor": "white",
           "linecolor": "white",
           "ticks": "",
           "title": {
            "standoff": 15
           },
           "zerolinecolor": "white",
           "zerolinewidth": 2
          }
         }
        },
        "title": {
         "text": "Distribución de la variable GSE"
        },
        "xaxis": {
         "anchor": "y",
         "domain": [
          0,
          1
         ],
         "title": {
          "text": "GSE"
         }
        },
        "yaxis": {
         "anchor": "x",
         "domain": [
          0,
          1
         ],
         "title": {
          "text": "count"
         }
        }
       }
      }
     },
     "metadata": {},
     "output_type": "display_data"
    }
   ],
   "source": [
    "fig = px.histogram(df, x='GSE', title='Distribución de la variable GSE', text_auto=True)\n",
    "fig.show()"
   ]
  },
  {
   "cell_type": "code",
   "execution_count": 6,
   "metadata": {},
   "outputs": [
    {
     "data": {
      "application/vnd.plotly.v1+json": {
       "config": {
        "plotlyServerURL": "https://plot.ly"
       },
       "data": [
        {
         "alignmentgroup": "True",
         "hovertemplate": "GSE=Alto<br>Frecuencia=%{x}<br>Región=%{y}<extra></extra>",
         "legendgroup": "Alto",
         "marker": {
          "color": "#636efa",
          "pattern": {
           "shape": ""
          }
         },
         "name": "Alto",
         "offsetgroup": "Alto",
         "orientation": "h",
         "showlegend": true,
         "textposition": "auto",
         "type": "bar",
         "x": [
          2,
          554,
          15,
          5,
          2,
          1,
          8,
          0,
          30,
          14,
          11,
          1,
          84,
          27,
          4,
          0,
          64,
          44,
          15
         ],
         "xaxis": "x",
         "y": [
          "Región Metropolitana",
          "Región Metropolitana de Santiago",
          "Región de Antofagasta",
          "Región de Arica y Parinacota",
          "Región de Atacama",
          "Región de Aysén del General Carlos Ibáñez del Campo",
          "Región de Coquimbo",
          "Región de La Araucanía",
          "Región de Los Lagos",
          "Región de Los Ríos",
          "Región de Magallanes y de la Antártica Chilena",
          "Región de Tarapacá",
          "Región de Valparaíso",
          "Región de la Araucanía",
          "Región de los Ríos",
          "Región de Ñuble",
          "Región del Biobío",
          "Región del Libertador General Bernardo O' Higgins",
          "Región del Maule"
         ],
         "yaxis": "y"
        },
        {
         "alignmentgroup": "True",
         "hovertemplate": "GSE=Bajo<br>Frecuencia=%{x}<br>Región=%{y}<extra></extra>",
         "legendgroup": "Bajo",
         "marker": {
          "color": "#EF553B",
          "pattern": {
           "shape": ""
          }
         },
         "name": "Bajo",
         "offsetgroup": "Bajo",
         "orientation": "h",
         "showlegend": true,
         "textposition": "auto",
         "type": "bar",
         "x": [
          0,
          12,
          0,
          0,
          0,
          1,
          1,
          3,
          11,
          1,
          0,
          0,
          0,
          11,
          3,
          1,
          26,
          5,
          10
         ],
         "xaxis": "x",
         "y": [
          "Región Metropolitana",
          "Región Metropolitana de Santiago",
          "Región de Antofagasta",
          "Región de Arica y Parinacota",
          "Región de Atacama",
          "Región de Aysén del General Carlos Ibáñez del Campo",
          "Región de Coquimbo",
          "Región de La Araucanía",
          "Región de Los Lagos",
          "Región de Los Ríos",
          "Región de Magallanes y de la Antártica Chilena",
          "Región de Tarapacá",
          "Región de Valparaíso",
          "Región de la Araucanía",
          "Región de los Ríos",
          "Región de Ñuble",
          "Región del Biobío",
          "Región del Libertador General Bernardo O' Higgins",
          "Región del Maule"
         ],
         "yaxis": "y"
        },
        {
         "alignmentgroup": "True",
         "hovertemplate": "GSE=Medio<br>Frecuencia=%{x}<br>Región=%{y}<extra></extra>",
         "legendgroup": "Medio",
         "marker": {
          "color": "#00cc96",
          "pattern": {
           "shape": ""
          }
         },
         "name": "Medio",
         "offsetgroup": "Medio",
         "orientation": "h",
         "showlegend": true,
         "textposition": "auto",
         "type": "bar",
         "x": [
          0,
          359,
          9,
          13,
          3,
          3,
          12,
          53,
          9,
          2,
          1,
          10,
          63,
          15,
          3,
          0,
          56,
          32,
          38
         ],
         "xaxis": "x",
         "y": [
          "Región Metropolitana",
          "Región Metropolitana de Santiago",
          "Región de Antofagasta",
          "Región de Arica y Parinacota",
          "Región de Atacama",
          "Región de Aysén del General Carlos Ibáñez del Campo",
          "Región de Coquimbo",
          "Región de La Araucanía",
          "Región de Los Lagos",
          "Región de Los Ríos",
          "Región de Magallanes y de la Antártica Chilena",
          "Región de Tarapacá",
          "Región de Valparaíso",
          "Región de la Araucanía",
          "Región de los Ríos",
          "Región de Ñuble",
          "Región del Biobío",
          "Región del Libertador General Bernardo O' Higgins",
          "Región del Maule"
         ],
         "yaxis": "y"
        },
        {
         "alignmentgroup": "True",
         "hovertemplate": "GSE=Medio alto<br>Frecuencia=%{x}<br>Región=%{y}<extra></extra>",
         "legendgroup": "Medio alto",
         "marker": {
          "color": "#ab63fa",
          "pattern": {
           "shape": ""
          }
         },
         "name": "Medio alto",
         "offsetgroup": "Medio alto",
         "orientation": "h",
         "showlegend": true,
         "textposition": "auto",
         "type": "bar",
         "x": [
          0,
          235,
          30,
          2,
          9,
          6,
          12,
          0,
          13,
          8,
          12,
          11,
          31,
          8,
          3,
          0,
          60,
          6,
          11
         ],
         "xaxis": "x",
         "y": [
          "Región Metropolitana",
          "Región Metropolitana de Santiago",
          "Región de Antofagasta",
          "Región de Arica y Parinacota",
          "Región de Atacama",
          "Región de Aysén del General Carlos Ibáñez del Campo",
          "Región de Coquimbo",
          "Región de La Araucanía",
          "Región de Los Lagos",
          "Región de Los Ríos",
          "Región de Magallanes y de la Antártica Chilena",
          "Región de Tarapacá",
          "Región de Valparaíso",
          "Región de la Araucanía",
          "Región de los Ríos",
          "Región de Ñuble",
          "Región del Biobío",
          "Región del Libertador General Bernardo O' Higgins",
          "Región del Maule"
         ],
         "yaxis": "y"
        },
        {
         "alignmentgroup": "True",
         "hovertemplate": "GSE=Medio bajo<br>Frecuencia=%{x}<br>Región=%{y}<extra></extra>",
         "legendgroup": "Medio bajo",
         "marker": {
          "color": "#FFA15A",
          "pattern": {
           "shape": ""
          }
         },
         "name": "Medio bajo",
         "offsetgroup": "Medio bajo",
         "orientation": "h",
         "showlegend": true,
         "textposition": "auto",
         "type": "bar",
         "x": [
          0,
          63,
          9,
          8,
          14,
          2,
          14,
          22,
          28,
          12,
          3,
          4,
          56,
          3,
          23,
          0,
          100,
          17,
          22
         ],
         "xaxis": "x",
         "y": [
          "Región Metropolitana",
          "Región Metropolitana de Santiago",
          "Región de Antofagasta",
          "Región de Arica y Parinacota",
          "Región de Atacama",
          "Región de Aysén del General Carlos Ibáñez del Campo",
          "Región de Coquimbo",
          "Región de La Araucanía",
          "Región de Los Lagos",
          "Región de Los Ríos",
          "Región de Magallanes y de la Antártica Chilena",
          "Región de Tarapacá",
          "Región de Valparaíso",
          "Región de la Araucanía",
          "Región de los Ríos",
          "Región de Ñuble",
          "Región del Biobío",
          "Región del Libertador General Bernardo O' Higgins",
          "Región del Maule"
         ],
         "yaxis": "y"
        }
       ],
       "layout": {
        "barmode": "relative",
        "legend": {
         "title": {
          "text": "GSE"
         },
         "tracegroupgap": 0
        },
        "template": {
         "data": {
          "bar": [
           {
            "error_x": {
             "color": "#2a3f5f"
            },
            "error_y": {
             "color": "#2a3f5f"
            },
            "marker": {
             "line": {
              "color": "#E5ECF6",
              "width": 0.5
             },
             "pattern": {
              "fillmode": "overlay",
              "size": 10,
              "solidity": 0.2
             }
            },
            "type": "bar"
           }
          ],
          "barpolar": [
           {
            "marker": {
             "line": {
              "color": "#E5ECF6",
              "width": 0.5
             },
             "pattern": {
              "fillmode": "overlay",
              "size": 10,
              "solidity": 0.2
             }
            },
            "type": "barpolar"
           }
          ],
          "carpet": [
           {
            "aaxis": {
             "endlinecolor": "#2a3f5f",
             "gridcolor": "white",
             "linecolor": "white",
             "minorgridcolor": "white",
             "startlinecolor": "#2a3f5f"
            },
            "baxis": {
             "endlinecolor": "#2a3f5f",
             "gridcolor": "white",
             "linecolor": "white",
             "minorgridcolor": "white",
             "startlinecolor": "#2a3f5f"
            },
            "type": "carpet"
           }
          ],
          "choropleth": [
           {
            "colorbar": {
             "outlinewidth": 0,
             "ticks": ""
            },
            "type": "choropleth"
           }
          ],
          "contour": [
           {
            "colorbar": {
             "outlinewidth": 0,
             "ticks": ""
            },
            "colorscale": [
             [
              0,
              "#0d0887"
             ],
             [
              0.1111111111111111,
              "#46039f"
             ],
             [
              0.2222222222222222,
              "#7201a8"
             ],
             [
              0.3333333333333333,
              "#9c179e"
             ],
             [
              0.4444444444444444,
              "#bd3786"
             ],
             [
              0.5555555555555556,
              "#d8576b"
             ],
             [
              0.6666666666666666,
              "#ed7953"
             ],
             [
              0.7777777777777778,
              "#fb9f3a"
             ],
             [
              0.8888888888888888,
              "#fdca26"
             ],
             [
              1,
              "#f0f921"
             ]
            ],
            "type": "contour"
           }
          ],
          "contourcarpet": [
           {
            "colorbar": {
             "outlinewidth": 0,
             "ticks": ""
            },
            "type": "contourcarpet"
           }
          ],
          "heatmap": [
           {
            "colorbar": {
             "outlinewidth": 0,
             "ticks": ""
            },
            "colorscale": [
             [
              0,
              "#0d0887"
             ],
             [
              0.1111111111111111,
              "#46039f"
             ],
             [
              0.2222222222222222,
              "#7201a8"
             ],
             [
              0.3333333333333333,
              "#9c179e"
             ],
             [
              0.4444444444444444,
              "#bd3786"
             ],
             [
              0.5555555555555556,
              "#d8576b"
             ],
             [
              0.6666666666666666,
              "#ed7953"
             ],
             [
              0.7777777777777778,
              "#fb9f3a"
             ],
             [
              0.8888888888888888,
              "#fdca26"
             ],
             [
              1,
              "#f0f921"
             ]
            ],
            "type": "heatmap"
           }
          ],
          "heatmapgl": [
           {
            "colorbar": {
             "outlinewidth": 0,
             "ticks": ""
            },
            "colorscale": [
             [
              0,
              "#0d0887"
             ],
             [
              0.1111111111111111,
              "#46039f"
             ],
             [
              0.2222222222222222,
              "#7201a8"
             ],
             [
              0.3333333333333333,
              "#9c179e"
             ],
             [
              0.4444444444444444,
              "#bd3786"
             ],
             [
              0.5555555555555556,
              "#d8576b"
             ],
             [
              0.6666666666666666,
              "#ed7953"
             ],
             [
              0.7777777777777778,
              "#fb9f3a"
             ],
             [
              0.8888888888888888,
              "#fdca26"
             ],
             [
              1,
              "#f0f921"
             ]
            ],
            "type": "heatmapgl"
           }
          ],
          "histogram": [
           {
            "marker": {
             "pattern": {
              "fillmode": "overlay",
              "size": 10,
              "solidity": 0.2
             }
            },
            "type": "histogram"
           }
          ],
          "histogram2d": [
           {
            "colorbar": {
             "outlinewidth": 0,
             "ticks": ""
            },
            "colorscale": [
             [
              0,
              "#0d0887"
             ],
             [
              0.1111111111111111,
              "#46039f"
             ],
             [
              0.2222222222222222,
              "#7201a8"
             ],
             [
              0.3333333333333333,
              "#9c179e"
             ],
             [
              0.4444444444444444,
              "#bd3786"
             ],
             [
              0.5555555555555556,
              "#d8576b"
             ],
             [
              0.6666666666666666,
              "#ed7953"
             ],
             [
              0.7777777777777778,
              "#fb9f3a"
             ],
             [
              0.8888888888888888,
              "#fdca26"
             ],
             [
              1,
              "#f0f921"
             ]
            ],
            "type": "histogram2d"
           }
          ],
          "histogram2dcontour": [
           {
            "colorbar": {
             "outlinewidth": 0,
             "ticks": ""
            },
            "colorscale": [
             [
              0,
              "#0d0887"
             ],
             [
              0.1111111111111111,
              "#46039f"
             ],
             [
              0.2222222222222222,
              "#7201a8"
             ],
             [
              0.3333333333333333,
              "#9c179e"
             ],
             [
              0.4444444444444444,
              "#bd3786"
             ],
             [
              0.5555555555555556,
              "#d8576b"
             ],
             [
              0.6666666666666666,
              "#ed7953"
             ],
             [
              0.7777777777777778,
              "#fb9f3a"
             ],
             [
              0.8888888888888888,
              "#fdca26"
             ],
             [
              1,
              "#f0f921"
             ]
            ],
            "type": "histogram2dcontour"
           }
          ],
          "mesh3d": [
           {
            "colorbar": {
             "outlinewidth": 0,
             "ticks": ""
            },
            "type": "mesh3d"
           }
          ],
          "parcoords": [
           {
            "line": {
             "colorbar": {
              "outlinewidth": 0,
              "ticks": ""
             }
            },
            "type": "parcoords"
           }
          ],
          "pie": [
           {
            "automargin": true,
            "type": "pie"
           }
          ],
          "scatter": [
           {
            "fillpattern": {
             "fillmode": "overlay",
             "size": 10,
             "solidity": 0.2
            },
            "type": "scatter"
           }
          ],
          "scatter3d": [
           {
            "line": {
             "colorbar": {
              "outlinewidth": 0,
              "ticks": ""
             }
            },
            "marker": {
             "colorbar": {
              "outlinewidth": 0,
              "ticks": ""
             }
            },
            "type": "scatter3d"
           }
          ],
          "scattercarpet": [
           {
            "marker": {
             "colorbar": {
              "outlinewidth": 0,
              "ticks": ""
             }
            },
            "type": "scattercarpet"
           }
          ],
          "scattergeo": [
           {
            "marker": {
             "colorbar": {
              "outlinewidth": 0,
              "ticks": ""
             }
            },
            "type": "scattergeo"
           }
          ],
          "scattergl": [
           {
            "marker": {
             "colorbar": {
              "outlinewidth": 0,
              "ticks": ""
             }
            },
            "type": "scattergl"
           }
          ],
          "scattermapbox": [
           {
            "marker": {
             "colorbar": {
              "outlinewidth": 0,
              "ticks": ""
             }
            },
            "type": "scattermapbox"
           }
          ],
          "scatterpolar": [
           {
            "marker": {
             "colorbar": {
              "outlinewidth": 0,
              "ticks": ""
             }
            },
            "type": "scatterpolar"
           }
          ],
          "scatterpolargl": [
           {
            "marker": {
             "colorbar": {
              "outlinewidth": 0,
              "ticks": ""
             }
            },
            "type": "scatterpolargl"
           }
          ],
          "scatterternary": [
           {
            "marker": {
             "colorbar": {
              "outlinewidth": 0,
              "ticks": ""
             }
            },
            "type": "scatterternary"
           }
          ],
          "surface": [
           {
            "colorbar": {
             "outlinewidth": 0,
             "ticks": ""
            },
            "colorscale": [
             [
              0,
              "#0d0887"
             ],
             [
              0.1111111111111111,
              "#46039f"
             ],
             [
              0.2222222222222222,
              "#7201a8"
             ],
             [
              0.3333333333333333,
              "#9c179e"
             ],
             [
              0.4444444444444444,
              "#bd3786"
             ],
             [
              0.5555555555555556,
              "#d8576b"
             ],
             [
              0.6666666666666666,
              "#ed7953"
             ],
             [
              0.7777777777777778,
              "#fb9f3a"
             ],
             [
              0.8888888888888888,
              "#fdca26"
             ],
             [
              1,
              "#f0f921"
             ]
            ],
            "type": "surface"
           }
          ],
          "table": [
           {
            "cells": {
             "fill": {
              "color": "#EBF0F8"
             },
             "line": {
              "color": "white"
             }
            },
            "header": {
             "fill": {
              "color": "#C8D4E3"
             },
             "line": {
              "color": "white"
             }
            },
            "type": "table"
           }
          ]
         },
         "layout": {
          "annotationdefaults": {
           "arrowcolor": "#2a3f5f",
           "arrowhead": 0,
           "arrowwidth": 1
          },
          "autotypenumbers": "strict",
          "coloraxis": {
           "colorbar": {
            "outlinewidth": 0,
            "ticks": ""
           }
          },
          "colorscale": {
           "diverging": [
            [
             0,
             "#8e0152"
            ],
            [
             0.1,
             "#c51b7d"
            ],
            [
             0.2,
             "#de77ae"
            ],
            [
             0.3,
             "#f1b6da"
            ],
            [
             0.4,
             "#fde0ef"
            ],
            [
             0.5,
             "#f7f7f7"
            ],
            [
             0.6,
             "#e6f5d0"
            ],
            [
             0.7,
             "#b8e186"
            ],
            [
             0.8,
             "#7fbc41"
            ],
            [
             0.9,
             "#4d9221"
            ],
            [
             1,
             "#276419"
            ]
           ],
           "sequential": [
            [
             0,
             "#0d0887"
            ],
            [
             0.1111111111111111,
             "#46039f"
            ],
            [
             0.2222222222222222,
             "#7201a8"
            ],
            [
             0.3333333333333333,
             "#9c179e"
            ],
            [
             0.4444444444444444,
             "#bd3786"
            ],
            [
             0.5555555555555556,
             "#d8576b"
            ],
            [
             0.6666666666666666,
             "#ed7953"
            ],
            [
             0.7777777777777778,
             "#fb9f3a"
            ],
            [
             0.8888888888888888,
             "#fdca26"
            ],
            [
             1,
             "#f0f921"
            ]
           ],
           "sequentialminus": [
            [
             0,
             "#0d0887"
            ],
            [
             0.1111111111111111,
             "#46039f"
            ],
            [
             0.2222222222222222,
             "#7201a8"
            ],
            [
             0.3333333333333333,
             "#9c179e"
            ],
            [
             0.4444444444444444,
             "#bd3786"
            ],
            [
             0.5555555555555556,
             "#d8576b"
            ],
            [
             0.6666666666666666,
             "#ed7953"
            ],
            [
             0.7777777777777778,
             "#fb9f3a"
            ],
            [
             0.8888888888888888,
             "#fdca26"
            ],
            [
             1,
             "#f0f921"
            ]
           ]
          },
          "colorway": [
           "#636efa",
           "#EF553B",
           "#00cc96",
           "#ab63fa",
           "#FFA15A",
           "#19d3f3",
           "#FF6692",
           "#B6E880",
           "#FF97FF",
           "#FECB52"
          ],
          "font": {
           "color": "#2a3f5f"
          },
          "geo": {
           "bgcolor": "white",
           "lakecolor": "white",
           "landcolor": "#E5ECF6",
           "showlakes": true,
           "showland": true,
           "subunitcolor": "white"
          },
          "hoverlabel": {
           "align": "left"
          },
          "hovermode": "closest",
          "mapbox": {
           "style": "light"
          },
          "paper_bgcolor": "white",
          "plot_bgcolor": "#E5ECF6",
          "polar": {
           "angularaxis": {
            "gridcolor": "white",
            "linecolor": "white",
            "ticks": ""
           },
           "bgcolor": "#E5ECF6",
           "radialaxis": {
            "gridcolor": "white",
            "linecolor": "white",
            "ticks": ""
           }
          },
          "scene": {
           "xaxis": {
            "backgroundcolor": "#E5ECF6",
            "gridcolor": "white",
            "gridwidth": 2,
            "linecolor": "white",
            "showbackground": true,
            "ticks": "",
            "zerolinecolor": "white"
           },
           "yaxis": {
            "backgroundcolor": "#E5ECF6",
            "gridcolor": "white",
            "gridwidth": 2,
            "linecolor": "white",
            "showbackground": true,
            "ticks": "",
            "zerolinecolor": "white"
           },
           "zaxis": {
            "backgroundcolor": "#E5ECF6",
            "gridcolor": "white",
            "gridwidth": 2,
            "linecolor": "white",
            "showbackground": true,
            "ticks": "",
            "zerolinecolor": "white"
           }
          },
          "shapedefaults": {
           "line": {
            "color": "#2a3f5f"
           }
          },
          "ternary": {
           "aaxis": {
            "gridcolor": "white",
            "linecolor": "white",
            "ticks": ""
           },
           "baxis": {
            "gridcolor": "white",
            "linecolor": "white",
            "ticks": ""
           },
           "bgcolor": "#E5ECF6",
           "caxis": {
            "gridcolor": "white",
            "linecolor": "white",
            "ticks": ""
           }
          },
          "title": {
           "x": 0.05
          },
          "xaxis": {
           "automargin": true,
           "gridcolor": "white",
           "linecolor": "white",
           "ticks": "",
           "title": {
            "standoff": 15
           },
           "zerolinecolor": "white",
           "zerolinewidth": 2
          },
          "yaxis": {
           "automargin": true,
           "gridcolor": "white",
           "linecolor": "white",
           "ticks": "",
           "title": {
            "standoff": 15
           },
           "zerolinecolor": "white",
           "zerolinewidth": 2
          }
         }
        },
        "title": {
         "text": "Distribución del GSE por Región"
        },
        "xaxis": {
         "anchor": "y",
         "domain": [
          0,
          1
         ],
         "title": {
          "text": "Frecuencia"
         }
        },
        "yaxis": {
         "anchor": "x",
         "domain": [
          0,
          1
         ],
         "title": {
          "text": "Región"
         }
        }
       }
      }
     },
     "metadata": {},
     "output_type": "display_data"
    }
   ],
   "source": [
    "# Agrupar por región y GSE, y contar las frecuencias\n",
    "gse_region = df.groupby(['Región', 'GSE']).size().unstack().fillna(0)\n",
    "\n",
    "# Crear la gráfica de barras apiladas con orientación horizontal\n",
    "fig = px.bar(gse_region, title='Distribución del GSE por Región', labels={'value': 'Frecuencia', 'Región': 'Región'}, orientation='h')\n",
    "fig.show()"
   ]
  },
  {
   "cell_type": "code",
   "execution_count": 7,
   "metadata": {},
   "outputs": [
    {
     "data": {
      "application/vnd.plotly.v1+json": {
       "config": {
        "plotlyServerURL": "https://plot.ly"
       },
       "data": [
        {
         "alignmentgroup": "True",
         "hovertemplate": "Frecuencia=%{x}<br>Región=%{y}<extra></extra>",
         "legendgroup": "",
         "marker": {
          "color": "#636efa",
          "pattern": {
           "shape": ""
          }
         },
         "name": "",
         "offsetgroup": "",
         "orientation": "h",
         "showlegend": false,
         "textposition": "auto",
         "texttemplate": "%{x}",
         "type": "bar",
         "x": [
          554,
          84,
          64,
          44,
          30,
          27,
          15,
          15,
          14,
          11,
          8,
          5,
          4,
          2,
          2,
          1,
          1
         ],
         "xaxis": "x",
         "y": [
          "Región Metropolitana de Santiago",
          "Región de Valparaíso",
          "Región del Biobío",
          "Región del Libertador General Bernardo O' Higgins",
          "Región de Los Lagos",
          "Región de la Araucanía",
          "Región de Antofagasta",
          "Región del Maule",
          "Región de Los Ríos",
          "Región de Magallanes y de la Antártica Chilena",
          "Región de Coquimbo",
          "Región de Arica y Parinacota",
          "Región de los Ríos",
          "Región Metropolitana",
          "Región de Atacama",
          "Región de Aysén del General Carlos Ibáñez del Campo",
          "Región de Tarapacá"
         ],
         "yaxis": "y"
        }
       ],
       "layout": {
        "barmode": "relative",
        "legend": {
         "tracegroupgap": 0
        },
        "template": {
         "data": {
          "bar": [
           {
            "error_x": {
             "color": "#2a3f5f"
            },
            "error_y": {
             "color": "#2a3f5f"
            },
            "marker": {
             "line": {
              "color": "#E5ECF6",
              "width": 0.5
             },
             "pattern": {
              "fillmode": "overlay",
              "size": 10,
              "solidity": 0.2
             }
            },
            "type": "bar"
           }
          ],
          "barpolar": [
           {
            "marker": {
             "line": {
              "color": "#E5ECF6",
              "width": 0.5
             },
             "pattern": {
              "fillmode": "overlay",
              "size": 10,
              "solidity": 0.2
             }
            },
            "type": "barpolar"
           }
          ],
          "carpet": [
           {
            "aaxis": {
             "endlinecolor": "#2a3f5f",
             "gridcolor": "white",
             "linecolor": "white",
             "minorgridcolor": "white",
             "startlinecolor": "#2a3f5f"
            },
            "baxis": {
             "endlinecolor": "#2a3f5f",
             "gridcolor": "white",
             "linecolor": "white",
             "minorgridcolor": "white",
             "startlinecolor": "#2a3f5f"
            },
            "type": "carpet"
           }
          ],
          "choropleth": [
           {
            "colorbar": {
             "outlinewidth": 0,
             "ticks": ""
            },
            "type": "choropleth"
           }
          ],
          "contour": [
           {
            "colorbar": {
             "outlinewidth": 0,
             "ticks": ""
            },
            "colorscale": [
             [
              0,
              "#0d0887"
             ],
             [
              0.1111111111111111,
              "#46039f"
             ],
             [
              0.2222222222222222,
              "#7201a8"
             ],
             [
              0.3333333333333333,
              "#9c179e"
             ],
             [
              0.4444444444444444,
              "#bd3786"
             ],
             [
              0.5555555555555556,
              "#d8576b"
             ],
             [
              0.6666666666666666,
              "#ed7953"
             ],
             [
              0.7777777777777778,
              "#fb9f3a"
             ],
             [
              0.8888888888888888,
              "#fdca26"
             ],
             [
              1,
              "#f0f921"
             ]
            ],
            "type": "contour"
           }
          ],
          "contourcarpet": [
           {
            "colorbar": {
             "outlinewidth": 0,
             "ticks": ""
            },
            "type": "contourcarpet"
           }
          ],
          "heatmap": [
           {
            "colorbar": {
             "outlinewidth": 0,
             "ticks": ""
            },
            "colorscale": [
             [
              0,
              "#0d0887"
             ],
             [
              0.1111111111111111,
              "#46039f"
             ],
             [
              0.2222222222222222,
              "#7201a8"
             ],
             [
              0.3333333333333333,
              "#9c179e"
             ],
             [
              0.4444444444444444,
              "#bd3786"
             ],
             [
              0.5555555555555556,
              "#d8576b"
             ],
             [
              0.6666666666666666,
              "#ed7953"
             ],
             [
              0.7777777777777778,
              "#fb9f3a"
             ],
             [
              0.8888888888888888,
              "#fdca26"
             ],
             [
              1,
              "#f0f921"
             ]
            ],
            "type": "heatmap"
           }
          ],
          "heatmapgl": [
           {
            "colorbar": {
             "outlinewidth": 0,
             "ticks": ""
            },
            "colorscale": [
             [
              0,
              "#0d0887"
             ],
             [
              0.1111111111111111,
              "#46039f"
             ],
             [
              0.2222222222222222,
              "#7201a8"
             ],
             [
              0.3333333333333333,
              "#9c179e"
             ],
             [
              0.4444444444444444,
              "#bd3786"
             ],
             [
              0.5555555555555556,
              "#d8576b"
             ],
             [
              0.6666666666666666,
              "#ed7953"
             ],
             [
              0.7777777777777778,
              "#fb9f3a"
             ],
             [
              0.8888888888888888,
              "#fdca26"
             ],
             [
              1,
              "#f0f921"
             ]
            ],
            "type": "heatmapgl"
           }
          ],
          "histogram": [
           {
            "marker": {
             "pattern": {
              "fillmode": "overlay",
              "size": 10,
              "solidity": 0.2
             }
            },
            "type": "histogram"
           }
          ],
          "histogram2d": [
           {
            "colorbar": {
             "outlinewidth": 0,
             "ticks": ""
            },
            "colorscale": [
             [
              0,
              "#0d0887"
             ],
             [
              0.1111111111111111,
              "#46039f"
             ],
             [
              0.2222222222222222,
              "#7201a8"
             ],
             [
              0.3333333333333333,
              "#9c179e"
             ],
             [
              0.4444444444444444,
              "#bd3786"
             ],
             [
              0.5555555555555556,
              "#d8576b"
             ],
             [
              0.6666666666666666,
              "#ed7953"
             ],
             [
              0.7777777777777778,
              "#fb9f3a"
             ],
             [
              0.8888888888888888,
              "#fdca26"
             ],
             [
              1,
              "#f0f921"
             ]
            ],
            "type": "histogram2d"
           }
          ],
          "histogram2dcontour": [
           {
            "colorbar": {
             "outlinewidth": 0,
             "ticks": ""
            },
            "colorscale": [
             [
              0,
              "#0d0887"
             ],
             [
              0.1111111111111111,
              "#46039f"
             ],
             [
              0.2222222222222222,
              "#7201a8"
             ],
             [
              0.3333333333333333,
              "#9c179e"
             ],
             [
              0.4444444444444444,
              "#bd3786"
             ],
             [
              0.5555555555555556,
              "#d8576b"
             ],
             [
              0.6666666666666666,
              "#ed7953"
             ],
             [
              0.7777777777777778,
              "#fb9f3a"
             ],
             [
              0.8888888888888888,
              "#fdca26"
             ],
             [
              1,
              "#f0f921"
             ]
            ],
            "type": "histogram2dcontour"
           }
          ],
          "mesh3d": [
           {
            "colorbar": {
             "outlinewidth": 0,
             "ticks": ""
            },
            "type": "mesh3d"
           }
          ],
          "parcoords": [
           {
            "line": {
             "colorbar": {
              "outlinewidth": 0,
              "ticks": ""
             }
            },
            "type": "parcoords"
           }
          ],
          "pie": [
           {
            "automargin": true,
            "type": "pie"
           }
          ],
          "scatter": [
           {
            "fillpattern": {
             "fillmode": "overlay",
             "size": 10,
             "solidity": 0.2
            },
            "type": "scatter"
           }
          ],
          "scatter3d": [
           {
            "line": {
             "colorbar": {
              "outlinewidth": 0,
              "ticks": ""
             }
            },
            "marker": {
             "colorbar": {
              "outlinewidth": 0,
              "ticks": ""
             }
            },
            "type": "scatter3d"
           }
          ],
          "scattercarpet": [
           {
            "marker": {
             "colorbar": {
              "outlinewidth": 0,
              "ticks": ""
             }
            },
            "type": "scattercarpet"
           }
          ],
          "scattergeo": [
           {
            "marker": {
             "colorbar": {
              "outlinewidth": 0,
              "ticks": ""
             }
            },
            "type": "scattergeo"
           }
          ],
          "scattergl": [
           {
            "marker": {
             "colorbar": {
              "outlinewidth": 0,
              "ticks": ""
             }
            },
            "type": "scattergl"
           }
          ],
          "scattermapbox": [
           {
            "marker": {
             "colorbar": {
              "outlinewidth": 0,
              "ticks": ""
             }
            },
            "type": "scattermapbox"
           }
          ],
          "scatterpolar": [
           {
            "marker": {
             "colorbar": {
              "outlinewidth": 0,
              "ticks": ""
             }
            },
            "type": "scatterpolar"
           }
          ],
          "scatterpolargl": [
           {
            "marker": {
             "colorbar": {
              "outlinewidth": 0,
              "ticks": ""
             }
            },
            "type": "scatterpolargl"
           }
          ],
          "scatterternary": [
           {
            "marker": {
             "colorbar": {
              "outlinewidth": 0,
              "ticks": ""
             }
            },
            "type": "scatterternary"
           }
          ],
          "surface": [
           {
            "colorbar": {
             "outlinewidth": 0,
             "ticks": ""
            },
            "colorscale": [
             [
              0,
              "#0d0887"
             ],
             [
              0.1111111111111111,
              "#46039f"
             ],
             [
              0.2222222222222222,
              "#7201a8"
             ],
             [
              0.3333333333333333,
              "#9c179e"
             ],
             [
              0.4444444444444444,
              "#bd3786"
             ],
             [
              0.5555555555555556,
              "#d8576b"
             ],
             [
              0.6666666666666666,
              "#ed7953"
             ],
             [
              0.7777777777777778,
              "#fb9f3a"
             ],
             [
              0.8888888888888888,
              "#fdca26"
             ],
             [
              1,
              "#f0f921"
             ]
            ],
            "type": "surface"
           }
          ],
          "table": [
           {
            "cells": {
             "fill": {
              "color": "#EBF0F8"
             },
             "line": {
              "color": "white"
             }
            },
            "header": {
             "fill": {
              "color": "#C8D4E3"
             },
             "line": {
              "color": "white"
             }
            },
            "type": "table"
           }
          ]
         },
         "layout": {
          "annotationdefaults": {
           "arrowcolor": "#2a3f5f",
           "arrowhead": 0,
           "arrowwidth": 1
          },
          "autotypenumbers": "strict",
          "coloraxis": {
           "colorbar": {
            "outlinewidth": 0,
            "ticks": ""
           }
          },
          "colorscale": {
           "diverging": [
            [
             0,
             "#8e0152"
            ],
            [
             0.1,
             "#c51b7d"
            ],
            [
             0.2,
             "#de77ae"
            ],
            [
             0.3,
             "#f1b6da"
            ],
            [
             0.4,
             "#fde0ef"
            ],
            [
             0.5,
             "#f7f7f7"
            ],
            [
             0.6,
             "#e6f5d0"
            ],
            [
             0.7,
             "#b8e186"
            ],
            [
             0.8,
             "#7fbc41"
            ],
            [
             0.9,
             "#4d9221"
            ],
            [
             1,
             "#276419"
            ]
           ],
           "sequential": [
            [
             0,
             "#0d0887"
            ],
            [
             0.1111111111111111,
             "#46039f"
            ],
            [
             0.2222222222222222,
             "#7201a8"
            ],
            [
             0.3333333333333333,
             "#9c179e"
            ],
            [
             0.4444444444444444,
             "#bd3786"
            ],
            [
             0.5555555555555556,
             "#d8576b"
            ],
            [
             0.6666666666666666,
             "#ed7953"
            ],
            [
             0.7777777777777778,
             "#fb9f3a"
            ],
            [
             0.8888888888888888,
             "#fdca26"
            ],
            [
             1,
             "#f0f921"
            ]
           ],
           "sequentialminus": [
            [
             0,
             "#0d0887"
            ],
            [
             0.1111111111111111,
             "#46039f"
            ],
            [
             0.2222222222222222,
             "#7201a8"
            ],
            [
             0.3333333333333333,
             "#9c179e"
            ],
            [
             0.4444444444444444,
             "#bd3786"
            ],
            [
             0.5555555555555556,
             "#d8576b"
            ],
            [
             0.6666666666666666,
             "#ed7953"
            ],
            [
             0.7777777777777778,
             "#fb9f3a"
            ],
            [
             0.8888888888888888,
             "#fdca26"
            ],
            [
             1,
             "#f0f921"
            ]
           ]
          },
          "colorway": [
           "#636efa",
           "#EF553B",
           "#00cc96",
           "#ab63fa",
           "#FFA15A",
           "#19d3f3",
           "#FF6692",
           "#B6E880",
           "#FF97FF",
           "#FECB52"
          ],
          "font": {
           "color": "#2a3f5f"
          },
          "geo": {
           "bgcolor": "white",
           "lakecolor": "white",
           "landcolor": "#E5ECF6",
           "showlakes": true,
           "showland": true,
           "subunitcolor": "white"
          },
          "hoverlabel": {
           "align": "left"
          },
          "hovermode": "closest",
          "mapbox": {
           "style": "light"
          },
          "paper_bgcolor": "white",
          "plot_bgcolor": "#E5ECF6",
          "polar": {
           "angularaxis": {
            "gridcolor": "white",
            "linecolor": "white",
            "ticks": ""
           },
           "bgcolor": "#E5ECF6",
           "radialaxis": {
            "gridcolor": "white",
            "linecolor": "white",
            "ticks": ""
           }
          },
          "scene": {
           "xaxis": {
            "backgroundcolor": "#E5ECF6",
            "gridcolor": "white",
            "gridwidth": 2,
            "linecolor": "white",
            "showbackground": true,
            "ticks": "",
            "zerolinecolor": "white"
           },
           "yaxis": {
            "backgroundcolor": "#E5ECF6",
            "gridcolor": "white",
            "gridwidth": 2,
            "linecolor": "white",
            "showbackground": true,
            "ticks": "",
            "zerolinecolor": "white"
           },
           "zaxis": {
            "backgroundcolor": "#E5ECF6",
            "gridcolor": "white",
            "gridwidth": 2,
            "linecolor": "white",
            "showbackground": true,
            "ticks": "",
            "zerolinecolor": "white"
           }
          },
          "shapedefaults": {
           "line": {
            "color": "#2a3f5f"
           }
          },
          "ternary": {
           "aaxis": {
            "gridcolor": "white",
            "linecolor": "white",
            "ticks": ""
           },
           "baxis": {
            "gridcolor": "white",
            "linecolor": "white",
            "ticks": ""
           },
           "bgcolor": "#E5ECF6",
           "caxis": {
            "gridcolor": "white",
            "linecolor": "white",
            "ticks": ""
           }
          },
          "title": {
           "x": 0.05
          },
          "xaxis": {
           "automargin": true,
           "gridcolor": "white",
           "linecolor": "white",
           "ticks": "",
           "title": {
            "standoff": 15
           },
           "zerolinecolor": "white",
           "zerolinewidth": 2
          },
          "yaxis": {
           "automargin": true,
           "gridcolor": "white",
           "linecolor": "white",
           "ticks": "",
           "title": {
            "standoff": 15
           },
           "zerolinecolor": "white",
           "zerolinewidth": 2
          }
         }
        },
        "title": {
         "text": "Frecuencia de las Regiones para GSE: Alto"
        },
        "xaxis": {
         "anchor": "y",
         "domain": [
          0,
          1
         ],
         "title": {
          "text": "Frecuencia"
         }
        },
        "yaxis": {
         "anchor": "x",
         "domain": [
          0,
          1
         ],
         "title": {
          "text": "Región"
         }
        }
       }
      }
     },
     "metadata": {},
     "output_type": "display_data"
    },
    {
     "data": {
      "application/vnd.plotly.v1+json": {
       "config": {
        "plotlyServerURL": "https://plot.ly"
       },
       "data": [
        {
         "alignmentgroup": "True",
         "hovertemplate": "Frecuencia=%{x}<br>Región=%{y}<extra></extra>",
         "legendgroup": "",
         "marker": {
          "color": "#636efa",
          "pattern": {
           "shape": ""
          }
         },
         "name": "",
         "offsetgroup": "",
         "orientation": "h",
         "showlegend": false,
         "textposition": "auto",
         "texttemplate": "%{x}",
         "type": "bar",
         "x": [
          26,
          12,
          11,
          11,
          10,
          5,
          3,
          3,
          1,
          1,
          1,
          1
         ],
         "xaxis": "x",
         "y": [
          "Región del Biobío",
          "Región Metropolitana de Santiago",
          "Región de Los Lagos",
          "Región de la Araucanía",
          "Región del Maule",
          "Región del Libertador General Bernardo O' Higgins",
          "Región de La Araucanía",
          "Región de los Ríos",
          "Región de Ñuble",
          "Región de Coquimbo",
          "Región de Aysén del General Carlos Ibáñez del Campo",
          "Región de Los Ríos"
         ],
         "yaxis": "y"
        }
       ],
       "layout": {
        "barmode": "relative",
        "legend": {
         "tracegroupgap": 0
        },
        "template": {
         "data": {
          "bar": [
           {
            "error_x": {
             "color": "#2a3f5f"
            },
            "error_y": {
             "color": "#2a3f5f"
            },
            "marker": {
             "line": {
              "color": "#E5ECF6",
              "width": 0.5
             },
             "pattern": {
              "fillmode": "overlay",
              "size": 10,
              "solidity": 0.2
             }
            },
            "type": "bar"
           }
          ],
          "barpolar": [
           {
            "marker": {
             "line": {
              "color": "#E5ECF6",
              "width": 0.5
             },
             "pattern": {
              "fillmode": "overlay",
              "size": 10,
              "solidity": 0.2
             }
            },
            "type": "barpolar"
           }
          ],
          "carpet": [
           {
            "aaxis": {
             "endlinecolor": "#2a3f5f",
             "gridcolor": "white",
             "linecolor": "white",
             "minorgridcolor": "white",
             "startlinecolor": "#2a3f5f"
            },
            "baxis": {
             "endlinecolor": "#2a3f5f",
             "gridcolor": "white",
             "linecolor": "white",
             "minorgridcolor": "white",
             "startlinecolor": "#2a3f5f"
            },
            "type": "carpet"
           }
          ],
          "choropleth": [
           {
            "colorbar": {
             "outlinewidth": 0,
             "ticks": ""
            },
            "type": "choropleth"
           }
          ],
          "contour": [
           {
            "colorbar": {
             "outlinewidth": 0,
             "ticks": ""
            },
            "colorscale": [
             [
              0,
              "#0d0887"
             ],
             [
              0.1111111111111111,
              "#46039f"
             ],
             [
              0.2222222222222222,
              "#7201a8"
             ],
             [
              0.3333333333333333,
              "#9c179e"
             ],
             [
              0.4444444444444444,
              "#bd3786"
             ],
             [
              0.5555555555555556,
              "#d8576b"
             ],
             [
              0.6666666666666666,
              "#ed7953"
             ],
             [
              0.7777777777777778,
              "#fb9f3a"
             ],
             [
              0.8888888888888888,
              "#fdca26"
             ],
             [
              1,
              "#f0f921"
             ]
            ],
            "type": "contour"
           }
          ],
          "contourcarpet": [
           {
            "colorbar": {
             "outlinewidth": 0,
             "ticks": ""
            },
            "type": "contourcarpet"
           }
          ],
          "heatmap": [
           {
            "colorbar": {
             "outlinewidth": 0,
             "ticks": ""
            },
            "colorscale": [
             [
              0,
              "#0d0887"
             ],
             [
              0.1111111111111111,
              "#46039f"
             ],
             [
              0.2222222222222222,
              "#7201a8"
             ],
             [
              0.3333333333333333,
              "#9c179e"
             ],
             [
              0.4444444444444444,
              "#bd3786"
             ],
             [
              0.5555555555555556,
              "#d8576b"
             ],
             [
              0.6666666666666666,
              "#ed7953"
             ],
             [
              0.7777777777777778,
              "#fb9f3a"
             ],
             [
              0.8888888888888888,
              "#fdca26"
             ],
             [
              1,
              "#f0f921"
             ]
            ],
            "type": "heatmap"
           }
          ],
          "heatmapgl": [
           {
            "colorbar": {
             "outlinewidth": 0,
             "ticks": ""
            },
            "colorscale": [
             [
              0,
              "#0d0887"
             ],
             [
              0.1111111111111111,
              "#46039f"
             ],
             [
              0.2222222222222222,
              "#7201a8"
             ],
             [
              0.3333333333333333,
              "#9c179e"
             ],
             [
              0.4444444444444444,
              "#bd3786"
             ],
             [
              0.5555555555555556,
              "#d8576b"
             ],
             [
              0.6666666666666666,
              "#ed7953"
             ],
             [
              0.7777777777777778,
              "#fb9f3a"
             ],
             [
              0.8888888888888888,
              "#fdca26"
             ],
             [
              1,
              "#f0f921"
             ]
            ],
            "type": "heatmapgl"
           }
          ],
          "histogram": [
           {
            "marker": {
             "pattern": {
              "fillmode": "overlay",
              "size": 10,
              "solidity": 0.2
             }
            },
            "type": "histogram"
           }
          ],
          "histogram2d": [
           {
            "colorbar": {
             "outlinewidth": 0,
             "ticks": ""
            },
            "colorscale": [
             [
              0,
              "#0d0887"
             ],
             [
              0.1111111111111111,
              "#46039f"
             ],
             [
              0.2222222222222222,
              "#7201a8"
             ],
             [
              0.3333333333333333,
              "#9c179e"
             ],
             [
              0.4444444444444444,
              "#bd3786"
             ],
             [
              0.5555555555555556,
              "#d8576b"
             ],
             [
              0.6666666666666666,
              "#ed7953"
             ],
             [
              0.7777777777777778,
              "#fb9f3a"
             ],
             [
              0.8888888888888888,
              "#fdca26"
             ],
             [
              1,
              "#f0f921"
             ]
            ],
            "type": "histogram2d"
           }
          ],
          "histogram2dcontour": [
           {
            "colorbar": {
             "outlinewidth": 0,
             "ticks": ""
            },
            "colorscale": [
             [
              0,
              "#0d0887"
             ],
             [
              0.1111111111111111,
              "#46039f"
             ],
             [
              0.2222222222222222,
              "#7201a8"
             ],
             [
              0.3333333333333333,
              "#9c179e"
             ],
             [
              0.4444444444444444,
              "#bd3786"
             ],
             [
              0.5555555555555556,
              "#d8576b"
             ],
             [
              0.6666666666666666,
              "#ed7953"
             ],
             [
              0.7777777777777778,
              "#fb9f3a"
             ],
             [
              0.8888888888888888,
              "#fdca26"
             ],
             [
              1,
              "#f0f921"
             ]
            ],
            "type": "histogram2dcontour"
           }
          ],
          "mesh3d": [
           {
            "colorbar": {
             "outlinewidth": 0,
             "ticks": ""
            },
            "type": "mesh3d"
           }
          ],
          "parcoords": [
           {
            "line": {
             "colorbar": {
              "outlinewidth": 0,
              "ticks": ""
             }
            },
            "type": "parcoords"
           }
          ],
          "pie": [
           {
            "automargin": true,
            "type": "pie"
           }
          ],
          "scatter": [
           {
            "fillpattern": {
             "fillmode": "overlay",
             "size": 10,
             "solidity": 0.2
            },
            "type": "scatter"
           }
          ],
          "scatter3d": [
           {
            "line": {
             "colorbar": {
              "outlinewidth": 0,
              "ticks": ""
             }
            },
            "marker": {
             "colorbar": {
              "outlinewidth": 0,
              "ticks": ""
             }
            },
            "type": "scatter3d"
           }
          ],
          "scattercarpet": [
           {
            "marker": {
             "colorbar": {
              "outlinewidth": 0,
              "ticks": ""
             }
            },
            "type": "scattercarpet"
           }
          ],
          "scattergeo": [
           {
            "marker": {
             "colorbar": {
              "outlinewidth": 0,
              "ticks": ""
             }
            },
            "type": "scattergeo"
           }
          ],
          "scattergl": [
           {
            "marker": {
             "colorbar": {
              "outlinewidth": 0,
              "ticks": ""
             }
            },
            "type": "scattergl"
           }
          ],
          "scattermapbox": [
           {
            "marker": {
             "colorbar": {
              "outlinewidth": 0,
              "ticks": ""
             }
            },
            "type": "scattermapbox"
           }
          ],
          "scatterpolar": [
           {
            "marker": {
             "colorbar": {
              "outlinewidth": 0,
              "ticks": ""
             }
            },
            "type": "scatterpolar"
           }
          ],
          "scatterpolargl": [
           {
            "marker": {
             "colorbar": {
              "outlinewidth": 0,
              "ticks": ""
             }
            },
            "type": "scatterpolargl"
           }
          ],
          "scatterternary": [
           {
            "marker": {
             "colorbar": {
              "outlinewidth": 0,
              "ticks": ""
             }
            },
            "type": "scatterternary"
           }
          ],
          "surface": [
           {
            "colorbar": {
             "outlinewidth": 0,
             "ticks": ""
            },
            "colorscale": [
             [
              0,
              "#0d0887"
             ],
             [
              0.1111111111111111,
              "#46039f"
             ],
             [
              0.2222222222222222,
              "#7201a8"
             ],
             [
              0.3333333333333333,
              "#9c179e"
             ],
             [
              0.4444444444444444,
              "#bd3786"
             ],
             [
              0.5555555555555556,
              "#d8576b"
             ],
             [
              0.6666666666666666,
              "#ed7953"
             ],
             [
              0.7777777777777778,
              "#fb9f3a"
             ],
             [
              0.8888888888888888,
              "#fdca26"
             ],
             [
              1,
              "#f0f921"
             ]
            ],
            "type": "surface"
           }
          ],
          "table": [
           {
            "cells": {
             "fill": {
              "color": "#EBF0F8"
             },
             "line": {
              "color": "white"
             }
            },
            "header": {
             "fill": {
              "color": "#C8D4E3"
             },
             "line": {
              "color": "white"
             }
            },
            "type": "table"
           }
          ]
         },
         "layout": {
          "annotationdefaults": {
           "arrowcolor": "#2a3f5f",
           "arrowhead": 0,
           "arrowwidth": 1
          },
          "autotypenumbers": "strict",
          "coloraxis": {
           "colorbar": {
            "outlinewidth": 0,
            "ticks": ""
           }
          },
          "colorscale": {
           "diverging": [
            [
             0,
             "#8e0152"
            ],
            [
             0.1,
             "#c51b7d"
            ],
            [
             0.2,
             "#de77ae"
            ],
            [
             0.3,
             "#f1b6da"
            ],
            [
             0.4,
             "#fde0ef"
            ],
            [
             0.5,
             "#f7f7f7"
            ],
            [
             0.6,
             "#e6f5d0"
            ],
            [
             0.7,
             "#b8e186"
            ],
            [
             0.8,
             "#7fbc41"
            ],
            [
             0.9,
             "#4d9221"
            ],
            [
             1,
             "#276419"
            ]
           ],
           "sequential": [
            [
             0,
             "#0d0887"
            ],
            [
             0.1111111111111111,
             "#46039f"
            ],
            [
             0.2222222222222222,
             "#7201a8"
            ],
            [
             0.3333333333333333,
             "#9c179e"
            ],
            [
             0.4444444444444444,
             "#bd3786"
            ],
            [
             0.5555555555555556,
             "#d8576b"
            ],
            [
             0.6666666666666666,
             "#ed7953"
            ],
            [
             0.7777777777777778,
             "#fb9f3a"
            ],
            [
             0.8888888888888888,
             "#fdca26"
            ],
            [
             1,
             "#f0f921"
            ]
           ],
           "sequentialminus": [
            [
             0,
             "#0d0887"
            ],
            [
             0.1111111111111111,
             "#46039f"
            ],
            [
             0.2222222222222222,
             "#7201a8"
            ],
            [
             0.3333333333333333,
             "#9c179e"
            ],
            [
             0.4444444444444444,
             "#bd3786"
            ],
            [
             0.5555555555555556,
             "#d8576b"
            ],
            [
             0.6666666666666666,
             "#ed7953"
            ],
            [
             0.7777777777777778,
             "#fb9f3a"
            ],
            [
             0.8888888888888888,
             "#fdca26"
            ],
            [
             1,
             "#f0f921"
            ]
           ]
          },
          "colorway": [
           "#636efa",
           "#EF553B",
           "#00cc96",
           "#ab63fa",
           "#FFA15A",
           "#19d3f3",
           "#FF6692",
           "#B6E880",
           "#FF97FF",
           "#FECB52"
          ],
          "font": {
           "color": "#2a3f5f"
          },
          "geo": {
           "bgcolor": "white",
           "lakecolor": "white",
           "landcolor": "#E5ECF6",
           "showlakes": true,
           "showland": true,
           "subunitcolor": "white"
          },
          "hoverlabel": {
           "align": "left"
          },
          "hovermode": "closest",
          "mapbox": {
           "style": "light"
          },
          "paper_bgcolor": "white",
          "plot_bgcolor": "#E5ECF6",
          "polar": {
           "angularaxis": {
            "gridcolor": "white",
            "linecolor": "white",
            "ticks": ""
           },
           "bgcolor": "#E5ECF6",
           "radialaxis": {
            "gridcolor": "white",
            "linecolor": "white",
            "ticks": ""
           }
          },
          "scene": {
           "xaxis": {
            "backgroundcolor": "#E5ECF6",
            "gridcolor": "white",
            "gridwidth": 2,
            "linecolor": "white",
            "showbackground": true,
            "ticks": "",
            "zerolinecolor": "white"
           },
           "yaxis": {
            "backgroundcolor": "#E5ECF6",
            "gridcolor": "white",
            "gridwidth": 2,
            "linecolor": "white",
            "showbackground": true,
            "ticks": "",
            "zerolinecolor": "white"
           },
           "zaxis": {
            "backgroundcolor": "#E5ECF6",
            "gridcolor": "white",
            "gridwidth": 2,
            "linecolor": "white",
            "showbackground": true,
            "ticks": "",
            "zerolinecolor": "white"
           }
          },
          "shapedefaults": {
           "line": {
            "color": "#2a3f5f"
           }
          },
          "ternary": {
           "aaxis": {
            "gridcolor": "white",
            "linecolor": "white",
            "ticks": ""
           },
           "baxis": {
            "gridcolor": "white",
            "linecolor": "white",
            "ticks": ""
           },
           "bgcolor": "#E5ECF6",
           "caxis": {
            "gridcolor": "white",
            "linecolor": "white",
            "ticks": ""
           }
          },
          "title": {
           "x": 0.05
          },
          "xaxis": {
           "automargin": true,
           "gridcolor": "white",
           "linecolor": "white",
           "ticks": "",
           "title": {
            "standoff": 15
           },
           "zerolinecolor": "white",
           "zerolinewidth": 2
          },
          "yaxis": {
           "automargin": true,
           "gridcolor": "white",
           "linecolor": "white",
           "ticks": "",
           "title": {
            "standoff": 15
           },
           "zerolinecolor": "white",
           "zerolinewidth": 2
          }
         }
        },
        "title": {
         "text": "Frecuencia de las Regiones para GSE: Bajo"
        },
        "xaxis": {
         "anchor": "y",
         "domain": [
          0,
          1
         ],
         "title": {
          "text": "Frecuencia"
         }
        },
        "yaxis": {
         "anchor": "x",
         "domain": [
          0,
          1
         ],
         "title": {
          "text": "Región"
         }
        }
       }
      }
     },
     "metadata": {},
     "output_type": "display_data"
    },
    {
     "data": {
      "application/vnd.plotly.v1+json": {
       "config": {
        "plotlyServerURL": "https://plot.ly"
       },
       "data": [
        {
         "alignmentgroup": "True",
         "hovertemplate": "Frecuencia=%{x}<br>Región=%{y}<extra></extra>",
         "legendgroup": "",
         "marker": {
          "color": "#636efa",
          "pattern": {
           "shape": ""
          }
         },
         "name": "",
         "offsetgroup": "",
         "orientation": "h",
         "showlegend": false,
         "textposition": "auto",
         "texttemplate": "%{x}",
         "type": "bar",
         "x": [
          359,
          63,
          56,
          53,
          38,
          32,
          15,
          13,
          12,
          10,
          9,
          9,
          3,
          3,
          3,
          2,
          1
         ],
         "xaxis": "x",
         "y": [
          "Región Metropolitana de Santiago",
          "Región de Valparaíso",
          "Región del Biobío",
          "Región de La Araucanía",
          "Región del Maule",
          "Región del Libertador General Bernardo O' Higgins",
          "Región de la Araucanía",
          "Región de Arica y Parinacota",
          "Región de Coquimbo",
          "Región de Tarapacá",
          "Región de Los Lagos",
          "Región de Antofagasta",
          "Región de Aysén del General Carlos Ibáñez del Campo",
          "Región de Atacama",
          "Región de los Ríos",
          "Región de Los Ríos",
          "Región de Magallanes y de la Antártica Chilena"
         ],
         "yaxis": "y"
        }
       ],
       "layout": {
        "barmode": "relative",
        "legend": {
         "tracegroupgap": 0
        },
        "template": {
         "data": {
          "bar": [
           {
            "error_x": {
             "color": "#2a3f5f"
            },
            "error_y": {
             "color": "#2a3f5f"
            },
            "marker": {
             "line": {
              "color": "#E5ECF6",
              "width": 0.5
             },
             "pattern": {
              "fillmode": "overlay",
              "size": 10,
              "solidity": 0.2
             }
            },
            "type": "bar"
           }
          ],
          "barpolar": [
           {
            "marker": {
             "line": {
              "color": "#E5ECF6",
              "width": 0.5
             },
             "pattern": {
              "fillmode": "overlay",
              "size": 10,
              "solidity": 0.2
             }
            },
            "type": "barpolar"
           }
          ],
          "carpet": [
           {
            "aaxis": {
             "endlinecolor": "#2a3f5f",
             "gridcolor": "white",
             "linecolor": "white",
             "minorgridcolor": "white",
             "startlinecolor": "#2a3f5f"
            },
            "baxis": {
             "endlinecolor": "#2a3f5f",
             "gridcolor": "white",
             "linecolor": "white",
             "minorgridcolor": "white",
             "startlinecolor": "#2a3f5f"
            },
            "type": "carpet"
           }
          ],
          "choropleth": [
           {
            "colorbar": {
             "outlinewidth": 0,
             "ticks": ""
            },
            "type": "choropleth"
           }
          ],
          "contour": [
           {
            "colorbar": {
             "outlinewidth": 0,
             "ticks": ""
            },
            "colorscale": [
             [
              0,
              "#0d0887"
             ],
             [
              0.1111111111111111,
              "#46039f"
             ],
             [
              0.2222222222222222,
              "#7201a8"
             ],
             [
              0.3333333333333333,
              "#9c179e"
             ],
             [
              0.4444444444444444,
              "#bd3786"
             ],
             [
              0.5555555555555556,
              "#d8576b"
             ],
             [
              0.6666666666666666,
              "#ed7953"
             ],
             [
              0.7777777777777778,
              "#fb9f3a"
             ],
             [
              0.8888888888888888,
              "#fdca26"
             ],
             [
              1,
              "#f0f921"
             ]
            ],
            "type": "contour"
           }
          ],
          "contourcarpet": [
           {
            "colorbar": {
             "outlinewidth": 0,
             "ticks": ""
            },
            "type": "contourcarpet"
           }
          ],
          "heatmap": [
           {
            "colorbar": {
             "outlinewidth": 0,
             "ticks": ""
            },
            "colorscale": [
             [
              0,
              "#0d0887"
             ],
             [
              0.1111111111111111,
              "#46039f"
             ],
             [
              0.2222222222222222,
              "#7201a8"
             ],
             [
              0.3333333333333333,
              "#9c179e"
             ],
             [
              0.4444444444444444,
              "#bd3786"
             ],
             [
              0.5555555555555556,
              "#d8576b"
             ],
             [
              0.6666666666666666,
              "#ed7953"
             ],
             [
              0.7777777777777778,
              "#fb9f3a"
             ],
             [
              0.8888888888888888,
              "#fdca26"
             ],
             [
              1,
              "#f0f921"
             ]
            ],
            "type": "heatmap"
           }
          ],
          "heatmapgl": [
           {
            "colorbar": {
             "outlinewidth": 0,
             "ticks": ""
            },
            "colorscale": [
             [
              0,
              "#0d0887"
             ],
             [
              0.1111111111111111,
              "#46039f"
             ],
             [
              0.2222222222222222,
              "#7201a8"
             ],
             [
              0.3333333333333333,
              "#9c179e"
             ],
             [
              0.4444444444444444,
              "#bd3786"
             ],
             [
              0.5555555555555556,
              "#d8576b"
             ],
             [
              0.6666666666666666,
              "#ed7953"
             ],
             [
              0.7777777777777778,
              "#fb9f3a"
             ],
             [
              0.8888888888888888,
              "#fdca26"
             ],
             [
              1,
              "#f0f921"
             ]
            ],
            "type": "heatmapgl"
           }
          ],
          "histogram": [
           {
            "marker": {
             "pattern": {
              "fillmode": "overlay",
              "size": 10,
              "solidity": 0.2
             }
            },
            "type": "histogram"
           }
          ],
          "histogram2d": [
           {
            "colorbar": {
             "outlinewidth": 0,
             "ticks": ""
            },
            "colorscale": [
             [
              0,
              "#0d0887"
             ],
             [
              0.1111111111111111,
              "#46039f"
             ],
             [
              0.2222222222222222,
              "#7201a8"
             ],
             [
              0.3333333333333333,
              "#9c179e"
             ],
             [
              0.4444444444444444,
              "#bd3786"
             ],
             [
              0.5555555555555556,
              "#d8576b"
             ],
             [
              0.6666666666666666,
              "#ed7953"
             ],
             [
              0.7777777777777778,
              "#fb9f3a"
             ],
             [
              0.8888888888888888,
              "#fdca26"
             ],
             [
              1,
              "#f0f921"
             ]
            ],
            "type": "histogram2d"
           }
          ],
          "histogram2dcontour": [
           {
            "colorbar": {
             "outlinewidth": 0,
             "ticks": ""
            },
            "colorscale": [
             [
              0,
              "#0d0887"
             ],
             [
              0.1111111111111111,
              "#46039f"
             ],
             [
              0.2222222222222222,
              "#7201a8"
             ],
             [
              0.3333333333333333,
              "#9c179e"
             ],
             [
              0.4444444444444444,
              "#bd3786"
             ],
             [
              0.5555555555555556,
              "#d8576b"
             ],
             [
              0.6666666666666666,
              "#ed7953"
             ],
             [
              0.7777777777777778,
              "#fb9f3a"
             ],
             [
              0.8888888888888888,
              "#fdca26"
             ],
             [
              1,
              "#f0f921"
             ]
            ],
            "type": "histogram2dcontour"
           }
          ],
          "mesh3d": [
           {
            "colorbar": {
             "outlinewidth": 0,
             "ticks": ""
            },
            "type": "mesh3d"
           }
          ],
          "parcoords": [
           {
            "line": {
             "colorbar": {
              "outlinewidth": 0,
              "ticks": ""
             }
            },
            "type": "parcoords"
           }
          ],
          "pie": [
           {
            "automargin": true,
            "type": "pie"
           }
          ],
          "scatter": [
           {
            "fillpattern": {
             "fillmode": "overlay",
             "size": 10,
             "solidity": 0.2
            },
            "type": "scatter"
           }
          ],
          "scatter3d": [
           {
            "line": {
             "colorbar": {
              "outlinewidth": 0,
              "ticks": ""
             }
            },
            "marker": {
             "colorbar": {
              "outlinewidth": 0,
              "ticks": ""
             }
            },
            "type": "scatter3d"
           }
          ],
          "scattercarpet": [
           {
            "marker": {
             "colorbar": {
              "outlinewidth": 0,
              "ticks": ""
             }
            },
            "type": "scattercarpet"
           }
          ],
          "scattergeo": [
           {
            "marker": {
             "colorbar": {
              "outlinewidth": 0,
              "ticks": ""
             }
            },
            "type": "scattergeo"
           }
          ],
          "scattergl": [
           {
            "marker": {
             "colorbar": {
              "outlinewidth": 0,
              "ticks": ""
             }
            },
            "type": "scattergl"
           }
          ],
          "scattermapbox": [
           {
            "marker": {
             "colorbar": {
              "outlinewidth": 0,
              "ticks": ""
             }
            },
            "type": "scattermapbox"
           }
          ],
          "scatterpolar": [
           {
            "marker": {
             "colorbar": {
              "outlinewidth": 0,
              "ticks": ""
             }
            },
            "type": "scatterpolar"
           }
          ],
          "scatterpolargl": [
           {
            "marker": {
             "colorbar": {
              "outlinewidth": 0,
              "ticks": ""
             }
            },
            "type": "scatterpolargl"
           }
          ],
          "scatterternary": [
           {
            "marker": {
             "colorbar": {
              "outlinewidth": 0,
              "ticks": ""
             }
            },
            "type": "scatterternary"
           }
          ],
          "surface": [
           {
            "colorbar": {
             "outlinewidth": 0,
             "ticks": ""
            },
            "colorscale": [
             [
              0,
              "#0d0887"
             ],
             [
              0.1111111111111111,
              "#46039f"
             ],
             [
              0.2222222222222222,
              "#7201a8"
             ],
             [
              0.3333333333333333,
              "#9c179e"
             ],
             [
              0.4444444444444444,
              "#bd3786"
             ],
             [
              0.5555555555555556,
              "#d8576b"
             ],
             [
              0.6666666666666666,
              "#ed7953"
             ],
             [
              0.7777777777777778,
              "#fb9f3a"
             ],
             [
              0.8888888888888888,
              "#fdca26"
             ],
             [
              1,
              "#f0f921"
             ]
            ],
            "type": "surface"
           }
          ],
          "table": [
           {
            "cells": {
             "fill": {
              "color": "#EBF0F8"
             },
             "line": {
              "color": "white"
             }
            },
            "header": {
             "fill": {
              "color": "#C8D4E3"
             },
             "line": {
              "color": "white"
             }
            },
            "type": "table"
           }
          ]
         },
         "layout": {
          "annotationdefaults": {
           "arrowcolor": "#2a3f5f",
           "arrowhead": 0,
           "arrowwidth": 1
          },
          "autotypenumbers": "strict",
          "coloraxis": {
           "colorbar": {
            "outlinewidth": 0,
            "ticks": ""
           }
          },
          "colorscale": {
           "diverging": [
            [
             0,
             "#8e0152"
            ],
            [
             0.1,
             "#c51b7d"
            ],
            [
             0.2,
             "#de77ae"
            ],
            [
             0.3,
             "#f1b6da"
            ],
            [
             0.4,
             "#fde0ef"
            ],
            [
             0.5,
             "#f7f7f7"
            ],
            [
             0.6,
             "#e6f5d0"
            ],
            [
             0.7,
             "#b8e186"
            ],
            [
             0.8,
             "#7fbc41"
            ],
            [
             0.9,
             "#4d9221"
            ],
            [
             1,
             "#276419"
            ]
           ],
           "sequential": [
            [
             0,
             "#0d0887"
            ],
            [
             0.1111111111111111,
             "#46039f"
            ],
            [
             0.2222222222222222,
             "#7201a8"
            ],
            [
             0.3333333333333333,
             "#9c179e"
            ],
            [
             0.4444444444444444,
             "#bd3786"
            ],
            [
             0.5555555555555556,
             "#d8576b"
            ],
            [
             0.6666666666666666,
             "#ed7953"
            ],
            [
             0.7777777777777778,
             "#fb9f3a"
            ],
            [
             0.8888888888888888,
             "#fdca26"
            ],
            [
             1,
             "#f0f921"
            ]
           ],
           "sequentialminus": [
            [
             0,
             "#0d0887"
            ],
            [
             0.1111111111111111,
             "#46039f"
            ],
            [
             0.2222222222222222,
             "#7201a8"
            ],
            [
             0.3333333333333333,
             "#9c179e"
            ],
            [
             0.4444444444444444,
             "#bd3786"
            ],
            [
             0.5555555555555556,
             "#d8576b"
            ],
            [
             0.6666666666666666,
             "#ed7953"
            ],
            [
             0.7777777777777778,
             "#fb9f3a"
            ],
            [
             0.8888888888888888,
             "#fdca26"
            ],
            [
             1,
             "#f0f921"
            ]
           ]
          },
          "colorway": [
           "#636efa",
           "#EF553B",
           "#00cc96",
           "#ab63fa",
           "#FFA15A",
           "#19d3f3",
           "#FF6692",
           "#B6E880",
           "#FF97FF",
           "#FECB52"
          ],
          "font": {
           "color": "#2a3f5f"
          },
          "geo": {
           "bgcolor": "white",
           "lakecolor": "white",
           "landcolor": "#E5ECF6",
           "showlakes": true,
           "showland": true,
           "subunitcolor": "white"
          },
          "hoverlabel": {
           "align": "left"
          },
          "hovermode": "closest",
          "mapbox": {
           "style": "light"
          },
          "paper_bgcolor": "white",
          "plot_bgcolor": "#E5ECF6",
          "polar": {
           "angularaxis": {
            "gridcolor": "white",
            "linecolor": "white",
            "ticks": ""
           },
           "bgcolor": "#E5ECF6",
           "radialaxis": {
            "gridcolor": "white",
            "linecolor": "white",
            "ticks": ""
           }
          },
          "scene": {
           "xaxis": {
            "backgroundcolor": "#E5ECF6",
            "gridcolor": "white",
            "gridwidth": 2,
            "linecolor": "white",
            "showbackground": true,
            "ticks": "",
            "zerolinecolor": "white"
           },
           "yaxis": {
            "backgroundcolor": "#E5ECF6",
            "gridcolor": "white",
            "gridwidth": 2,
            "linecolor": "white",
            "showbackground": true,
            "ticks": "",
            "zerolinecolor": "white"
           },
           "zaxis": {
            "backgroundcolor": "#E5ECF6",
            "gridcolor": "white",
            "gridwidth": 2,
            "linecolor": "white",
            "showbackground": true,
            "ticks": "",
            "zerolinecolor": "white"
           }
          },
          "shapedefaults": {
           "line": {
            "color": "#2a3f5f"
           }
          },
          "ternary": {
           "aaxis": {
            "gridcolor": "white",
            "linecolor": "white",
            "ticks": ""
           },
           "baxis": {
            "gridcolor": "white",
            "linecolor": "white",
            "ticks": ""
           },
           "bgcolor": "#E5ECF6",
           "caxis": {
            "gridcolor": "white",
            "linecolor": "white",
            "ticks": ""
           }
          },
          "title": {
           "x": 0.05
          },
          "xaxis": {
           "automargin": true,
           "gridcolor": "white",
           "linecolor": "white",
           "ticks": "",
           "title": {
            "standoff": 15
           },
           "zerolinecolor": "white",
           "zerolinewidth": 2
          },
          "yaxis": {
           "automargin": true,
           "gridcolor": "white",
           "linecolor": "white",
           "ticks": "",
           "title": {
            "standoff": 15
           },
           "zerolinecolor": "white",
           "zerolinewidth": 2
          }
         }
        },
        "title": {
         "text": "Frecuencia de las Regiones para GSE: Medio"
        },
        "xaxis": {
         "anchor": "y",
         "domain": [
          0,
          1
         ],
         "title": {
          "text": "Frecuencia"
         }
        },
        "yaxis": {
         "anchor": "x",
         "domain": [
          0,
          1
         ],
         "title": {
          "text": "Región"
         }
        }
       }
      }
     },
     "metadata": {},
     "output_type": "display_data"
    },
    {
     "data": {
      "application/vnd.plotly.v1+json": {
       "config": {
        "plotlyServerURL": "https://plot.ly"
       },
       "data": [
        {
         "alignmentgroup": "True",
         "hovertemplate": "Frecuencia=%{x}<br>Región=%{y}<extra></extra>",
         "legendgroup": "",
         "marker": {
          "color": "#636efa",
          "pattern": {
           "shape": ""
          }
         },
         "name": "",
         "offsetgroup": "",
         "orientation": "h",
         "showlegend": false,
         "textposition": "auto",
         "texttemplate": "%{x}",
         "type": "bar",
         "x": [
          100,
          63,
          56,
          28,
          23,
          22,
          22,
          17,
          14,
          14,
          12,
          9,
          8,
          4,
          3,
          3,
          2
         ],
         "xaxis": "x",
         "y": [
          "Región del Biobío",
          "Región Metropolitana de Santiago",
          "Región de Valparaíso",
          "Región de Los Lagos",
          "Región de los Ríos",
          "Región del Maule",
          "Región de La Araucanía",
          "Región del Libertador General Bernardo O' Higgins",
          "Región de Atacama",
          "Región de Coquimbo",
          "Región de Los Ríos",
          "Región de Antofagasta",
          "Región de Arica y Parinacota",
          "Región de Tarapacá",
          "Región de la Araucanía",
          "Región de Magallanes y de la Antártica Chilena",
          "Región de Aysén del General Carlos Ibáñez del Campo"
         ],
         "yaxis": "y"
        }
       ],
       "layout": {
        "barmode": "relative",
        "legend": {
         "tracegroupgap": 0
        },
        "template": {
         "data": {
          "bar": [
           {
            "error_x": {
             "color": "#2a3f5f"
            },
            "error_y": {
             "color": "#2a3f5f"
            },
            "marker": {
             "line": {
              "color": "#E5ECF6",
              "width": 0.5
             },
             "pattern": {
              "fillmode": "overlay",
              "size": 10,
              "solidity": 0.2
             }
            },
            "type": "bar"
           }
          ],
          "barpolar": [
           {
            "marker": {
             "line": {
              "color": "#E5ECF6",
              "width": 0.5
             },
             "pattern": {
              "fillmode": "overlay",
              "size": 10,
              "solidity": 0.2
             }
            },
            "type": "barpolar"
           }
          ],
          "carpet": [
           {
            "aaxis": {
             "endlinecolor": "#2a3f5f",
             "gridcolor": "white",
             "linecolor": "white",
             "minorgridcolor": "white",
             "startlinecolor": "#2a3f5f"
            },
            "baxis": {
             "endlinecolor": "#2a3f5f",
             "gridcolor": "white",
             "linecolor": "white",
             "minorgridcolor": "white",
             "startlinecolor": "#2a3f5f"
            },
            "type": "carpet"
           }
          ],
          "choropleth": [
           {
            "colorbar": {
             "outlinewidth": 0,
             "ticks": ""
            },
            "type": "choropleth"
           }
          ],
          "contour": [
           {
            "colorbar": {
             "outlinewidth": 0,
             "ticks": ""
            },
            "colorscale": [
             [
              0,
              "#0d0887"
             ],
             [
              0.1111111111111111,
              "#46039f"
             ],
             [
              0.2222222222222222,
              "#7201a8"
             ],
             [
              0.3333333333333333,
              "#9c179e"
             ],
             [
              0.4444444444444444,
              "#bd3786"
             ],
             [
              0.5555555555555556,
              "#d8576b"
             ],
             [
              0.6666666666666666,
              "#ed7953"
             ],
             [
              0.7777777777777778,
              "#fb9f3a"
             ],
             [
              0.8888888888888888,
              "#fdca26"
             ],
             [
              1,
              "#f0f921"
             ]
            ],
            "type": "contour"
           }
          ],
          "contourcarpet": [
           {
            "colorbar": {
             "outlinewidth": 0,
             "ticks": ""
            },
            "type": "contourcarpet"
           }
          ],
          "heatmap": [
           {
            "colorbar": {
             "outlinewidth": 0,
             "ticks": ""
            },
            "colorscale": [
             [
              0,
              "#0d0887"
             ],
             [
              0.1111111111111111,
              "#46039f"
             ],
             [
              0.2222222222222222,
              "#7201a8"
             ],
             [
              0.3333333333333333,
              "#9c179e"
             ],
             [
              0.4444444444444444,
              "#bd3786"
             ],
             [
              0.5555555555555556,
              "#d8576b"
             ],
             [
              0.6666666666666666,
              "#ed7953"
             ],
             [
              0.7777777777777778,
              "#fb9f3a"
             ],
             [
              0.8888888888888888,
              "#fdca26"
             ],
             [
              1,
              "#f0f921"
             ]
            ],
            "type": "heatmap"
           }
          ],
          "heatmapgl": [
           {
            "colorbar": {
             "outlinewidth": 0,
             "ticks": ""
            },
            "colorscale": [
             [
              0,
              "#0d0887"
             ],
             [
              0.1111111111111111,
              "#46039f"
             ],
             [
              0.2222222222222222,
              "#7201a8"
             ],
             [
              0.3333333333333333,
              "#9c179e"
             ],
             [
              0.4444444444444444,
              "#bd3786"
             ],
             [
              0.5555555555555556,
              "#d8576b"
             ],
             [
              0.6666666666666666,
              "#ed7953"
             ],
             [
              0.7777777777777778,
              "#fb9f3a"
             ],
             [
              0.8888888888888888,
              "#fdca26"
             ],
             [
              1,
              "#f0f921"
             ]
            ],
            "type": "heatmapgl"
           }
          ],
          "histogram": [
           {
            "marker": {
             "pattern": {
              "fillmode": "overlay",
              "size": 10,
              "solidity": 0.2
             }
            },
            "type": "histogram"
           }
          ],
          "histogram2d": [
           {
            "colorbar": {
             "outlinewidth": 0,
             "ticks": ""
            },
            "colorscale": [
             [
              0,
              "#0d0887"
             ],
             [
              0.1111111111111111,
              "#46039f"
             ],
             [
              0.2222222222222222,
              "#7201a8"
             ],
             [
              0.3333333333333333,
              "#9c179e"
             ],
             [
              0.4444444444444444,
              "#bd3786"
             ],
             [
              0.5555555555555556,
              "#d8576b"
             ],
             [
              0.6666666666666666,
              "#ed7953"
             ],
             [
              0.7777777777777778,
              "#fb9f3a"
             ],
             [
              0.8888888888888888,
              "#fdca26"
             ],
             [
              1,
              "#f0f921"
             ]
            ],
            "type": "histogram2d"
           }
          ],
          "histogram2dcontour": [
           {
            "colorbar": {
             "outlinewidth": 0,
             "ticks": ""
            },
            "colorscale": [
             [
              0,
              "#0d0887"
             ],
             [
              0.1111111111111111,
              "#46039f"
             ],
             [
              0.2222222222222222,
              "#7201a8"
             ],
             [
              0.3333333333333333,
              "#9c179e"
             ],
             [
              0.4444444444444444,
              "#bd3786"
             ],
             [
              0.5555555555555556,
              "#d8576b"
             ],
             [
              0.6666666666666666,
              "#ed7953"
             ],
             [
              0.7777777777777778,
              "#fb9f3a"
             ],
             [
              0.8888888888888888,
              "#fdca26"
             ],
             [
              1,
              "#f0f921"
             ]
            ],
            "type": "histogram2dcontour"
           }
          ],
          "mesh3d": [
           {
            "colorbar": {
             "outlinewidth": 0,
             "ticks": ""
            },
            "type": "mesh3d"
           }
          ],
          "parcoords": [
           {
            "line": {
             "colorbar": {
              "outlinewidth": 0,
              "ticks": ""
             }
            },
            "type": "parcoords"
           }
          ],
          "pie": [
           {
            "automargin": true,
            "type": "pie"
           }
          ],
          "scatter": [
           {
            "fillpattern": {
             "fillmode": "overlay",
             "size": 10,
             "solidity": 0.2
            },
            "type": "scatter"
           }
          ],
          "scatter3d": [
           {
            "line": {
             "colorbar": {
              "outlinewidth": 0,
              "ticks": ""
             }
            },
            "marker": {
             "colorbar": {
              "outlinewidth": 0,
              "ticks": ""
             }
            },
            "type": "scatter3d"
           }
          ],
          "scattercarpet": [
           {
            "marker": {
             "colorbar": {
              "outlinewidth": 0,
              "ticks": ""
             }
            },
            "type": "scattercarpet"
           }
          ],
          "scattergeo": [
           {
            "marker": {
             "colorbar": {
              "outlinewidth": 0,
              "ticks": ""
             }
            },
            "type": "scattergeo"
           }
          ],
          "scattergl": [
           {
            "marker": {
             "colorbar": {
              "outlinewidth": 0,
              "ticks": ""
             }
            },
            "type": "scattergl"
           }
          ],
          "scattermapbox": [
           {
            "marker": {
             "colorbar": {
              "outlinewidth": 0,
              "ticks": ""
             }
            },
            "type": "scattermapbox"
           }
          ],
          "scatterpolar": [
           {
            "marker": {
             "colorbar": {
              "outlinewidth": 0,
              "ticks": ""
             }
            },
            "type": "scatterpolar"
           }
          ],
          "scatterpolargl": [
           {
            "marker": {
             "colorbar": {
              "outlinewidth": 0,
              "ticks": ""
             }
            },
            "type": "scatterpolargl"
           }
          ],
          "scatterternary": [
           {
            "marker": {
             "colorbar": {
              "outlinewidth": 0,
              "ticks": ""
             }
            },
            "type": "scatterternary"
           }
          ],
          "surface": [
           {
            "colorbar": {
             "outlinewidth": 0,
             "ticks": ""
            },
            "colorscale": [
             [
              0,
              "#0d0887"
             ],
             [
              0.1111111111111111,
              "#46039f"
             ],
             [
              0.2222222222222222,
              "#7201a8"
             ],
             [
              0.3333333333333333,
              "#9c179e"
             ],
             [
              0.4444444444444444,
              "#bd3786"
             ],
             [
              0.5555555555555556,
              "#d8576b"
             ],
             [
              0.6666666666666666,
              "#ed7953"
             ],
             [
              0.7777777777777778,
              "#fb9f3a"
             ],
             [
              0.8888888888888888,
              "#fdca26"
             ],
             [
              1,
              "#f0f921"
             ]
            ],
            "type": "surface"
           }
          ],
          "table": [
           {
            "cells": {
             "fill": {
              "color": "#EBF0F8"
             },
             "line": {
              "color": "white"
             }
            },
            "header": {
             "fill": {
              "color": "#C8D4E3"
             },
             "line": {
              "color": "white"
             }
            },
            "type": "table"
           }
          ]
         },
         "layout": {
          "annotationdefaults": {
           "arrowcolor": "#2a3f5f",
           "arrowhead": 0,
           "arrowwidth": 1
          },
          "autotypenumbers": "strict",
          "coloraxis": {
           "colorbar": {
            "outlinewidth": 0,
            "ticks": ""
           }
          },
          "colorscale": {
           "diverging": [
            [
             0,
             "#8e0152"
            ],
            [
             0.1,
             "#c51b7d"
            ],
            [
             0.2,
             "#de77ae"
            ],
            [
             0.3,
             "#f1b6da"
            ],
            [
             0.4,
             "#fde0ef"
            ],
            [
             0.5,
             "#f7f7f7"
            ],
            [
             0.6,
             "#e6f5d0"
            ],
            [
             0.7,
             "#b8e186"
            ],
            [
             0.8,
             "#7fbc41"
            ],
            [
             0.9,
             "#4d9221"
            ],
            [
             1,
             "#276419"
            ]
           ],
           "sequential": [
            [
             0,
             "#0d0887"
            ],
            [
             0.1111111111111111,
             "#46039f"
            ],
            [
             0.2222222222222222,
             "#7201a8"
            ],
            [
             0.3333333333333333,
             "#9c179e"
            ],
            [
             0.4444444444444444,
             "#bd3786"
            ],
            [
             0.5555555555555556,
             "#d8576b"
            ],
            [
             0.6666666666666666,
             "#ed7953"
            ],
            [
             0.7777777777777778,
             "#fb9f3a"
            ],
            [
             0.8888888888888888,
             "#fdca26"
            ],
            [
             1,
             "#f0f921"
            ]
           ],
           "sequentialminus": [
            [
             0,
             "#0d0887"
            ],
            [
             0.1111111111111111,
             "#46039f"
            ],
            [
             0.2222222222222222,
             "#7201a8"
            ],
            [
             0.3333333333333333,
             "#9c179e"
            ],
            [
             0.4444444444444444,
             "#bd3786"
            ],
            [
             0.5555555555555556,
             "#d8576b"
            ],
            [
             0.6666666666666666,
             "#ed7953"
            ],
            [
             0.7777777777777778,
             "#fb9f3a"
            ],
            [
             0.8888888888888888,
             "#fdca26"
            ],
            [
             1,
             "#f0f921"
            ]
           ]
          },
          "colorway": [
           "#636efa",
           "#EF553B",
           "#00cc96",
           "#ab63fa",
           "#FFA15A",
           "#19d3f3",
           "#FF6692",
           "#B6E880",
           "#FF97FF",
           "#FECB52"
          ],
          "font": {
           "color": "#2a3f5f"
          },
          "geo": {
           "bgcolor": "white",
           "lakecolor": "white",
           "landcolor": "#E5ECF6",
           "showlakes": true,
           "showland": true,
           "subunitcolor": "white"
          },
          "hoverlabel": {
           "align": "left"
          },
          "hovermode": "closest",
          "mapbox": {
           "style": "light"
          },
          "paper_bgcolor": "white",
          "plot_bgcolor": "#E5ECF6",
          "polar": {
           "angularaxis": {
            "gridcolor": "white",
            "linecolor": "white",
            "ticks": ""
           },
           "bgcolor": "#E5ECF6",
           "radialaxis": {
            "gridcolor": "white",
            "linecolor": "white",
            "ticks": ""
           }
          },
          "scene": {
           "xaxis": {
            "backgroundcolor": "#E5ECF6",
            "gridcolor": "white",
            "gridwidth": 2,
            "linecolor": "white",
            "showbackground": true,
            "ticks": "",
            "zerolinecolor": "white"
           },
           "yaxis": {
            "backgroundcolor": "#E5ECF6",
            "gridcolor": "white",
            "gridwidth": 2,
            "linecolor": "white",
            "showbackground": true,
            "ticks": "",
            "zerolinecolor": "white"
           },
           "zaxis": {
            "backgroundcolor": "#E5ECF6",
            "gridcolor": "white",
            "gridwidth": 2,
            "linecolor": "white",
            "showbackground": true,
            "ticks": "",
            "zerolinecolor": "white"
           }
          },
          "shapedefaults": {
           "line": {
            "color": "#2a3f5f"
           }
          },
          "ternary": {
           "aaxis": {
            "gridcolor": "white",
            "linecolor": "white",
            "ticks": ""
           },
           "baxis": {
            "gridcolor": "white",
            "linecolor": "white",
            "ticks": ""
           },
           "bgcolor": "#E5ECF6",
           "caxis": {
            "gridcolor": "white",
            "linecolor": "white",
            "ticks": ""
           }
          },
          "title": {
           "x": 0.05
          },
          "xaxis": {
           "automargin": true,
           "gridcolor": "white",
           "linecolor": "white",
           "ticks": "",
           "title": {
            "standoff": 15
           },
           "zerolinecolor": "white",
           "zerolinewidth": 2
          },
          "yaxis": {
           "automargin": true,
           "gridcolor": "white",
           "linecolor": "white",
           "ticks": "",
           "title": {
            "standoff": 15
           },
           "zerolinecolor": "white",
           "zerolinewidth": 2
          }
         }
        },
        "title": {
         "text": "Frecuencia de las Regiones para GSE: Medio bajo"
        },
        "xaxis": {
         "anchor": "y",
         "domain": [
          0,
          1
         ],
         "title": {
          "text": "Frecuencia"
         }
        },
        "yaxis": {
         "anchor": "x",
         "domain": [
          0,
          1
         ],
         "title": {
          "text": "Región"
         }
        }
       }
      }
     },
     "metadata": {},
     "output_type": "display_data"
    },
    {
     "data": {
      "application/vnd.plotly.v1+json": {
       "config": {
        "plotlyServerURL": "https://plot.ly"
       },
       "data": [
        {
         "alignmentgroup": "True",
         "hovertemplate": "Frecuencia=%{x}<br>Región=%{y}<extra></extra>",
         "legendgroup": "",
         "marker": {
          "color": "#636efa",
          "pattern": {
           "shape": ""
          }
         },
         "name": "",
         "offsetgroup": "",
         "orientation": "h",
         "showlegend": false,
         "textposition": "auto",
         "texttemplate": "%{x}",
         "type": "bar",
         "x": [
          235,
          60,
          31,
          30,
          13,
          12,
          12,
          11,
          11,
          9,
          8,
          8,
          6,
          6,
          3,
          2
         ],
         "xaxis": "x",
         "y": [
          "Región Metropolitana de Santiago",
          "Región del Biobío",
          "Región de Valparaíso",
          "Región de Antofagasta",
          "Región de Los Lagos",
          "Región de Magallanes y de la Antártica Chilena",
          "Región de Coquimbo",
          "Región de Tarapacá",
          "Región del Maule",
          "Región de Atacama",
          "Región de la Araucanía",
          "Región de Los Ríos",
          "Región del Libertador General Bernardo O' Higgins",
          "Región de Aysén del General Carlos Ibáñez del Campo",
          "Región de los Ríos",
          "Región de Arica y Parinacota"
         ],
         "yaxis": "y"
        }
       ],
       "layout": {
        "barmode": "relative",
        "legend": {
         "tracegroupgap": 0
        },
        "template": {
         "data": {
          "bar": [
           {
            "error_x": {
             "color": "#2a3f5f"
            },
            "error_y": {
             "color": "#2a3f5f"
            },
            "marker": {
             "line": {
              "color": "#E5ECF6",
              "width": 0.5
             },
             "pattern": {
              "fillmode": "overlay",
              "size": 10,
              "solidity": 0.2
             }
            },
            "type": "bar"
           }
          ],
          "barpolar": [
           {
            "marker": {
             "line": {
              "color": "#E5ECF6",
              "width": 0.5
             },
             "pattern": {
              "fillmode": "overlay",
              "size": 10,
              "solidity": 0.2
             }
            },
            "type": "barpolar"
           }
          ],
          "carpet": [
           {
            "aaxis": {
             "endlinecolor": "#2a3f5f",
             "gridcolor": "white",
             "linecolor": "white",
             "minorgridcolor": "white",
             "startlinecolor": "#2a3f5f"
            },
            "baxis": {
             "endlinecolor": "#2a3f5f",
             "gridcolor": "white",
             "linecolor": "white",
             "minorgridcolor": "white",
             "startlinecolor": "#2a3f5f"
            },
            "type": "carpet"
           }
          ],
          "choropleth": [
           {
            "colorbar": {
             "outlinewidth": 0,
             "ticks": ""
            },
            "type": "choropleth"
           }
          ],
          "contour": [
           {
            "colorbar": {
             "outlinewidth": 0,
             "ticks": ""
            },
            "colorscale": [
             [
              0,
              "#0d0887"
             ],
             [
              0.1111111111111111,
              "#46039f"
             ],
             [
              0.2222222222222222,
              "#7201a8"
             ],
             [
              0.3333333333333333,
              "#9c179e"
             ],
             [
              0.4444444444444444,
              "#bd3786"
             ],
             [
              0.5555555555555556,
              "#d8576b"
             ],
             [
              0.6666666666666666,
              "#ed7953"
             ],
             [
              0.7777777777777778,
              "#fb9f3a"
             ],
             [
              0.8888888888888888,
              "#fdca26"
             ],
             [
              1,
              "#f0f921"
             ]
            ],
            "type": "contour"
           }
          ],
          "contourcarpet": [
           {
            "colorbar": {
             "outlinewidth": 0,
             "ticks": ""
            },
            "type": "contourcarpet"
           }
          ],
          "heatmap": [
           {
            "colorbar": {
             "outlinewidth": 0,
             "ticks": ""
            },
            "colorscale": [
             [
              0,
              "#0d0887"
             ],
             [
              0.1111111111111111,
              "#46039f"
             ],
             [
              0.2222222222222222,
              "#7201a8"
             ],
             [
              0.3333333333333333,
              "#9c179e"
             ],
             [
              0.4444444444444444,
              "#bd3786"
             ],
             [
              0.5555555555555556,
              "#d8576b"
             ],
             [
              0.6666666666666666,
              "#ed7953"
             ],
             [
              0.7777777777777778,
              "#fb9f3a"
             ],
             [
              0.8888888888888888,
              "#fdca26"
             ],
             [
              1,
              "#f0f921"
             ]
            ],
            "type": "heatmap"
           }
          ],
          "heatmapgl": [
           {
            "colorbar": {
             "outlinewidth": 0,
             "ticks": ""
            },
            "colorscale": [
             [
              0,
              "#0d0887"
             ],
             [
              0.1111111111111111,
              "#46039f"
             ],
             [
              0.2222222222222222,
              "#7201a8"
             ],
             [
              0.3333333333333333,
              "#9c179e"
             ],
             [
              0.4444444444444444,
              "#bd3786"
             ],
             [
              0.5555555555555556,
              "#d8576b"
             ],
             [
              0.6666666666666666,
              "#ed7953"
             ],
             [
              0.7777777777777778,
              "#fb9f3a"
             ],
             [
              0.8888888888888888,
              "#fdca26"
             ],
             [
              1,
              "#f0f921"
             ]
            ],
            "type": "heatmapgl"
           }
          ],
          "histogram": [
           {
            "marker": {
             "pattern": {
              "fillmode": "overlay",
              "size": 10,
              "solidity": 0.2
             }
            },
            "type": "histogram"
           }
          ],
          "histogram2d": [
           {
            "colorbar": {
             "outlinewidth": 0,
             "ticks": ""
            },
            "colorscale": [
             [
              0,
              "#0d0887"
             ],
             [
              0.1111111111111111,
              "#46039f"
             ],
             [
              0.2222222222222222,
              "#7201a8"
             ],
             [
              0.3333333333333333,
              "#9c179e"
             ],
             [
              0.4444444444444444,
              "#bd3786"
             ],
             [
              0.5555555555555556,
              "#d8576b"
             ],
             [
              0.6666666666666666,
              "#ed7953"
             ],
             [
              0.7777777777777778,
              "#fb9f3a"
             ],
             [
              0.8888888888888888,
              "#fdca26"
             ],
             [
              1,
              "#f0f921"
             ]
            ],
            "type": "histogram2d"
           }
          ],
          "histogram2dcontour": [
           {
            "colorbar": {
             "outlinewidth": 0,
             "ticks": ""
            },
            "colorscale": [
             [
              0,
              "#0d0887"
             ],
             [
              0.1111111111111111,
              "#46039f"
             ],
             [
              0.2222222222222222,
              "#7201a8"
             ],
             [
              0.3333333333333333,
              "#9c179e"
             ],
             [
              0.4444444444444444,
              "#bd3786"
             ],
             [
              0.5555555555555556,
              "#d8576b"
             ],
             [
              0.6666666666666666,
              "#ed7953"
             ],
             [
              0.7777777777777778,
              "#fb9f3a"
             ],
             [
              0.8888888888888888,
              "#fdca26"
             ],
             [
              1,
              "#f0f921"
             ]
            ],
            "type": "histogram2dcontour"
           }
          ],
          "mesh3d": [
           {
            "colorbar": {
             "outlinewidth": 0,
             "ticks": ""
            },
            "type": "mesh3d"
           }
          ],
          "parcoords": [
           {
            "line": {
             "colorbar": {
              "outlinewidth": 0,
              "ticks": ""
             }
            },
            "type": "parcoords"
           }
          ],
          "pie": [
           {
            "automargin": true,
            "type": "pie"
           }
          ],
          "scatter": [
           {
            "fillpattern": {
             "fillmode": "overlay",
             "size": 10,
             "solidity": 0.2
            },
            "type": "scatter"
           }
          ],
          "scatter3d": [
           {
            "line": {
             "colorbar": {
              "outlinewidth": 0,
              "ticks": ""
             }
            },
            "marker": {
             "colorbar": {
              "outlinewidth": 0,
              "ticks": ""
             }
            },
            "type": "scatter3d"
           }
          ],
          "scattercarpet": [
           {
            "marker": {
             "colorbar": {
              "outlinewidth": 0,
              "ticks": ""
             }
            },
            "type": "scattercarpet"
           }
          ],
          "scattergeo": [
           {
            "marker": {
             "colorbar": {
              "outlinewidth": 0,
              "ticks": ""
             }
            },
            "type": "scattergeo"
           }
          ],
          "scattergl": [
           {
            "marker": {
             "colorbar": {
              "outlinewidth": 0,
              "ticks": ""
             }
            },
            "type": "scattergl"
           }
          ],
          "scattermapbox": [
           {
            "marker": {
             "colorbar": {
              "outlinewidth": 0,
              "ticks": ""
             }
            },
            "type": "scattermapbox"
           }
          ],
          "scatterpolar": [
           {
            "marker": {
             "colorbar": {
              "outlinewidth": 0,
              "ticks": ""
             }
            },
            "type": "scatterpolar"
           }
          ],
          "scatterpolargl": [
           {
            "marker": {
             "colorbar": {
              "outlinewidth": 0,
              "ticks": ""
             }
            },
            "type": "scatterpolargl"
           }
          ],
          "scatterternary": [
           {
            "marker": {
             "colorbar": {
              "outlinewidth": 0,
              "ticks": ""
             }
            },
            "type": "scatterternary"
           }
          ],
          "surface": [
           {
            "colorbar": {
             "outlinewidth": 0,
             "ticks": ""
            },
            "colorscale": [
             [
              0,
              "#0d0887"
             ],
             [
              0.1111111111111111,
              "#46039f"
             ],
             [
              0.2222222222222222,
              "#7201a8"
             ],
             [
              0.3333333333333333,
              "#9c179e"
             ],
             [
              0.4444444444444444,
              "#bd3786"
             ],
             [
              0.5555555555555556,
              "#d8576b"
             ],
             [
              0.6666666666666666,
              "#ed7953"
             ],
             [
              0.7777777777777778,
              "#fb9f3a"
             ],
             [
              0.8888888888888888,
              "#fdca26"
             ],
             [
              1,
              "#f0f921"
             ]
            ],
            "type": "surface"
           }
          ],
          "table": [
           {
            "cells": {
             "fill": {
              "color": "#EBF0F8"
             },
             "line": {
              "color": "white"
             }
            },
            "header": {
             "fill": {
              "color": "#C8D4E3"
             },
             "line": {
              "color": "white"
             }
            },
            "type": "table"
           }
          ]
         },
         "layout": {
          "annotationdefaults": {
           "arrowcolor": "#2a3f5f",
           "arrowhead": 0,
           "arrowwidth": 1
          },
          "autotypenumbers": "strict",
          "coloraxis": {
           "colorbar": {
            "outlinewidth": 0,
            "ticks": ""
           }
          },
          "colorscale": {
           "diverging": [
            [
             0,
             "#8e0152"
            ],
            [
             0.1,
             "#c51b7d"
            ],
            [
             0.2,
             "#de77ae"
            ],
            [
             0.3,
             "#f1b6da"
            ],
            [
             0.4,
             "#fde0ef"
            ],
            [
             0.5,
             "#f7f7f7"
            ],
            [
             0.6,
             "#e6f5d0"
            ],
            [
             0.7,
             "#b8e186"
            ],
            [
             0.8,
             "#7fbc41"
            ],
            [
             0.9,
             "#4d9221"
            ],
            [
             1,
             "#276419"
            ]
           ],
           "sequential": [
            [
             0,
             "#0d0887"
            ],
            [
             0.1111111111111111,
             "#46039f"
            ],
            [
             0.2222222222222222,
             "#7201a8"
            ],
            [
             0.3333333333333333,
             "#9c179e"
            ],
            [
             0.4444444444444444,
             "#bd3786"
            ],
            [
             0.5555555555555556,
             "#d8576b"
            ],
            [
             0.6666666666666666,
             "#ed7953"
            ],
            [
             0.7777777777777778,
             "#fb9f3a"
            ],
            [
             0.8888888888888888,
             "#fdca26"
            ],
            [
             1,
             "#f0f921"
            ]
           ],
           "sequentialminus": [
            [
             0,
             "#0d0887"
            ],
            [
             0.1111111111111111,
             "#46039f"
            ],
            [
             0.2222222222222222,
             "#7201a8"
            ],
            [
             0.3333333333333333,
             "#9c179e"
            ],
            [
             0.4444444444444444,
             "#bd3786"
            ],
            [
             0.5555555555555556,
             "#d8576b"
            ],
            [
             0.6666666666666666,
             "#ed7953"
            ],
            [
             0.7777777777777778,
             "#fb9f3a"
            ],
            [
             0.8888888888888888,
             "#fdca26"
            ],
            [
             1,
             "#f0f921"
            ]
           ]
          },
          "colorway": [
           "#636efa",
           "#EF553B",
           "#00cc96",
           "#ab63fa",
           "#FFA15A",
           "#19d3f3",
           "#FF6692",
           "#B6E880",
           "#FF97FF",
           "#FECB52"
          ],
          "font": {
           "color": "#2a3f5f"
          },
          "geo": {
           "bgcolor": "white",
           "lakecolor": "white",
           "landcolor": "#E5ECF6",
           "showlakes": true,
           "showland": true,
           "subunitcolor": "white"
          },
          "hoverlabel": {
           "align": "left"
          },
          "hovermode": "closest",
          "mapbox": {
           "style": "light"
          },
          "paper_bgcolor": "white",
          "plot_bgcolor": "#E5ECF6",
          "polar": {
           "angularaxis": {
            "gridcolor": "white",
            "linecolor": "white",
            "ticks": ""
           },
           "bgcolor": "#E5ECF6",
           "radialaxis": {
            "gridcolor": "white",
            "linecolor": "white",
            "ticks": ""
           }
          },
          "scene": {
           "xaxis": {
            "backgroundcolor": "#E5ECF6",
            "gridcolor": "white",
            "gridwidth": 2,
            "linecolor": "white",
            "showbackground": true,
            "ticks": "",
            "zerolinecolor": "white"
           },
           "yaxis": {
            "backgroundcolor": "#E5ECF6",
            "gridcolor": "white",
            "gridwidth": 2,
            "linecolor": "white",
            "showbackground": true,
            "ticks": "",
            "zerolinecolor": "white"
           },
           "zaxis": {
            "backgroundcolor": "#E5ECF6",
            "gridcolor": "white",
            "gridwidth": 2,
            "linecolor": "white",
            "showbackground": true,
            "ticks": "",
            "zerolinecolor": "white"
           }
          },
          "shapedefaults": {
           "line": {
            "color": "#2a3f5f"
           }
          },
          "ternary": {
           "aaxis": {
            "gridcolor": "white",
            "linecolor": "white",
            "ticks": ""
           },
           "baxis": {
            "gridcolor": "white",
            "linecolor": "white",
            "ticks": ""
           },
           "bgcolor": "#E5ECF6",
           "caxis": {
            "gridcolor": "white",
            "linecolor": "white",
            "ticks": ""
           }
          },
          "title": {
           "x": 0.05
          },
          "xaxis": {
           "automargin": true,
           "gridcolor": "white",
           "linecolor": "white",
           "ticks": "",
           "title": {
            "standoff": 15
           },
           "zerolinecolor": "white",
           "zerolinewidth": 2
          },
          "yaxis": {
           "automargin": true,
           "gridcolor": "white",
           "linecolor": "white",
           "ticks": "",
           "title": {
            "standoff": 15
           },
           "zerolinecolor": "white",
           "zerolinewidth": 2
          }
         }
        },
        "title": {
         "text": "Frecuencia de las Regiones para GSE: Medio alto"
        },
        "xaxis": {
         "anchor": "y",
         "domain": [
          0,
          1
         ],
         "title": {
          "text": "Frecuencia"
         }
        },
        "yaxis": {
         "anchor": "x",
         "domain": [
          0,
          1
         ],
         "title": {
          "text": "Región"
         }
        }
       }
      }
     },
     "metadata": {},
     "output_type": "display_data"
    }
   ],
   "source": [
    "# Obtener los valores únicos de la columna GSE\n",
    "gse_values = df['GSE'].dropna().unique()\n",
    "\n",
    "# Iterar sobre cada valor de GSE y crear un gráfico\n",
    "for gse in gse_values:\n",
    "    # Filtrar el dataframe por el valor de GSE actual\n",
    "    df_gse = df[df['GSE'] == gse]\n",
    "    \n",
    "    # Contar las frecuencias por región\n",
    "    region_frequencies_gse = df_gse['Región'].value_counts()\n",
    "    \n",
    "    # Crear el gráfico de barras\n",
    "    fig = px.bar(region_frequencies_gse, x=region_frequencies_gse.values, y=region_frequencies_gse.index, \n",
    "                 title=f'Frecuencia de las Regiones para GSE: {gse}', labels={'x': 'Frecuencia', 'y': 'Región'}, \n",
    "                 text_auto=True, orientation='h')\n",
    "    fig.show()"
   ]
  },
  {
   "cell_type": "code",
   "execution_count": 13,
   "metadata": {},
   "outputs": [
    {
     "ename": "ValueError",
     "evalue": "Value of 'locations' is not the name of a column in 'data_frame'. Expected one of ['Región establecimiento secundario', 'Alto', 'Bajo', 'Medio', 'Medio alto', 'Medio bajo'] but received: Region",
     "output_type": "error",
     "traceback": [
      "\u001b[1;31m---------------------------------------------------------------------------\u001b[0m",
      "\u001b[1;31mValueError\u001b[0m                                Traceback (most recent call last)",
      "Cell \u001b[1;32mIn[13], line 12\u001b[0m\n\u001b[0;32m      9\u001b[0m gse_region \u001b[38;5;241m=\u001b[39m df\u001b[38;5;241m.\u001b[39mgroupby([\u001b[38;5;124m'\u001b[39m\u001b[38;5;124mRegión establecimiento secundario\u001b[39m\u001b[38;5;124m'\u001b[39m, \u001b[38;5;124m'\u001b[39m\u001b[38;5;124mGSE\u001b[39m\u001b[38;5;124m'\u001b[39m])\u001b[38;5;241m.\u001b[39msize()\u001b[38;5;241m.\u001b[39munstack()\u001b[38;5;241m.\u001b[39mfillna(\u001b[38;5;241m0\u001b[39m)\u001b[38;5;241m.\u001b[39mreset_index()\n\u001b[0;32m     11\u001b[0m \u001b[38;5;66;03m# Crear el mapa coroplético\u001b[39;00m\n\u001b[1;32m---> 12\u001b[0m fig \u001b[38;5;241m=\u001b[39m \u001b[43mpx\u001b[49m\u001b[38;5;241;43m.\u001b[39;49m\u001b[43mchoropleth_mapbox\u001b[49m\u001b[43m(\u001b[49m\u001b[43mgse_region\u001b[49m\u001b[43m,\u001b[49m\u001b[43m \u001b[49m\u001b[43mgeojson\u001b[49m\u001b[38;5;241;43m=\u001b[39;49m\u001b[43mgeojson_data\u001b[49m\u001b[43m,\u001b[49m\u001b[43m \u001b[49m\u001b[43mlocations\u001b[49m\u001b[38;5;241;43m=\u001b[39;49m\u001b[38;5;124;43m'\u001b[39;49m\u001b[38;5;124;43mRegion\u001b[39;49m\u001b[38;5;124;43m'\u001b[39;49m\u001b[43m,\u001b[49m\u001b[43m \u001b[49m\u001b[43mfeatureidkey\u001b[49m\u001b[38;5;241;43m=\u001b[39;49m\u001b[38;5;124;43m\"\u001b[39;49m\u001b[38;5;124;43mproperties.region_name\u001b[39;49m\u001b[38;5;124;43m\"\u001b[39;49m\u001b[43m,\u001b[49m\n\u001b[0;32m     13\u001b[0m \u001b[43m                           \u001b[49m\u001b[43mcolor\u001b[49m\u001b[38;5;241;43m=\u001b[39;49m\u001b[38;5;124;43m'\u001b[39;49m\u001b[38;5;124;43mAlto\u001b[39;49m\u001b[38;5;124;43m'\u001b[39;49m\u001b[43m,\u001b[49m\u001b[43m  \u001b[49m\u001b[38;5;66;43;03m# Puedes cambiar 'Alto' por cualquier otra columna de GSE\u001b[39;49;00m\n\u001b[0;32m     14\u001b[0m \u001b[43m                           \u001b[49m\u001b[43mcolor_continuous_scale\u001b[49m\u001b[38;5;241;43m=\u001b[39;49m\u001b[38;5;124;43m'\u001b[39;49m\u001b[38;5;124;43minferno\u001b[39;49m\u001b[38;5;124;43m'\u001b[39;49m\u001b[43m,\u001b[49m\n\u001b[0;32m     15\u001b[0m \u001b[43m                           \u001b[49m\u001b[43mmapbox_style\u001b[49m\u001b[38;5;241;43m=\u001b[39;49m\u001b[38;5;124;43m\"\u001b[39;49m\u001b[38;5;124;43mcarto-positron\u001b[39;49m\u001b[38;5;124;43m\"\u001b[39;49m\u001b[43m,\u001b[49m\n\u001b[0;32m     16\u001b[0m \u001b[43m                           \u001b[49m\u001b[43mzoom\u001b[49m\u001b[38;5;241;43m=\u001b[39;49m\u001b[38;5;241;43m4\u001b[39;49m\u001b[43m,\u001b[49m\u001b[43m \u001b[49m\u001b[43mcenter\u001b[49m\u001b[38;5;241;43m=\u001b[39;49m\u001b[43m{\u001b[49m\u001b[38;5;124;43m\"\u001b[39;49m\u001b[38;5;124;43mlat\u001b[39;49m\u001b[38;5;124;43m\"\u001b[39;49m\u001b[43m:\u001b[49m\u001b[43m \u001b[49m\u001b[38;5;241;43m-\u001b[39;49m\u001b[38;5;241;43m33.45\u001b[39;49m\u001b[43m,\u001b[49m\u001b[43m \u001b[49m\u001b[38;5;124;43m\"\u001b[39;49m\u001b[38;5;124;43mlon\u001b[39;49m\u001b[38;5;124;43m\"\u001b[39;49m\u001b[43m:\u001b[49m\u001b[43m \u001b[49m\u001b[38;5;241;43m-\u001b[39;49m\u001b[38;5;241;43m70.65\u001b[39;49m\u001b[43m}\u001b[49m\u001b[43m,\u001b[49m\n\u001b[0;32m     17\u001b[0m \u001b[43m                           \u001b[49m\u001b[43mopacity\u001b[49m\u001b[38;5;241;43m=\u001b[39;49m\u001b[38;5;241;43m0.5\u001b[39;49m\u001b[43m,\u001b[49m\n\u001b[0;32m     18\u001b[0m \u001b[43m                           \u001b[49m\u001b[43mlabels\u001b[49m\u001b[38;5;241;43m=\u001b[39;49m\u001b[43m{\u001b[49m\u001b[38;5;124;43m'\u001b[39;49m\u001b[38;5;124;43mAlto\u001b[39;49m\u001b[38;5;124;43m'\u001b[39;49m\u001b[43m:\u001b[49m\u001b[43m \u001b[49m\u001b[38;5;124;43m'\u001b[39;49m\u001b[38;5;124;43mFrecuencia de GSE Alto\u001b[39;49m\u001b[38;5;124;43m'\u001b[39;49m\u001b[43m}\u001b[49m\u001b[43m)\u001b[49m\n\u001b[0;32m     20\u001b[0m fig\u001b[38;5;241m.\u001b[39mupdate_layout(margin\u001b[38;5;241m=\u001b[39m{\u001b[38;5;124m\"\u001b[39m\u001b[38;5;124mr\u001b[39m\u001b[38;5;124m\"\u001b[39m:\u001b[38;5;241m0\u001b[39m,\u001b[38;5;124m\"\u001b[39m\u001b[38;5;124mt\u001b[39m\u001b[38;5;124m\"\u001b[39m:\u001b[38;5;241m0\u001b[39m,\u001b[38;5;124m\"\u001b[39m\u001b[38;5;124ml\u001b[39m\u001b[38;5;124m\"\u001b[39m:\u001b[38;5;241m0\u001b[39m,\u001b[38;5;124m\"\u001b[39m\u001b[38;5;124mb\u001b[39m\u001b[38;5;124m\"\u001b[39m:\u001b[38;5;241m0\u001b[39m})\n\u001b[0;32m     21\u001b[0m fig\u001b[38;5;241m.\u001b[39mshow()\n",
      "File \u001b[1;32mc:\\Users\\rodri\\AppData\\Local\\Programs\\Python\\Python312\\Lib\\site-packages\\plotly\\express\\_chart_types.py:1431\u001b[0m, in \u001b[0;36mchoropleth_mapbox\u001b[1;34m(data_frame, geojson, featureidkey, locations, color, hover_name, hover_data, custom_data, animation_frame, animation_group, category_orders, labels, color_discrete_sequence, color_discrete_map, color_continuous_scale, range_color, color_continuous_midpoint, opacity, zoom, center, mapbox_style, title, template, width, height)\u001b[0m\n\u001b[0;32m   1400\u001b[0m \u001b[38;5;28;01mdef\u001b[39;00m \u001b[38;5;21mchoropleth_mapbox\u001b[39m(\n\u001b[0;32m   1401\u001b[0m     data_frame\u001b[38;5;241m=\u001b[39m\u001b[38;5;28;01mNone\u001b[39;00m,\n\u001b[0;32m   1402\u001b[0m     geojson\u001b[38;5;241m=\u001b[39m\u001b[38;5;28;01mNone\u001b[39;00m,\n\u001b[1;32m   (...)\u001b[0m\n\u001b[0;32m   1425\u001b[0m     height\u001b[38;5;241m=\u001b[39m\u001b[38;5;28;01mNone\u001b[39;00m,\n\u001b[0;32m   1426\u001b[0m ) \u001b[38;5;241m-\u001b[39m\u001b[38;5;241m>\u001b[39m go\u001b[38;5;241m.\u001b[39mFigure:\n\u001b[0;32m   1427\u001b[0m \u001b[38;5;250m    \u001b[39m\u001b[38;5;124;03m\"\"\"\u001b[39;00m\n\u001b[0;32m   1428\u001b[0m \u001b[38;5;124;03m    In a Mapbox choropleth map, each row of `data_frame` is represented by a\u001b[39;00m\n\u001b[0;32m   1429\u001b[0m \u001b[38;5;124;03m    colored region on a Mapbox map.\u001b[39;00m\n\u001b[0;32m   1430\u001b[0m \u001b[38;5;124;03m    \"\"\"\u001b[39;00m\n\u001b[1;32m-> 1431\u001b[0m     \u001b[38;5;28;01mreturn\u001b[39;00m \u001b[43mmake_figure\u001b[49m\u001b[43m(\u001b[49m\u001b[43margs\u001b[49m\u001b[38;5;241;43m=\u001b[39;49m\u001b[38;5;28;43mlocals\u001b[39;49m\u001b[43m(\u001b[49m\u001b[43m)\u001b[49m\u001b[43m,\u001b[49m\u001b[43m \u001b[49m\u001b[43mconstructor\u001b[49m\u001b[38;5;241;43m=\u001b[39;49m\u001b[43mgo\u001b[49m\u001b[38;5;241;43m.\u001b[39;49m\u001b[43mChoroplethmapbox\u001b[49m\u001b[43m)\u001b[49m\n",
      "File \u001b[1;32mc:\\Users\\rodri\\AppData\\Local\\Programs\\Python\\Python312\\Lib\\site-packages\\plotly\\express\\_core.py:2117\u001b[0m, in \u001b[0;36mmake_figure\u001b[1;34m(args, constructor, trace_patch, layout_patch)\u001b[0m\n\u001b[0;32m   2114\u001b[0m layout_patch \u001b[38;5;241m=\u001b[39m layout_patch \u001b[38;5;129;01mor\u001b[39;00m {}\n\u001b[0;32m   2115\u001b[0m apply_default_cascade(args)\n\u001b[1;32m-> 2117\u001b[0m args \u001b[38;5;241m=\u001b[39m \u001b[43mbuild_dataframe\u001b[49m\u001b[43m(\u001b[49m\u001b[43margs\u001b[49m\u001b[43m,\u001b[49m\u001b[43m \u001b[49m\u001b[43mconstructor\u001b[49m\u001b[43m)\u001b[49m\n\u001b[0;32m   2118\u001b[0m \u001b[38;5;28;01mif\u001b[39;00m constructor \u001b[38;5;129;01min\u001b[39;00m [go\u001b[38;5;241m.\u001b[39mTreemap, go\u001b[38;5;241m.\u001b[39mSunburst, go\u001b[38;5;241m.\u001b[39mIcicle] \u001b[38;5;129;01mand\u001b[39;00m args[\u001b[38;5;124m\"\u001b[39m\u001b[38;5;124mpath\u001b[39m\u001b[38;5;124m\"\u001b[39m] \u001b[38;5;129;01mis\u001b[39;00m \u001b[38;5;129;01mnot\u001b[39;00m \u001b[38;5;28;01mNone\u001b[39;00m:\n\u001b[0;32m   2119\u001b[0m     args \u001b[38;5;241m=\u001b[39m process_dataframe_hierarchy(args)\n",
      "File \u001b[1;32mc:\\Users\\rodri\\AppData\\Local\\Programs\\Python\\Python312\\Lib\\site-packages\\plotly\\express\\_core.py:1513\u001b[0m, in \u001b[0;36mbuild_dataframe\u001b[1;34m(args, constructor)\u001b[0m\n\u001b[0;32m   1510\u001b[0m     args[\u001b[38;5;124m\"\u001b[39m\u001b[38;5;124mcolor\u001b[39m\u001b[38;5;124m\"\u001b[39m] \u001b[38;5;241m=\u001b[39m \u001b[38;5;28;01mNone\u001b[39;00m\n\u001b[0;32m   1511\u001b[0m \u001b[38;5;66;03m# now that things have been prepped, we do the systematic rewriting of `args`\u001b[39;00m\n\u001b[1;32m-> 1513\u001b[0m df_output, wide_id_vars \u001b[38;5;241m=\u001b[39m \u001b[43mprocess_args_into_dataframe\u001b[49m\u001b[43m(\u001b[49m\n\u001b[0;32m   1514\u001b[0m \u001b[43m    \u001b[49m\u001b[43margs\u001b[49m\u001b[43m,\u001b[49m\u001b[43m \u001b[49m\u001b[43mwide_mode\u001b[49m\u001b[43m,\u001b[49m\u001b[43m \u001b[49m\u001b[43mvar_name\u001b[49m\u001b[43m,\u001b[49m\u001b[43m \u001b[49m\u001b[43mvalue_name\u001b[49m\n\u001b[0;32m   1515\u001b[0m \u001b[43m\u001b[49m\u001b[43m)\u001b[49m\n\u001b[0;32m   1517\u001b[0m \u001b[38;5;66;03m# now that `df_output` exists and `args` contains only references, we complete\u001b[39;00m\n\u001b[0;32m   1518\u001b[0m \u001b[38;5;66;03m# the special-case and wide-mode handling by further rewriting args and/or mutating\u001b[39;00m\n\u001b[0;32m   1519\u001b[0m \u001b[38;5;66;03m# df_output\u001b[39;00m\n\u001b[0;32m   1521\u001b[0m count_name \u001b[38;5;241m=\u001b[39m _escape_col_name(df_output, \u001b[38;5;124m\"\u001b[39m\u001b[38;5;124mcount\u001b[39m\u001b[38;5;124m\"\u001b[39m, [var_name, value_name])\n",
      "File \u001b[1;32mc:\\Users\\rodri\\AppData\\Local\\Programs\\Python\\Python312\\Lib\\site-packages\\plotly\\express\\_core.py:1234\u001b[0m, in \u001b[0;36mprocess_args_into_dataframe\u001b[1;34m(args, wide_mode, var_name, value_name)\u001b[0m\n\u001b[0;32m   1232\u001b[0m         \u001b[38;5;28;01mif\u001b[39;00m argument \u001b[38;5;241m==\u001b[39m \u001b[38;5;124m\"\u001b[39m\u001b[38;5;124mindex\u001b[39m\u001b[38;5;124m\"\u001b[39m:\n\u001b[0;32m   1233\u001b[0m             err_msg \u001b[38;5;241m+\u001b[39m\u001b[38;5;241m=\u001b[39m \u001b[38;5;124m\"\u001b[39m\u001b[38;5;130;01m\\n\u001b[39;00m\u001b[38;5;124m To use the index, pass it in directly as `df.index`.\u001b[39m\u001b[38;5;124m\"\u001b[39m\n\u001b[1;32m-> 1234\u001b[0m         \u001b[38;5;28;01mraise\u001b[39;00m \u001b[38;5;167;01mValueError\u001b[39;00m(err_msg)\n\u001b[0;32m   1235\u001b[0m \u001b[38;5;28;01melif\u001b[39;00m length \u001b[38;5;129;01mand\u001b[39;00m \u001b[38;5;28mlen\u001b[39m(df_input[argument]) \u001b[38;5;241m!=\u001b[39m length:\n\u001b[0;32m   1236\u001b[0m     \u001b[38;5;28;01mraise\u001b[39;00m \u001b[38;5;167;01mValueError\u001b[39;00m(\n\u001b[0;32m   1237\u001b[0m         \u001b[38;5;124m\"\u001b[39m\u001b[38;5;124mAll arguments should have the same length. \u001b[39m\u001b[38;5;124m\"\u001b[39m\n\u001b[0;32m   1238\u001b[0m         \u001b[38;5;124m\"\u001b[39m\u001b[38;5;124mThe length of column argument `df[\u001b[39m\u001b[38;5;132;01m%s\u001b[39;00m\u001b[38;5;124m]` is \u001b[39m\u001b[38;5;132;01m%d\u001b[39;00m\u001b[38;5;124m, whereas the \u001b[39m\u001b[38;5;124m\"\u001b[39m\n\u001b[1;32m   (...)\u001b[0m\n\u001b[0;32m   1245\u001b[0m         )\n\u001b[0;32m   1246\u001b[0m     )\n",
      "\u001b[1;31mValueError\u001b[0m: Value of 'locations' is not the name of a column in 'data_frame'. Expected one of ['Región establecimiento secundario', 'Alto', 'Bajo', 'Medio', 'Medio alto', 'Medio bajo'] but received: Region"
     ]
    }
   ],
   "source": [
    "import json\n",
    "\n",
    "# Cargar el archivo GeoJSON\n",
    "geojson_path = 'C:\\\\Users\\\\rodri\\\\OneDrive\\\\Escritorio\\\\Roxana Files\\\\GSE_establecimientos\\\\Chile geojson\\\\regiones.json'\n",
    "with open(geojson_path) as f:\n",
    "    geojson_data = json.load(f)\n",
    "\n",
    "# Agrupar por región y GSE, y contar las frecuencias\n",
    "gse_region = df.groupby(['Región establecimiento secundario', 'GSE']).size().unstack().fillna(0).reset_index()\n",
    "\n",
    "# Crear el mapa coroplético\n",
    "fig = px.choropleth_mapbox(gse_region, geojson=geojson_data, locations='Region', featureidkey=\"properties.region_name\",\n",
    "                           color='Alto',  # Puedes cambiar 'Alto' por cualquier otra columna de GSE\n",
    "                           color_continuous_scale='inferno',\n",
    "                           mapbox_style=\"carto-positron\",\n",
    "                           zoom=4, center={\"lat\": -33.45, \"lon\": -70.65},\n",
    "                           opacity=0.5,\n",
    "                           labels={'Alto': 'Frecuencia de GSE Alto'})\n",
    "\n",
    "fig.update_layout(margin={\"r\":0,\"t\":0,\"l\":0,\"b\":0})\n",
    "fig.show()"
   ]
  },
  {
   "cell_type": "code",
   "execution_count": null,
   "metadata": {},
   "outputs": [],
   "source": []
  }
 ],
 "metadata": {
  "kernelspec": {
   "display_name": "Python 3",
   "language": "python",
   "name": "python3"
  },
  "language_info": {
   "codemirror_mode": {
    "name": "ipython",
    "version": 3
   },
   "file_extension": ".py",
   "mimetype": "text/x-python",
   "name": "python",
   "nbconvert_exporter": "python",
   "pygments_lexer": "ipython3",
   "version": "3.12.3"
  }
 },
 "nbformat": 4,
 "nbformat_minor": 2
}
