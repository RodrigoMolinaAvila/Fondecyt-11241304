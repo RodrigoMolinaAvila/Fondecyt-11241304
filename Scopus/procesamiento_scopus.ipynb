{
 "cells": [
  {
   "cell_type": "markdown",
   "metadata": {},
   "source": [
    "## Librerias"
   ]
  },
  {
   "cell_type": "code",
   "execution_count": 1,
   "metadata": {},
   "outputs": [],
   "source": [
    "import pandas as pd\n",
    "import numpy as np\n",
    "import re\n",
    "import openpyxl\n",
    "import unicodedata"
   ]
  },
  {
   "cell_type": "markdown",
   "metadata": {},
   "source": [
    "## Carga de archivos"
   ]
  },
  {
   "cell_type": "code",
   "execution_count": 2,
   "metadata": {},
   "outputs": [
    {
     "name": "stdout",
     "output_type": "stream",
     "text": [
      "Filas en la base de datos maestra: 3166\n",
      "Filas en la base de datos Scopus: 23179\n"
     ]
    }
   ],
   "source": [
    "# Carga de los archivos base de datos maestra y Scopus\n",
    "maestra_path = 'C:/Users/Rodrigo/Desktop/Roxana Files/Scopus/maestra.xlsx'\n",
    "scopus_path = 'C:/Users/Rodrigo/Desktop/Roxana Files/Scopus/scopus_resultados_beta.xlsx'\n",
    "\n",
    "# Cargar la base de datos maestra\n",
    "df_maestra = pd.read_excel(maestra_path, sheet_name='BaseMaestra')\n",
    "\n",
    "# Cargar la base de datos de Scopus\n",
    "df_scopus = pd.read_excel(scopus_path)\n",
    "\n",
    "print(f\"Filas en la base de datos maestra: {len(df_maestra)}\")\n",
    "print(f\"Filas en la base de datos Scopus: {len(df_scopus)}\")"
   ]
  },
  {
   "cell_type": "code",
   "execution_count": 4,
   "metadata": {},
   "outputs": [
    {
     "name": "stdout",
     "output_type": "stream",
     "text": [
      "Ejemplos de nombres normalizados en la base maestra:\n",
      "  Primer_Nombre Segundo_Nombre Apellido_Paterno Apellido_Materno\n",
      "0       ABELINO        ENRIQUE          JIMENEZ          GAJARDO\n",
      "1       ABRAHAM       BENJAMIN            NOVOA            LAGOS\n",
      "2         ACCEL        NICOLAS           ABARCA           PROUZA\n",
      "3      ADELAIDA         BARROS           BARROS                 \n",
      "4        ADOLFO        ANTONIO            ROCCO            ROCCO\n",
      "Ejemplos de nombres normalizados en Scopus:\n",
      "0                  ABELINO JIMENEZ\n",
      "1           ABELINO VARGAS JIMENEZ\n",
      "2                                 \n",
      "3                    ENRIQUE PEREZ\n",
      "4    PEDRO ENRIQUE SANCHEZ JIMENEZ\n",
      "Name: nombre_completo_scopus, dtype: object\n"
     ]
    }
   ],
   "source": [
    "import unicodedata\n",
    "\n",
    "# Función para normalizar nombres (eliminar tildes y convertir a mayúsculas)\n",
    "def normalizar_nombre(nombre):\n",
    "    # Verificar si el valor es una cadena\n",
    "    if isinstance(nombre, str):\n",
    "        # Convertir a mayúsculas, eliminar tildes y caracteres especiales\n",
    "        nombre = nombre.upper()\n",
    "        nombre = ''.join(c for c in unicodedata.normalize('NFKD', nombre) if unicodedata.category(c) != 'Mn')\n",
    "        nombre = nombre.replace(\"-\", \" \")  # Reemplazar guiones por espacios\n",
    "        nombre = nombre.strip()\n",
    "    else:\n",
    "        nombre = ''  # Manejar valores no válidos como cadenas vacías\n",
    "    return nombre\n",
    "\n",
    "# Aplicar la normalización en la base maestra\n",
    "df_maestra['Primer_Nombre'] = df_maestra['Primer_Nombre'].apply(normalizar_nombre)\n",
    "df_maestra['Segundo_Nombre'] = df_maestra['Segundo_Nombre'].apply(normalizar_nombre)\n",
    "df_maestra['Apellido_Paterno'] = df_maestra['Apellido_Paterno'].apply(normalizar_nombre)\n",
    "df_maestra['Apellido_Materno'] = df_maestra['Apellido_Materno'].apply(normalizar_nombre)\n",
    "\n",
    "# Aplicar la normalización en los nombres de Scopus\n",
    "df_scopus['nombre_completo_scopus'] = df_scopus['nombre_completo_scopus'].apply(normalizar_nombre)\n",
    "\n",
    "# Mostrar ejemplos de nombres normalizados\n",
    "print(\"Ejemplos de nombres normalizados en la base maestra:\")\n",
    "print(df_maestra[['Primer_Nombre', 'Segundo_Nombre', 'Apellido_Paterno', 'Apellido_Materno']].head())\n",
    "\n",
    "print(\"Ejemplos de nombres normalizados en Scopus:\")\n",
    "print(df_scopus['nombre_completo_scopus'].head())\n"
   ]
  },
  {
   "cell_type": "code",
   "execution_count": 5,
   "metadata": {},
   "outputs": [
    {
     "name": "stdout",
     "output_type": "stream",
     "text": [
      "Combinaciones generadas en la base maestra:\n",
      "                            comb_1                           comb_2  \\\n",
      "0  ABELINO ENRIQUE JIMENEZ GAJARDO  ABELINO ENRIQUE GAJARDO JIMENEZ   \n",
      "1     ABRAHAM BENJAMIN NOVOA LAGOS     ABRAHAM BENJAMIN LAGOS NOVOA   \n",
      "2      ACCEL NICOLAS ABARCA PROUZA      ACCEL NICOLAS PROUZA ABARCA   \n",
      "3          ADELAIDA BARROS BARROS           ADELAIDA BARROS  BARROS   \n",
      "4       ADOLFO ANTONIO ROCCO ROCCO       ADOLFO ANTONIO ROCCO ROCCO   \n",
      "\n",
      "                    comb_3                   comb_4  \\\n",
      "0  ABELINO JIMENEZ GAJARDO  ABELINO GAJARDO JIMENEZ   \n",
      "1      ABRAHAM NOVOA LAGOS      ABRAHAM LAGOS NOVOA   \n",
      "2      ACCEL ABARCA PROUZA      ACCEL PROUZA ABARCA   \n",
      "3         ADELAIDA BARROS          ADELAIDA  BARROS   \n",
      "4       ADOLFO ROCCO ROCCO       ADOLFO ROCCO ROCCO   \n",
      "\n",
      "                            comb_5                           comb_6  \\\n",
      "0  ENRIQUE ABELINO JIMENEZ GAJARDO  ENRIQUE ABELINO GAJARDO JIMENEZ   \n",
      "1     BENJAMIN ABRAHAM NOVOA LAGOS     BENJAMIN ABRAHAM LAGOS NOVOA   \n",
      "2      NICOLAS ACCEL ABARCA PROUZA      NICOLAS ACCEL PROUZA ABARCA   \n",
      "3          BARROS ADELAIDA BARROS           BARROS ADELAIDA  BARROS   \n",
      "4       ANTONIO ADOLFO ROCCO ROCCO       ANTONIO ADOLFO ROCCO ROCCO   \n",
      "\n",
      "                    comb_7                   comb_8                   comb_9  \\\n",
      "0  ENRIQUE JIMENEZ GAJARDO  ENRIQUE GAJARDO JIMENEZ  ABELINO ENRIQUE GAJARDO   \n",
      "1     BENJAMIN NOVOA LAGOS     BENJAMIN LAGOS NOVOA   ABRAHAM BENJAMIN LAGOS   \n",
      "2    NICOLAS ABARCA PROUZA    NICOLAS PROUZA ABARCA     ACCEL NICOLAS PROUZA   \n",
      "3           BARROS BARROS            BARROS  BARROS         ADELAIDA BARROS    \n",
      "4      ANTONIO ROCCO ROCCO      ANTONIO ROCCO ROCCO     ADOLFO ANTONIO ROCCO   \n",
      "\n",
      "                   comb_10                  comb_11                  comb_12  \\\n",
      "0  ENRIQUE ABELINO GAJARDO  ABELINO ENRIQUE JIMENEZ  ENRIQUE ABELINO JIMENEZ   \n",
      "1   BENJAMIN ABRAHAM LAGOS   ABRAHAM BENJAMIN NOVOA   BENJAMIN ABRAHAM NOVOA   \n",
      "2     NICOLAS ACCEL PROUZA     ACCEL NICOLAS ABARCA     NICOLAS ACCEL ABARCA   \n",
      "3         BARROS ADELAIDA    ADELAIDA BARROS BARROS   BARROS ADELAIDA BARROS   \n",
      "4     ANTONIO ADOLFO ROCCO     ADOLFO ANTONIO ROCCO     ANTONIO ADOLFO ROCCO   \n",
      "\n",
      "           comb_13          comb_14           comb_15  \n",
      "0  ABELINO JIMENEZ  ABELINO GAJARDO   ABELINO ENRIQUE  \n",
      "1    ABRAHAM NOVOA    ABRAHAM LAGOS  ABRAHAM BENJAMIN  \n",
      "2     ACCEL ABARCA     ACCEL PROUZA     ACCEL NICOLAS  \n",
      "3  ADELAIDA BARROS        ADELAIDA    ADELAIDA BARROS  \n",
      "4     ADOLFO ROCCO     ADOLFO ROCCO    ADOLFO ANTONIO  \n"
     ]
    }
   ],
   "source": [
    "# Crear combinaciones de nombres en la base maestra\n",
    "df_maestra = df_maestra.assign(\n",
    "    comb_1=df_maestra['Primer_Nombre'] + \" \" + df_maestra['Segundo_Nombre'] + \" \" + df_maestra['Apellido_Paterno'] + \" \" + df_maestra['Apellido_Materno'],\n",
    "    comb_2=df_maestra['Primer_Nombre'] + \" \" + df_maestra['Segundo_Nombre'] + \" \" + df_maestra['Apellido_Materno'] + \" \" + df_maestra['Apellido_Paterno'],\n",
    "    comb_3=df_maestra['Primer_Nombre'] + \" \" + df_maestra['Apellido_Paterno'] + \" \" + df_maestra['Apellido_Materno'],\n",
    "    comb_4=df_maestra['Primer_Nombre'] + \" \" + df_maestra['Apellido_Materno'] + \" \" + df_maestra['Apellido_Paterno'],\n",
    "    comb_5=df_maestra['Segundo_Nombre'] + \" \" + df_maestra['Primer_Nombre'] + \" \" + df_maestra['Apellido_Paterno'] + \" \" + df_maestra['Apellido_Materno'],\n",
    "    comb_6=df_maestra['Segundo_Nombre'] + \" \" + df_maestra['Primer_Nombre'] + \" \" + df_maestra['Apellido_Materno'] + \" \" + df_maestra['Apellido_Paterno'],\n",
    "    comb_7=df_maestra['Segundo_Nombre'] + \" \" + df_maestra['Apellido_Paterno'] + \" \" + df_maestra['Apellido_Materno'],\n",
    "    comb_8=df_maestra['Segundo_Nombre'] + \" \" + df_maestra['Apellido_Materno'] + \" \" + df_maestra['Apellido_Paterno'],\n",
    "    comb_9=df_maestra['Primer_Nombre'] + \" \" + df_maestra['Segundo_Nombre'] + \" \" + df_maestra['Apellido_Materno'],\n",
    "    comb_10=df_maestra['Segundo_Nombre'] + \" \" + df_maestra['Primer_Nombre'] + \" \" + df_maestra['Apellido_Materno'],\n",
    "    comb_11=df_maestra['Primer_Nombre'] + \" \" + df_maestra['Segundo_Nombre'] + \" \" + df_maestra['Apellido_Paterno'],\n",
    "    comb_12=df_maestra['Segundo_Nombre'] + \" \" + df_maestra['Primer_Nombre'] + \" \" + df_maestra['Apellido_Paterno'],\n",
    "    comb_13=df_maestra['Primer_Nombre'] + \" \" + df_maestra['Apellido_Paterno'],  # Primer Nombre + Apellido Paterno\n",
    "    comb_14=df_maestra['Primer_Nombre'] + \" \" + df_maestra['Apellido_Materno'],  # Primer Nombre + Apellido Materno\n",
    "    comb_15=df_maestra['Primer_Nombre'] + \" \" + df_maestra['Segundo_Nombre']    # Primer Nombre + Segundo Nombre\n",
    ")\n",
    "\n",
    "# Mostrar algunas combinaciones de ejemplo\n",
    "print(\"Combinaciones generadas en la base maestra:\")\n",
    "print(df_maestra[['comb_1', 'comb_2', 'comb_3', 'comb_4', 'comb_5', 'comb_6', 'comb_7', 'comb_8', 'comb_9', 'comb_10', 'comb_11', 'comb_12', 'comb_13', 'comb_14', 'comb_15']].head())\n"
   ]
  },
  {
   "cell_type": "code",
   "execution_count": 6,
   "metadata": {},
   "outputs": [
    {
     "name": "stdout",
     "output_type": "stream",
     "text": [
      "Total de registros de Scopus con país 'Chile': 3011\n"
     ]
    }
   ],
   "source": [
    "# Filtrar registros de Scopus que tienen país 'Chile'\n",
    "df_scopus_chile = df_scopus[df_scopus['pais_afiliacion'] == 'Chile']\n",
    "\n",
    "# Verificar cuántos registros tienen Chile como país de afiliación\n",
    "print(f\"Total de registros de Scopus con país 'Chile': {len(df_scopus_chile)}\")\n"
   ]
  },
  {
   "cell_type": "code",
   "execution_count": 10,
   "metadata": {},
   "outputs": [
    {
     "name": "stdout",
     "output_type": "stream",
     "text": [
      "Primeras filas después del merge:\n",
      "      FOLIO                           NOMBRE Primer_Nombre Segundo_Nombre  \\\n",
      "0  72160230  ABELINO ENRIQUE JIMENEZ GAJARDO       ABELINO        ENRIQUE   \n",
      "1  21150571     ABRAHAM BENJAMIN NOVOA LAGOS       ABRAHAM       BENJAMIN   \n",
      "2  72170568      ACCEL NICOLAS ABARCA PROUZA         ACCEL        NICOLAS   \n",
      "3  72170089          ADELAIDA BARROS CAJDLER      ADELAIDA         BARROS   \n",
      "4  72170561       ADOLFO ANTONIO ROCCO ROCCO        ADOLFO        ANTONIO   \n",
      "\n",
      "  Apellido_Paterno Apellido_Materno SEXO_COMPLETO ESTADO BECA  \\\n",
      "0          JIMENEZ          GAJARDO     MASCULINO  NO VIGENTE   \n",
      "1            NOVOA            LAGOS     MASCULINO  NO VIGENTE   \n",
      "2           ABARCA           PROUZA     MASCULINO  NO VIGENTE   \n",
      "3           BARROS                       FEMENINO  NO VIGENTE   \n",
      "4            ROCCO            ROCCO     MASCULINO  NO VIGENTE   \n",
      "\n",
      "   Ano de inicio beca    TIPO_BECA  ... cited_by_count citation_count  \\\n",
      "0                2015  BECAS CHILE  ...            NaN            NaN   \n",
      "1                2015      CONICYT  ...            NaN            NaN   \n",
      "2                2016  BECAS CHILE  ...            NaN            NaN   \n",
      "3                2016  BECAS CHILE  ...            NaN            NaN   \n",
      "4                2016  BECAS CHILE  ...            NaN            NaN   \n",
      "\n",
      "  afiliacion_actual pais_afiliacion  nombre_completo_scopus  \\\n",
      "0               NaN             NaN                     NaN   \n",
      "1               NaN             NaN                     NaN   \n",
      "2               NaN             NaN                     NaN   \n",
      "3               NaN             NaN                     NaN   \n",
      "4               NaN             NaN                     NaN   \n",
      "\n",
      "  publication_range_start publication_range_end areas_tematicas  \\\n",
      "0                     NaN                   NaN             NaN   \n",
      "1                     NaN                   NaN             NaN   \n",
      "2                     NaN                   NaN             NaN   \n",
      "3                     NaN                   NaN             NaN   \n",
      "4                     NaN                   NaN             NaN   \n",
      "\n",
      "   historial_afiliaciones  nombre_busqueda  \n",
      "0                     NaN              NaN  \n",
      "1                     NaN              NaN  \n",
      "2                     NaN              NaN  \n",
      "3                     NaN              NaN  \n",
      "4                     NaN              NaN  \n",
      "\n",
      "[5 rows x 84 columns]\n"
     ]
    }
   ],
   "source": [
    "# Inicializar un DataFrame vacío para almacenar los resultados del merge\n",
    "df_merged_comb = pd.DataFrame()\n",
    "\n",
    "# Realizar el merge con cada combinación de nombres de la base maestra y Scopus\n",
    "for col in ['comb_1', 'comb_2', 'comb_3', 'comb_4', 'comb_5', 'comb_6', 'comb_7', 'comb_8', 'comb_9', 'comb_10', 'comb_11', 'comb_12', 'comb_13', 'comb_14', 'comb_15']:\n",
    "    # Realizar el merge usando una combinación de nombres\n",
    "    temp_merged = pd.merge(df_maestra, df_scopus_chile, how='left', left_on=col, right_on='nombre_completo_scopus')\n",
    "    \n",
    "    # Concatenar los resultados al DataFrame final\n",
    "    df_merged_comb = pd.concat([df_merged_comb, temp_merged], ignore_index=True)\n",
    "\n",
    "# Eliminar duplicados resultantes del proceso de concatenación\n",
    "df_merged_comb.drop_duplicates(subset=['FOLIO', 'nombre_completo_scopus'], inplace=True)\n",
    "\n",
    "# Verificar las primeras filas del DataFrame combinado\n",
    "print(\"Primeras filas después del merge:\")\n",
    "print(df_merged_comb.head())\n"
   ]
  },
  {
   "cell_type": "code",
   "execution_count": 11,
   "metadata": {},
   "outputs": [
    {
     "name": "stdout",
     "output_type": "stream",
     "text": [
      "Nombres identificados en Scopus: 543 de 3142\n",
      "Porcentaje de identificación: 17.28%\n"
     ]
    }
   ],
   "source": [
    "# Contar cuántos nombres de la base de datos maestra fueron identificados en Scopus\n",
    "nombres_identificados = df_merged_comb['nombre_completo_scopus'].notna().sum()\n",
    "\n",
    "# Total de nombres en la base maestra considerando las 15 combinaciones\n",
    "total_nombres_maestra = df_maestra[['comb_1', 'comb_2', 'comb_3', 'comb_4', 'comb_5', \n",
    "                                    'comb_6', 'comb_7', 'comb_8', 'comb_9', 'comb_10', \n",
    "                                    'comb_11', 'comb_12']].nunique().max()\n",
    "\n",
    "# Mostrar resultados\n",
    "print(f\"Nombres identificados en Scopus: {nombres_identificados} de {total_nombres_maestra}\")\n",
    "print(f\"Porcentaje de identificación: {nombres_identificados / total_nombres_maestra * 100:.2f}%\")\n"
   ]
  },
  {
   "cell_type": "code",
   "execution_count": 12,
   "metadata": {},
   "outputs": [
    {
     "name": "stdout",
     "output_type": "stream",
     "text": [
      "Resultados guardados en C:/Users/Rodrigo/Desktop/Roxana Files/Scopus/resultados_maestra_scopus.csv y C:/Users/Rodrigo/Desktop/Roxana Files/Scopus/resultados_maestra_scopus.xlsx\n"
     ]
    }
   ],
   "source": [
    "# Guardar los resultados en un archivo CSV\n",
    "output_csv_path = \"C:/Users/Rodrigo/Desktop/Roxana Files/Scopus/resultados_maestra_scopus.csv\"\n",
    "df_merged_comb.to_csv(output_csv_path, index=False)\n",
    "\n",
    "# Guardar los resultados en un archivo XLSX\n",
    "output_xlsx_path = \"C:/Users/Rodrigo/Desktop/Roxana Files/Scopus/resultados_maestra_scopus.xlsx\"\n",
    "df_merged_comb.to_excel(output_xlsx_path, index=False)\n",
    "\n",
    "print(f\"Resultados guardados en {output_csv_path} y {output_xlsx_path}\")\n"
   ]
  }
 ],
 "metadata": {
  "kernelspec": {
   "display_name": "Python 3",
   "language": "python",
   "name": "python3"
  },
  "language_info": {
   "codemirror_mode": {
    "name": "ipython",
    "version": 3
   },
   "file_extension": ".py",
   "mimetype": "text/x-python",
   "name": "python",
   "nbconvert_exporter": "python",
   "pygments_lexer": "ipython3",
   "version": "3.12.4"
  }
 },
 "nbformat": 4,
 "nbformat_minor": 2
}
