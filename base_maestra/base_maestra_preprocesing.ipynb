{
 "cells": [
  {
   "cell_type": "code",
   "execution_count": 1,
   "metadata": {},
   "outputs": [],
   "source": [
    "import pandas as pd"
   ]
  },
  {
   "cell_type": "code",
   "execution_count": 2,
   "metadata": {},
   "outputs": [
    {
     "data": {
      "text/html": [
       "<div>\n",
       "<style scoped>\n",
       "    .dataframe tbody tr th:only-of-type {\n",
       "        vertical-align: middle;\n",
       "    }\n",
       "\n",
       "    .dataframe tbody tr th {\n",
       "        vertical-align: top;\n",
       "    }\n",
       "\n",
       "    .dataframe thead th {\n",
       "        text-align: right;\n",
       "    }\n",
       "</style>\n",
       "<table border=\"1\" class=\"dataframe\">\n",
       "  <thead>\n",
       "    <tr style=\"text-align: right;\">\n",
       "      <th></th>\n",
       "      <th>ID</th>\n",
       "      <th>FOLIO</th>\n",
       "      <th>NOMBRE</th>\n",
       "      <th>SEXO</th>\n",
       "      <th>AREA_OCDE</th>\n",
       "      <th>Fecha inicio_beca</th>\n",
       "      <th>Fecha inicio_datetime</th>\n",
       "      <th>TIPO_BECA</th>\n",
       "      <th>UNIVERSIDAD_PROGRAMA</th>\n",
       "      <th>PROGRAMA</th>\n",
       "      <th>...</th>\n",
       "      <th>DISCIPLINA_DETALLE</th>\n",
       "      <th>GRUPO_DE_EVALUACION</th>\n",
       "      <th>DURACION_MESES</th>\n",
       "      <th>TIPO_BENEFICIARIO</th>\n",
       "      <th>INSTITUCION_PRINCIPAL</th>\n",
       "      <th>MACROZONA_MINCIENCIA</th>\n",
       "      <th>REGION_EJECUCION</th>\n",
       "      <th>MONTO_ADJUDICADO</th>\n",
       "      <th>PALABRAS_CLAVES</th>\n",
       "      <th>Tiene_fondecyt</th>\n",
       "    </tr>\n",
       "  </thead>\n",
       "  <tbody>\n",
       "    <tr>\n",
       "      <th>0</th>\n",
       "      <td>1</td>\n",
       "      <td>72160230</td>\n",
       "      <td>ABELINO ENRIQUE JIMENEZ GAJARDO</td>\n",
       "      <td>MASCULINO</td>\n",
       "      <td>STEM</td>\n",
       "      <td>2015</td>\n",
       "      <td>01-01-2015</td>\n",
       "      <td>BECAS CHILE</td>\n",
       "      <td>CARNEGIE MELLON UNIVERSITY</td>\n",
       "      <td>PHD IN ELECTRICAL AND COMPUTER ENGINEERING</td>\n",
       "      <td>...</td>\n",
       "      <td>NaN</td>\n",
       "      <td>NaN</td>\n",
       "      <td>NaN</td>\n",
       "      <td>NaN</td>\n",
       "      <td>NaN</td>\n",
       "      <td>NaN</td>\n",
       "      <td>NaN</td>\n",
       "      <td>NaN</td>\n",
       "      <td>NaN</td>\n",
       "      <td>0</td>\n",
       "    </tr>\n",
       "    <tr>\n",
       "      <th>1</th>\n",
       "      <td>2</td>\n",
       "      <td>21150571</td>\n",
       "      <td>ABRAHAM BENJAMIN NOVOA LAGOS</td>\n",
       "      <td>MASCULINO</td>\n",
       "      <td>Ciencias Sociales</td>\n",
       "      <td>2015</td>\n",
       "      <td>01-01-2015</td>\n",
       "      <td>CONICYT</td>\n",
       "      <td>UNIVERSIDAD DE CONCEPCION</td>\n",
       "      <td>DOCTORADO EN LINGUISTICA</td>\n",
       "      <td>...</td>\n",
       "      <td>NaN</td>\n",
       "      <td>NaN</td>\n",
       "      <td>NaN</td>\n",
       "      <td>NaN</td>\n",
       "      <td>NaN</td>\n",
       "      <td>NaN</td>\n",
       "      <td>NaN</td>\n",
       "      <td>NaN</td>\n",
       "      <td>NaN</td>\n",
       "      <td>0</td>\n",
       "    </tr>\n",
       "    <tr>\n",
       "      <th>2</th>\n",
       "      <td>3</td>\n",
       "      <td>72170568</td>\n",
       "      <td>ACCEL NICOLAS ABARCA PROUZA</td>\n",
       "      <td>MASCULINO</td>\n",
       "      <td>STEM</td>\n",
       "      <td>2016</td>\n",
       "      <td>01-01-2016</td>\n",
       "      <td>BECAS CHILE</td>\n",
       "      <td>TECHNISCHE UNIVERSITEIT DELFT</td>\n",
       "      <td>PH.D. IN ELECTRICAL ENGINEERING</td>\n",
       "      <td>...</td>\n",
       "      <td>NaN</td>\n",
       "      <td>NaN</td>\n",
       "      <td>NaN</td>\n",
       "      <td>NaN</td>\n",
       "      <td>NaN</td>\n",
       "      <td>NaN</td>\n",
       "      <td>NaN</td>\n",
       "      <td>NaN</td>\n",
       "      <td>NaN</td>\n",
       "      <td>0</td>\n",
       "    </tr>\n",
       "    <tr>\n",
       "      <th>3</th>\n",
       "      <td>4</td>\n",
       "      <td>72170089</td>\n",
       "      <td>ADELAIDA BARROS CAJDLER</td>\n",
       "      <td>FEMENINO</td>\n",
       "      <td>Ciencias Sociales</td>\n",
       "      <td>2016</td>\n",
       "      <td>01-01-2016</td>\n",
       "      <td>BECAS CHILE</td>\n",
       "      <td>UNIVERSITY OF OXFORD</td>\n",
       "      <td>D. PHIL. IN SOCIAL AND CULTURAL ANTHROPOLOGY</td>\n",
       "      <td>...</td>\n",
       "      <td>NaN</td>\n",
       "      <td>NaN</td>\n",
       "      <td>NaN</td>\n",
       "      <td>NaN</td>\n",
       "      <td>NaN</td>\n",
       "      <td>NaN</td>\n",
       "      <td>NaN</td>\n",
       "      <td>NaN</td>\n",
       "      <td>NaN</td>\n",
       "      <td>0</td>\n",
       "    </tr>\n",
       "    <tr>\n",
       "      <th>4</th>\n",
       "      <td>5</td>\n",
       "      <td>72170561</td>\n",
       "      <td>ADOLFO ANTONIO ROCCO ROCCO</td>\n",
       "      <td>MASCULINO</td>\n",
       "      <td>STEM</td>\n",
       "      <td>2016</td>\n",
       "      <td>01-01-2016</td>\n",
       "      <td>BECAS CHILE</td>\n",
       "      <td>GEORGIA INSTITUTE OF TECHNOLOGY</td>\n",
       "      <td>PHD IN OPERATIONS RESEARCH</td>\n",
       "      <td>...</td>\n",
       "      <td>NaN</td>\n",
       "      <td>NaN</td>\n",
       "      <td>NaN</td>\n",
       "      <td>NaN</td>\n",
       "      <td>NaN</td>\n",
       "      <td>NaN</td>\n",
       "      <td>NaN</td>\n",
       "      <td>NaN</td>\n",
       "      <td>NaN</td>\n",
       "      <td>0</td>\n",
       "    </tr>\n",
       "    <tr>\n",
       "      <th>...</th>\n",
       "      <td>...</td>\n",
       "      <td>...</td>\n",
       "      <td>...</td>\n",
       "      <td>...</td>\n",
       "      <td>...</td>\n",
       "      <td>...</td>\n",
       "      <td>...</td>\n",
       "      <td>...</td>\n",
       "      <td>...</td>\n",
       "      <td>...</td>\n",
       "      <td>...</td>\n",
       "      <td>...</td>\n",
       "      <td>...</td>\n",
       "      <td>...</td>\n",
       "      <td>...</td>\n",
       "      <td>...</td>\n",
       "      <td>...</td>\n",
       "      <td>...</td>\n",
       "      <td>...</td>\n",
       "      <td>...</td>\n",
       "      <td>...</td>\n",
       "    </tr>\n",
       "    <tr>\n",
       "      <th>3138</th>\n",
       "      <td>3139</td>\n",
       "      <td>21161551</td>\n",
       "      <td>ZACHARY JOHN HUGO</td>\n",
       "      <td>MASCULINO</td>\n",
       "      <td>Ciencias Sociales</td>\n",
       "      <td>2016</td>\n",
       "      <td>01-01-2016</td>\n",
       "      <td>CONICYT</td>\n",
       "      <td>UNIVERSIDAD ALBERTO HURTADO</td>\n",
       "      <td>DOCTORADO EN FILOSOFIA</td>\n",
       "      <td>...</td>\n",
       "      <td>NaN</td>\n",
       "      <td>NaN</td>\n",
       "      <td>NaN</td>\n",
       "      <td>NaN</td>\n",
       "      <td>NaN</td>\n",
       "      <td>NaN</td>\n",
       "      <td>NaN</td>\n",
       "      <td>NaN</td>\n",
       "      <td>NaN</td>\n",
       "      <td>0</td>\n",
       "    </tr>\n",
       "    <tr>\n",
       "      <th>3139</th>\n",
       "      <td>3140</td>\n",
       "      <td>21151192</td>\n",
       "      <td>ZAMBRA DEL CARMEN LOPEZ FARRAN</td>\n",
       "      <td>FEMENINO</td>\n",
       "      <td>STEM</td>\n",
       "      <td>2015</td>\n",
       "      <td>01-01-2015</td>\n",
       "      <td>CONICYT</td>\n",
       "      <td>UNIVERSIDAD DE CHILE</td>\n",
       "      <td>DOCTORADO EN CIENCIAS MENCION ECOLOGIA Y BIOLO...</td>\n",
       "      <td>...</td>\n",
       "      <td>NaN</td>\n",
       "      <td>NaN</td>\n",
       "      <td>NaN</td>\n",
       "      <td>NaN</td>\n",
       "      <td>NaN</td>\n",
       "      <td>NaN</td>\n",
       "      <td>NaN</td>\n",
       "      <td>NaN</td>\n",
       "      <td>NaN</td>\n",
       "      <td>0</td>\n",
       "    </tr>\n",
       "    <tr>\n",
       "      <th>3140</th>\n",
       "      <td>3141</td>\n",
       "      <td>72150054</td>\n",
       "      <td>ZAYRA ELIZABETH ANTUNEZ SANHUEZA</td>\n",
       "      <td>FEMENINO</td>\n",
       "      <td>Ciencias Sociales</td>\n",
       "      <td>2014</td>\n",
       "      <td>01-01-2014</td>\n",
       "      <td>BECAS CHILE</td>\n",
       "      <td>UNIVERSIDAD AUTONOMA DE BARCELONA</td>\n",
       "      <td>DOCTORADO EN PSICOLOGIA CLINICA Y DE LA SALUD</td>\n",
       "      <td>...</td>\n",
       "      <td>NaN</td>\n",
       "      <td>NaN</td>\n",
       "      <td>NaN</td>\n",
       "      <td>NaN</td>\n",
       "      <td>NaN</td>\n",
       "      <td>NaN</td>\n",
       "      <td>NaN</td>\n",
       "      <td>NaN</td>\n",
       "      <td>NaN</td>\n",
       "      <td>0</td>\n",
       "    </tr>\n",
       "    <tr>\n",
       "      <th>3141</th>\n",
       "      <td>3142</td>\n",
       "      <td>63140267</td>\n",
       "      <td>ZENEIDA ELIZABETH WONG CHANG</td>\n",
       "      <td>FEMENINO</td>\n",
       "      <td>STEM</td>\n",
       "      <td>2014</td>\n",
       "      <td>01-01-2014</td>\n",
       "      <td>CONICYT</td>\n",
       "      <td>UNIVERSIDAD DE CONCEPCION</td>\n",
       "      <td>DOCTORADO EN OCEANOGRAFIA</td>\n",
       "      <td>...</td>\n",
       "      <td>NaN</td>\n",
       "      <td>NaN</td>\n",
       "      <td>NaN</td>\n",
       "      <td>NaN</td>\n",
       "      <td>NaN</td>\n",
       "      <td>NaN</td>\n",
       "      <td>NaN</td>\n",
       "      <td>NaN</td>\n",
       "      <td>NaN</td>\n",
       "      <td>0</td>\n",
       "    </tr>\n",
       "    <tr>\n",
       "      <th>3142</th>\n",
       "      <td>3143</td>\n",
       "      <td>21160571</td>\n",
       "      <td>ZULAY GIMENEZ</td>\n",
       "      <td>FEMENINO</td>\n",
       "      <td>STEM</td>\n",
       "      <td>2016</td>\n",
       "      <td>01-01-2016</td>\n",
       "      <td>CONICYT</td>\n",
       "      <td>PONTIFICIA UNIVERSIDAD CATOLICA DE CHILE</td>\n",
       "      <td>DOCTORADO EN CIENCIAS DE LA INGENIERIA, AREA I...</td>\n",
       "      <td>...</td>\n",
       "      <td>NaN</td>\n",
       "      <td>NaN</td>\n",
       "      <td>NaN</td>\n",
       "      <td>NaN</td>\n",
       "      <td>NaN</td>\n",
       "      <td>NaN</td>\n",
       "      <td>NaN</td>\n",
       "      <td>NaN</td>\n",
       "      <td>NaN</td>\n",
       "      <td>0</td>\n",
       "    </tr>\n",
       "  </tbody>\n",
       "</table>\n",
       "<p>3143 rows × 44 columns</p>\n",
       "</div>"
      ],
      "text/plain": [
       "        ID     FOLIO                            NOMBRE       SEXO  \\\n",
       "0        1  72160230   ABELINO ENRIQUE JIMENEZ GAJARDO  MASCULINO   \n",
       "1        2  21150571      ABRAHAM BENJAMIN NOVOA LAGOS  MASCULINO   \n",
       "2        3  72170568       ACCEL NICOLAS ABARCA PROUZA  MASCULINO   \n",
       "3        4  72170089           ADELAIDA BARROS CAJDLER   FEMENINO   \n",
       "4        5  72170561        ADOLFO ANTONIO ROCCO ROCCO  MASCULINO   \n",
       "...    ...       ...                               ...        ...   \n",
       "3138  3139  21161551                 ZACHARY JOHN HUGO  MASCULINO   \n",
       "3139  3140  21151192    ZAMBRA DEL CARMEN LOPEZ FARRAN   FEMENINO   \n",
       "3140  3141  72150054  ZAYRA ELIZABETH ANTUNEZ SANHUEZA   FEMENINO   \n",
       "3141  3142  63140267      ZENEIDA ELIZABETH WONG CHANG   FEMENINO   \n",
       "3142  3143  21160571                     ZULAY GIMENEZ   FEMENINO   \n",
       "\n",
       "              AREA_OCDE  Fecha inicio_beca Fecha inicio_datetime    TIPO_BECA  \\\n",
       "0                  STEM               2015            01-01-2015  BECAS CHILE   \n",
       "1     Ciencias Sociales               2015            01-01-2015      CONICYT   \n",
       "2                  STEM               2016            01-01-2016  BECAS CHILE   \n",
       "3     Ciencias Sociales               2016            01-01-2016  BECAS CHILE   \n",
       "4                  STEM               2016            01-01-2016  BECAS CHILE   \n",
       "...                 ...                ...                   ...          ...   \n",
       "3138  Ciencias Sociales               2016            01-01-2016      CONICYT   \n",
       "3139               STEM               2015            01-01-2015      CONICYT   \n",
       "3140  Ciencias Sociales               2014            01-01-2014  BECAS CHILE   \n",
       "3141               STEM               2014            01-01-2014      CONICYT   \n",
       "3142               STEM               2016            01-01-2016      CONICYT   \n",
       "\n",
       "                          UNIVERSIDAD_PROGRAMA  \\\n",
       "0                   CARNEGIE MELLON UNIVERSITY   \n",
       "1                    UNIVERSIDAD DE CONCEPCION   \n",
       "2                TECHNISCHE UNIVERSITEIT DELFT   \n",
       "3                         UNIVERSITY OF OXFORD   \n",
       "4              GEORGIA INSTITUTE OF TECHNOLOGY   \n",
       "...                                        ...   \n",
       "3138               UNIVERSIDAD ALBERTO HURTADO   \n",
       "3139                      UNIVERSIDAD DE CHILE   \n",
       "3140         UNIVERSIDAD AUTONOMA DE BARCELONA   \n",
       "3141                 UNIVERSIDAD DE CONCEPCION   \n",
       "3142  PONTIFICIA UNIVERSIDAD CATOLICA DE CHILE   \n",
       "\n",
       "                                               PROGRAMA  ...  \\\n",
       "0            PHD IN ELECTRICAL AND COMPUTER ENGINEERING  ...   \n",
       "1                              DOCTORADO EN LINGUISTICA  ...   \n",
       "2                       PH.D. IN ELECTRICAL ENGINEERING  ...   \n",
       "3          D. PHIL. IN SOCIAL AND CULTURAL ANTHROPOLOGY  ...   \n",
       "4                            PHD IN OPERATIONS RESEARCH  ...   \n",
       "...                                                 ...  ...   \n",
       "3138                             DOCTORADO EN FILOSOFIA  ...   \n",
       "3139  DOCTORADO EN CIENCIAS MENCION ECOLOGIA Y BIOLO...  ...   \n",
       "3140      DOCTORADO EN PSICOLOGIA CLINICA Y DE LA SALUD  ...   \n",
       "3141                          DOCTORADO EN OCEANOGRAFIA  ...   \n",
       "3142  DOCTORADO EN CIENCIAS DE LA INGENIERIA, AREA I...  ...   \n",
       "\n",
       "     DISCIPLINA_DETALLE GRUPO_DE_EVALUACION  DURACION_MESES  \\\n",
       "0                   NaN                 NaN             NaN   \n",
       "1                   NaN                 NaN             NaN   \n",
       "2                   NaN                 NaN             NaN   \n",
       "3                   NaN                 NaN             NaN   \n",
       "4                   NaN                 NaN             NaN   \n",
       "...                 ...                 ...             ...   \n",
       "3138                NaN                 NaN             NaN   \n",
       "3139                NaN                 NaN             NaN   \n",
       "3140                NaN                 NaN             NaN   \n",
       "3141                NaN                 NaN             NaN   \n",
       "3142                NaN                 NaN             NaN   \n",
       "\n",
       "      TIPO_BENEFICIARIO INSTITUCION_PRINCIPAL MACROZONA_MINCIENCIA  \\\n",
       "0                   NaN                   NaN                  NaN   \n",
       "1                   NaN                   NaN                  NaN   \n",
       "2                   NaN                   NaN                  NaN   \n",
       "3                   NaN                   NaN                  NaN   \n",
       "4                   NaN                   NaN                  NaN   \n",
       "...                 ...                   ...                  ...   \n",
       "3138                NaN                   NaN                  NaN   \n",
       "3139                NaN                   NaN                  NaN   \n",
       "3140                NaN                   NaN                  NaN   \n",
       "3141                NaN                   NaN                  NaN   \n",
       "3142                NaN                   NaN                  NaN   \n",
       "\n",
       "     REGION_EJECUCION MONTO_ADJUDICADO PALABRAS_CLAVES Tiene_fondecyt  \n",
       "0                 NaN              NaN             NaN              0  \n",
       "1                 NaN              NaN             NaN              0  \n",
       "2                 NaN              NaN             NaN              0  \n",
       "3                 NaN              NaN             NaN              0  \n",
       "4                 NaN              NaN             NaN              0  \n",
       "...               ...              ...             ...            ...  \n",
       "3138              NaN              NaN             NaN              0  \n",
       "3139              NaN              NaN             NaN              0  \n",
       "3140              NaN              NaN             NaN              0  \n",
       "3141              NaN              NaN             NaN              0  \n",
       "3142              NaN              NaN             NaN              0  \n",
       "\n",
       "[3143 rows x 44 columns]"
      ]
     },
     "execution_count": 2,
     "metadata": {},
     "output_type": "execute_result"
    }
   ],
   "source": [
    "path = r\"C:\\Users\\Rodrigo\\Desktop\\Roxana Files\\base_maestra\\base_maestra.xlsx\"\n",
    "df = pd.read_excel(path)\n",
    "\n",
    "df"
   ]
  },
  {
   "cell_type": "code",
   "execution_count": 3,
   "metadata": {},
   "outputs": [
    {
     "data": {
      "text/plain": [
       "ID                               int64\n",
       "FOLIO                            int64\n",
       "NOMBRE                          object\n",
       "SEXO                            object\n",
       "AREA_OCDE                       object\n",
       "Fecha inicio_beca                int64\n",
       "Fecha inicio_datetime           object\n",
       "TIPO_BECA                       object\n",
       "UNIVERSIDAD_PROGRAMA            object\n",
       "PROGRAMA                        object\n",
       "PAIS                            object\n",
       "Pregrado                        object\n",
       "Extranjero                     float64\n",
       "Secundaria en region Chile     float64\n",
       "Nombre Secundaria               object\n",
       "Comuna Establecimiento          object\n",
       "Región Establecimiento          object\n",
       "GSE Establecimiento             object\n",
       "Dependencia_establecimiento     object\n",
       "GSE_categoria                   object\n",
       "RBD Colegio Secundario          object\n",
       "Etnia                           object\n",
       "N                              float64\n",
       "CODIGO_PROYECTO                float64\n",
       "SUBDIRECCION                    object\n",
       "PROGRAMA_comb_1                 object\n",
       "INSTRUMENTO                     object\n",
       "NOMBRE_CONCURSO                 object\n",
       "AGNO_CONCURSO                  float64\n",
       "Agno_concurso_datetime          object\n",
       "AGNO_FALLO                     float64\n",
       "Agno_fallo_datetime             object\n",
       "NOMBRE_PROYECTO                 object\n",
       "AREA_OCDE.1                     object\n",
       "DISCIPLINA_DETALLE              object\n",
       "GRUPO_DE_EVALUACION             object\n",
       "DURACION_MESES                 float64\n",
       "TIPO_BENEFICIARIO               object\n",
       "INSTITUCION_PRINCIPAL           object\n",
       "MACROZONA_MINCIENCIA            object\n",
       "REGION_EJECUCION                object\n",
       "MONTO_ADJUDICADO               float64\n",
       "PALABRAS_CLAVES                 object\n",
       "Tiene_fondecyt                   int64\n",
       "dtype: object"
      ]
     },
     "execution_count": 3,
     "metadata": {},
     "output_type": "execute_result"
    }
   ],
   "source": [
    "df.dtypes"
   ]
  },
  {
   "cell_type": "markdown",
   "metadata": {},
   "source": [
    "# Análisis Colegio Secundario"
   ]
  },
  {
   "cell_type": "code",
   "execution_count": 12,
   "metadata": {},
   "outputs": [
    {
     "data": {
      "text/plain": [
       "RBD Colegio Secundario\n",
       "estudio extranjero    122\n",
       "8485                   94\n",
       "5666                   35\n",
       "8927                   34\n",
       "8928                   27\n",
       "                     ... \n",
       "10450                   1\n",
       "24801                   1\n",
       "25804                   1\n",
       "10246                   1\n",
       "6270                    1\n",
       "Name: count, Length: 863, dtype: int64"
      ]
     },
     "execution_count": 12,
     "metadata": {},
     "output_type": "execute_result"
    }
   ],
   "source": [
    "df[\"RBD Colegio Secundario\"].value_counts()"
   ]
  },
  {
   "cell_type": "code",
   "execution_count": 13,
   "metadata": {
    "vscode": {
     "languageId": "ruby"
    }
   },
   "outputs": [
    {
     "data": {
      "application/vnd.plotly.v1+json": {
       "config": {
        "plotlyServerURL": "https://plot.ly"
       },
       "data": [
        {
         "alignmentgroup": "True",
         "hovertemplate": "Frecuencia=%{x}<br>RBD Colegio Secundario=%{y}<br>text=%{text}<extra></extra>",
         "legendgroup": "",
         "marker": {
          "color": "purple",
          "pattern": {
           "shape": ""
          }
         },
         "name": "",
         "offsetgroup": "",
         "orientation": "h",
         "showlegend": false,
         "text": [
          16,
          16,
          17,
          17,
          17,
          18,
          18,
          21,
          23,
          24,
          25,
          27,
          34,
          35,
          94
         ],
         "textfont": {
          "color": "purple"
         },
         "textposition": "outside",
         "type": "bar",
         "x": [
          16,
          16,
          17,
          17,
          17,
          18,
          18,
          21,
          23,
          24,
          25,
          27,
          34,
          35,
          94
         ],
         "xaxis": "x",
         "y": [
          "COLEGIO DE LOS SAGRADOS CORAZONES",
          "LICEO Nº7 DE PROVIDENCIA LUISA SAAVEDRA",
          "LICEO ARMANDO ROBLES RIVERA",
          "LICEO PABLO NERUDA",
          "COLEGIO DE LOS SAGRADOS CORAZONES, PADRES FRANCESES",
          "LICEO MANUEL BARROS BORGONO",
          "LICEO JAVIERA CARRERA",
          "COLEGIO SAINT GEORGE S COLLEGE",
          "LICEO DE APLICACION RECTOR JORGE E SCHNE",
          "LICEO ABATE MOLINA",
          "LICEO DE NIÑAS",
          "LICEO JOSE VICTORINO LASTARRIA",
          "LICEO CARMELA CARVAJAL DE PRAT",
          "LICEO CAMILO HENRIQUEZ DE TEMUCO",
          "LICEO INSTITUTO NACIONAL"
         ],
         "yaxis": "y"
        }
       ],
       "layout": {
        "barmode": "relative",
        "legend": {
         "tracegroupgap": 0
        },
        "template": {
         "data": {
          "bar": [
           {
            "error_x": {
             "color": "#2a3f5f"
            },
            "error_y": {
             "color": "#2a3f5f"
            },
            "marker": {
             "line": {
              "color": "#E5ECF6",
              "width": 0.5
             },
             "pattern": {
              "fillmode": "overlay",
              "size": 10,
              "solidity": 0.2
             }
            },
            "type": "bar"
           }
          ],
          "barpolar": [
           {
            "marker": {
             "line": {
              "color": "#E5ECF6",
              "width": 0.5
             },
             "pattern": {
              "fillmode": "overlay",
              "size": 10,
              "solidity": 0.2
             }
            },
            "type": "barpolar"
           }
          ],
          "carpet": [
           {
            "aaxis": {
             "endlinecolor": "#2a3f5f",
             "gridcolor": "white",
             "linecolor": "white",
             "minorgridcolor": "white",
             "startlinecolor": "#2a3f5f"
            },
            "baxis": {
             "endlinecolor": "#2a3f5f",
             "gridcolor": "white",
             "linecolor": "white",
             "minorgridcolor": "white",
             "startlinecolor": "#2a3f5f"
            },
            "type": "carpet"
           }
          ],
          "choropleth": [
           {
            "colorbar": {
             "outlinewidth": 0,
             "ticks": ""
            },
            "type": "choropleth"
           }
          ],
          "contour": [
           {
            "colorbar": {
             "outlinewidth": 0,
             "ticks": ""
            },
            "colorscale": [
             [
              0,
              "#0d0887"
             ],
             [
              0.1111111111111111,
              "#46039f"
             ],
             [
              0.2222222222222222,
              "#7201a8"
             ],
             [
              0.3333333333333333,
              "#9c179e"
             ],
             [
              0.4444444444444444,
              "#bd3786"
             ],
             [
              0.5555555555555556,
              "#d8576b"
             ],
             [
              0.6666666666666666,
              "#ed7953"
             ],
             [
              0.7777777777777778,
              "#fb9f3a"
             ],
             [
              0.8888888888888888,
              "#fdca26"
             ],
             [
              1,
              "#f0f921"
             ]
            ],
            "type": "contour"
           }
          ],
          "contourcarpet": [
           {
            "colorbar": {
             "outlinewidth": 0,
             "ticks": ""
            },
            "type": "contourcarpet"
           }
          ],
          "heatmap": [
           {
            "colorbar": {
             "outlinewidth": 0,
             "ticks": ""
            },
            "colorscale": [
             [
              0,
              "#0d0887"
             ],
             [
              0.1111111111111111,
              "#46039f"
             ],
             [
              0.2222222222222222,
              "#7201a8"
             ],
             [
              0.3333333333333333,
              "#9c179e"
             ],
             [
              0.4444444444444444,
              "#bd3786"
             ],
             [
              0.5555555555555556,
              "#d8576b"
             ],
             [
              0.6666666666666666,
              "#ed7953"
             ],
             [
              0.7777777777777778,
              "#fb9f3a"
             ],
             [
              0.8888888888888888,
              "#fdca26"
             ],
             [
              1,
              "#f0f921"
             ]
            ],
            "type": "heatmap"
           }
          ],
          "heatmapgl": [
           {
            "colorbar": {
             "outlinewidth": 0,
             "ticks": ""
            },
            "colorscale": [
             [
              0,
              "#0d0887"
             ],
             [
              0.1111111111111111,
              "#46039f"
             ],
             [
              0.2222222222222222,
              "#7201a8"
             ],
             [
              0.3333333333333333,
              "#9c179e"
             ],
             [
              0.4444444444444444,
              "#bd3786"
             ],
             [
              0.5555555555555556,
              "#d8576b"
             ],
             [
              0.6666666666666666,
              "#ed7953"
             ],
             [
              0.7777777777777778,
              "#fb9f3a"
             ],
             [
              0.8888888888888888,
              "#fdca26"
             ],
             [
              1,
              "#f0f921"
             ]
            ],
            "type": "heatmapgl"
           }
          ],
          "histogram": [
           {
            "marker": {
             "pattern": {
              "fillmode": "overlay",
              "size": 10,
              "solidity": 0.2
             }
            },
            "type": "histogram"
           }
          ],
          "histogram2d": [
           {
            "colorbar": {
             "outlinewidth": 0,
             "ticks": ""
            },
            "colorscale": [
             [
              0,
              "#0d0887"
             ],
             [
              0.1111111111111111,
              "#46039f"
             ],
             [
              0.2222222222222222,
              "#7201a8"
             ],
             [
              0.3333333333333333,
              "#9c179e"
             ],
             [
              0.4444444444444444,
              "#bd3786"
             ],
             [
              0.5555555555555556,
              "#d8576b"
             ],
             [
              0.6666666666666666,
              "#ed7953"
             ],
             [
              0.7777777777777778,
              "#fb9f3a"
             ],
             [
              0.8888888888888888,
              "#fdca26"
             ],
             [
              1,
              "#f0f921"
             ]
            ],
            "type": "histogram2d"
           }
          ],
          "histogram2dcontour": [
           {
            "colorbar": {
             "outlinewidth": 0,
             "ticks": ""
            },
            "colorscale": [
             [
              0,
              "#0d0887"
             ],
             [
              0.1111111111111111,
              "#46039f"
             ],
             [
              0.2222222222222222,
              "#7201a8"
             ],
             [
              0.3333333333333333,
              "#9c179e"
             ],
             [
              0.4444444444444444,
              "#bd3786"
             ],
             [
              0.5555555555555556,
              "#d8576b"
             ],
             [
              0.6666666666666666,
              "#ed7953"
             ],
             [
              0.7777777777777778,
              "#fb9f3a"
             ],
             [
              0.8888888888888888,
              "#fdca26"
             ],
             [
              1,
              "#f0f921"
             ]
            ],
            "type": "histogram2dcontour"
           }
          ],
          "mesh3d": [
           {
            "colorbar": {
             "outlinewidth": 0,
             "ticks": ""
            },
            "type": "mesh3d"
           }
          ],
          "parcoords": [
           {
            "line": {
             "colorbar": {
              "outlinewidth": 0,
              "ticks": ""
             }
            },
            "type": "parcoords"
           }
          ],
          "pie": [
           {
            "automargin": true,
            "type": "pie"
           }
          ],
          "scatter": [
           {
            "fillpattern": {
             "fillmode": "overlay",
             "size": 10,
             "solidity": 0.2
            },
            "type": "scatter"
           }
          ],
          "scatter3d": [
           {
            "line": {
             "colorbar": {
              "outlinewidth": 0,
              "ticks": ""
             }
            },
            "marker": {
             "colorbar": {
              "outlinewidth": 0,
              "ticks": ""
             }
            },
            "type": "scatter3d"
           }
          ],
          "scattercarpet": [
           {
            "marker": {
             "colorbar": {
              "outlinewidth": 0,
              "ticks": ""
             }
            },
            "type": "scattercarpet"
           }
          ],
          "scattergeo": [
           {
            "marker": {
             "colorbar": {
              "outlinewidth": 0,
              "ticks": ""
             }
            },
            "type": "scattergeo"
           }
          ],
          "scattergl": [
           {
            "marker": {
             "colorbar": {
              "outlinewidth": 0,
              "ticks": ""
             }
            },
            "type": "scattergl"
           }
          ],
          "scattermapbox": [
           {
            "marker": {
             "colorbar": {
              "outlinewidth": 0,
              "ticks": ""
             }
            },
            "type": "scattermapbox"
           }
          ],
          "scatterpolar": [
           {
            "marker": {
             "colorbar": {
              "outlinewidth": 0,
              "ticks": ""
             }
            },
            "type": "scatterpolar"
           }
          ],
          "scatterpolargl": [
           {
            "marker": {
             "colorbar": {
              "outlinewidth": 0,
              "ticks": ""
             }
            },
            "type": "scatterpolargl"
           }
          ],
          "scatterternary": [
           {
            "marker": {
             "colorbar": {
              "outlinewidth": 0,
              "ticks": ""
             }
            },
            "type": "scatterternary"
           }
          ],
          "surface": [
           {
            "colorbar": {
             "outlinewidth": 0,
             "ticks": ""
            },
            "colorscale": [
             [
              0,
              "#0d0887"
             ],
             [
              0.1111111111111111,
              "#46039f"
             ],
             [
              0.2222222222222222,
              "#7201a8"
             ],
             [
              0.3333333333333333,
              "#9c179e"
             ],
             [
              0.4444444444444444,
              "#bd3786"
             ],
             [
              0.5555555555555556,
              "#d8576b"
             ],
             [
              0.6666666666666666,
              "#ed7953"
             ],
             [
              0.7777777777777778,
              "#fb9f3a"
             ],
             [
              0.8888888888888888,
              "#fdca26"
             ],
             [
              1,
              "#f0f921"
             ]
            ],
            "type": "surface"
           }
          ],
          "table": [
           {
            "cells": {
             "fill": {
              "color": "#EBF0F8"
             },
             "line": {
              "color": "white"
             }
            },
            "header": {
             "fill": {
              "color": "#C8D4E3"
             },
             "line": {
              "color": "white"
             }
            },
            "type": "table"
           }
          ]
         },
         "layout": {
          "annotationdefaults": {
           "arrowcolor": "#2a3f5f",
           "arrowhead": 0,
           "arrowwidth": 1
          },
          "autotypenumbers": "strict",
          "coloraxis": {
           "colorbar": {
            "outlinewidth": 0,
            "ticks": ""
           }
          },
          "colorscale": {
           "diverging": [
            [
             0,
             "#8e0152"
            ],
            [
             0.1,
             "#c51b7d"
            ],
            [
             0.2,
             "#de77ae"
            ],
            [
             0.3,
             "#f1b6da"
            ],
            [
             0.4,
             "#fde0ef"
            ],
            [
             0.5,
             "#f7f7f7"
            ],
            [
             0.6,
             "#e6f5d0"
            ],
            [
             0.7,
             "#b8e186"
            ],
            [
             0.8,
             "#7fbc41"
            ],
            [
             0.9,
             "#4d9221"
            ],
            [
             1,
             "#276419"
            ]
           ],
           "sequential": [
            [
             0,
             "#0d0887"
            ],
            [
             0.1111111111111111,
             "#46039f"
            ],
            [
             0.2222222222222222,
             "#7201a8"
            ],
            [
             0.3333333333333333,
             "#9c179e"
            ],
            [
             0.4444444444444444,
             "#bd3786"
            ],
            [
             0.5555555555555556,
             "#d8576b"
            ],
            [
             0.6666666666666666,
             "#ed7953"
            ],
            [
             0.7777777777777778,
             "#fb9f3a"
            ],
            [
             0.8888888888888888,
             "#fdca26"
            ],
            [
             1,
             "#f0f921"
            ]
           ],
           "sequentialminus": [
            [
             0,
             "#0d0887"
            ],
            [
             0.1111111111111111,
             "#46039f"
            ],
            [
             0.2222222222222222,
             "#7201a8"
            ],
            [
             0.3333333333333333,
             "#9c179e"
            ],
            [
             0.4444444444444444,
             "#bd3786"
            ],
            [
             0.5555555555555556,
             "#d8576b"
            ],
            [
             0.6666666666666666,
             "#ed7953"
            ],
            [
             0.7777777777777778,
             "#fb9f3a"
            ],
            [
             0.8888888888888888,
             "#fdca26"
            ],
            [
             1,
             "#f0f921"
            ]
           ]
          },
          "colorway": [
           "#636efa",
           "#EF553B",
           "#00cc96",
           "#ab63fa",
           "#FFA15A",
           "#19d3f3",
           "#FF6692",
           "#B6E880",
           "#FF97FF",
           "#FECB52"
          ],
          "font": {
           "color": "#2a3f5f"
          },
          "geo": {
           "bgcolor": "white",
           "lakecolor": "white",
           "landcolor": "#E5ECF6",
           "showlakes": true,
           "showland": true,
           "subunitcolor": "white"
          },
          "hoverlabel": {
           "align": "left"
          },
          "hovermode": "closest",
          "mapbox": {
           "style": "light"
          },
          "paper_bgcolor": "white",
          "plot_bgcolor": "#E5ECF6",
          "polar": {
           "angularaxis": {
            "gridcolor": "white",
            "linecolor": "white",
            "ticks": ""
           },
           "bgcolor": "#E5ECF6",
           "radialaxis": {
            "gridcolor": "white",
            "linecolor": "white",
            "ticks": ""
           }
          },
          "scene": {
           "xaxis": {
            "backgroundcolor": "#E5ECF6",
            "gridcolor": "white",
            "gridwidth": 2,
            "linecolor": "white",
            "showbackground": true,
            "ticks": "",
            "zerolinecolor": "white"
           },
           "yaxis": {
            "backgroundcolor": "#E5ECF6",
            "gridcolor": "white",
            "gridwidth": 2,
            "linecolor": "white",
            "showbackground": true,
            "ticks": "",
            "zerolinecolor": "white"
           },
           "zaxis": {
            "backgroundcolor": "#E5ECF6",
            "gridcolor": "white",
            "gridwidth": 2,
            "linecolor": "white",
            "showbackground": true,
            "ticks": "",
            "zerolinecolor": "white"
           }
          },
          "shapedefaults": {
           "line": {
            "color": "#2a3f5f"
           }
          },
          "ternary": {
           "aaxis": {
            "gridcolor": "white",
            "linecolor": "white",
            "ticks": ""
           },
           "baxis": {
            "gridcolor": "white",
            "linecolor": "white",
            "ticks": ""
           },
           "bgcolor": "#E5ECF6",
           "caxis": {
            "gridcolor": "white",
            "linecolor": "white",
            "ticks": ""
           }
          },
          "title": {
           "x": 0.05
          },
          "xaxis": {
           "automargin": true,
           "gridcolor": "white",
           "linecolor": "white",
           "ticks": "",
           "title": {
            "standoff": 15
           },
           "zerolinecolor": "white",
           "zerolinewidth": 2
          },
          "yaxis": {
           "automargin": true,
           "gridcolor": "white",
           "linecolor": "white",
           "ticks": "",
           "title": {
            "standoff": 15
           },
           "zerolinecolor": "white",
           "zerolinewidth": 2
          }
         }
        },
        "title": {
         "text": "Top 15 Colegios en RBD Colegio Secundario"
        },
        "xaxis": {
         "anchor": "y",
         "domain": [
          0,
          1
         ],
         "title": {
          "text": "Frecuencia"
         }
        },
        "yaxis": {
         "anchor": "x",
         "domain": [
          0,
          1
         ],
         "tickangle": 0,
         "title": {
          "text": "RBD Colegio Secundario"
         }
        }
       }
      }
     },
     "metadata": {},
     "output_type": "display_data"
    }
   ],
   "source": [
    "import plotly.express as px\n",
    "\n",
    "filtered_df = df[df[\"RBD Colegio Secundario\"] != \"estudio extranjero\"]\n",
    "\n",
    "top_15_rbd = filtered_df[\"RBD Colegio Secundario\"].value_counts().head(15).sort_values(ascending=True)\n",
    "\n",
    "top_15_names = filtered_df[filtered_df[\"RBD Colegio Secundario\"].isin(top_15_rbd.index)][[\"RBD Colegio Secundario\", \"Nombre Secundaria\"]].drop_duplicates().set_index(\"RBD Colegio Secundario\")\n",
    "\n",
    "top_15_rbd.index = top_15_rbd.index.map(top_15_names[\"Nombre Secundaria\"])\n",
    "\n",
    "fig = px.bar(top_15_rbd, x=top_15_rbd.values, y=top_15_rbd.index, orientation='h', color_discrete_sequence=['purple'], labels={'x': 'Frecuencia', 'y': 'Nombre Secundaria'}, title='Top 15 Colegios en RBD Colegio Secundario', text=top_15_rbd.values)\n",
    "fig.update_traces(textposition='outside', textfont_color='purple')\n",
    "fig.update_layout(yaxis_tickangle=0)\n",
    "fig.show()\n"
   ]
  },
  {
   "cell_type": "code",
   "execution_count": 16,
   "metadata": {},
   "outputs": [
    {
     "data": {
      "application/vnd.plotly.v1+json": {
       "config": {
        "plotlyServerURL": "https://plot.ly"
       },
       "data": [
        {
         "alignmentgroup": "True",
         "hovertemplate": "Dependencia_establecimiento=%{x}<br>Frecuencia=%{y}<br>text=%{text}<extra></extra>",
         "legendgroup": "",
         "marker": {
          "color": "purple",
          "pattern": {
           "shape": ""
          }
         },
         "name": "",
         "offsetgroup": "",
         "orientation": "v",
         "showlegend": false,
         "text": [
          721,
          869,
          952
         ],
         "textfont": {
          "color": "purple"
         },
         "textposition": "outside",
         "type": "bar",
         "x": [
          "Municipalizado",
          "Particular Pagado",
          "Particular Subvencionado"
         ],
         "xaxis": "x",
         "y": [
          721,
          869,
          952
         ],
         "yaxis": "y"
        }
       ],
       "layout": {
        "barmode": "relative",
        "legend": {
         "tracegroupgap": 0
        },
        "template": {
         "data": {
          "bar": [
           {
            "error_x": {
             "color": "#2a3f5f"
            },
            "error_y": {
             "color": "#2a3f5f"
            },
            "marker": {
             "line": {
              "color": "#E5ECF6",
              "width": 0.5
             },
             "pattern": {
              "fillmode": "overlay",
              "size": 10,
              "solidity": 0.2
             }
            },
            "type": "bar"
           }
          ],
          "barpolar": [
           {
            "marker": {
             "line": {
              "color": "#E5ECF6",
              "width": 0.5
             },
             "pattern": {
              "fillmode": "overlay",
              "size": 10,
              "solidity": 0.2
             }
            },
            "type": "barpolar"
           }
          ],
          "carpet": [
           {
            "aaxis": {
             "endlinecolor": "#2a3f5f",
             "gridcolor": "white",
             "linecolor": "white",
             "minorgridcolor": "white",
             "startlinecolor": "#2a3f5f"
            },
            "baxis": {
             "endlinecolor": "#2a3f5f",
             "gridcolor": "white",
             "linecolor": "white",
             "minorgridcolor": "white",
             "startlinecolor": "#2a3f5f"
            },
            "type": "carpet"
           }
          ],
          "choropleth": [
           {
            "colorbar": {
             "outlinewidth": 0,
             "ticks": ""
            },
            "type": "choropleth"
           }
          ],
          "contour": [
           {
            "colorbar": {
             "outlinewidth": 0,
             "ticks": ""
            },
            "colorscale": [
             [
              0,
              "#0d0887"
             ],
             [
              0.1111111111111111,
              "#46039f"
             ],
             [
              0.2222222222222222,
              "#7201a8"
             ],
             [
              0.3333333333333333,
              "#9c179e"
             ],
             [
              0.4444444444444444,
              "#bd3786"
             ],
             [
              0.5555555555555556,
              "#d8576b"
             ],
             [
              0.6666666666666666,
              "#ed7953"
             ],
             [
              0.7777777777777778,
              "#fb9f3a"
             ],
             [
              0.8888888888888888,
              "#fdca26"
             ],
             [
              1,
              "#f0f921"
             ]
            ],
            "type": "contour"
           }
          ],
          "contourcarpet": [
           {
            "colorbar": {
             "outlinewidth": 0,
             "ticks": ""
            },
            "type": "contourcarpet"
           }
          ],
          "heatmap": [
           {
            "colorbar": {
             "outlinewidth": 0,
             "ticks": ""
            },
            "colorscale": [
             [
              0,
              "#0d0887"
             ],
             [
              0.1111111111111111,
              "#46039f"
             ],
             [
              0.2222222222222222,
              "#7201a8"
             ],
             [
              0.3333333333333333,
              "#9c179e"
             ],
             [
              0.4444444444444444,
              "#bd3786"
             ],
             [
              0.5555555555555556,
              "#d8576b"
             ],
             [
              0.6666666666666666,
              "#ed7953"
             ],
             [
              0.7777777777777778,
              "#fb9f3a"
             ],
             [
              0.8888888888888888,
              "#fdca26"
             ],
             [
              1,
              "#f0f921"
             ]
            ],
            "type": "heatmap"
           }
          ],
          "heatmapgl": [
           {
            "colorbar": {
             "outlinewidth": 0,
             "ticks": ""
            },
            "colorscale": [
             [
              0,
              "#0d0887"
             ],
             [
              0.1111111111111111,
              "#46039f"
             ],
             [
              0.2222222222222222,
              "#7201a8"
             ],
             [
              0.3333333333333333,
              "#9c179e"
             ],
             [
              0.4444444444444444,
              "#bd3786"
             ],
             [
              0.5555555555555556,
              "#d8576b"
             ],
             [
              0.6666666666666666,
              "#ed7953"
             ],
             [
              0.7777777777777778,
              "#fb9f3a"
             ],
             [
              0.8888888888888888,
              "#fdca26"
             ],
             [
              1,
              "#f0f921"
             ]
            ],
            "type": "heatmapgl"
           }
          ],
          "histogram": [
           {
            "marker": {
             "pattern": {
              "fillmode": "overlay",
              "size": 10,
              "solidity": 0.2
             }
            },
            "type": "histogram"
           }
          ],
          "histogram2d": [
           {
            "colorbar": {
             "outlinewidth": 0,
             "ticks": ""
            },
            "colorscale": [
             [
              0,
              "#0d0887"
             ],
             [
              0.1111111111111111,
              "#46039f"
             ],
             [
              0.2222222222222222,
              "#7201a8"
             ],
             [
              0.3333333333333333,
              "#9c179e"
             ],
             [
              0.4444444444444444,
              "#bd3786"
             ],
             [
              0.5555555555555556,
              "#d8576b"
             ],
             [
              0.6666666666666666,
              "#ed7953"
             ],
             [
              0.7777777777777778,
              "#fb9f3a"
             ],
             [
              0.8888888888888888,
              "#fdca26"
             ],
             [
              1,
              "#f0f921"
             ]
            ],
            "type": "histogram2d"
           }
          ],
          "histogram2dcontour": [
           {
            "colorbar": {
             "outlinewidth": 0,
             "ticks": ""
            },
            "colorscale": [
             [
              0,
              "#0d0887"
             ],
             [
              0.1111111111111111,
              "#46039f"
             ],
             [
              0.2222222222222222,
              "#7201a8"
             ],
             [
              0.3333333333333333,
              "#9c179e"
             ],
             [
              0.4444444444444444,
              "#bd3786"
             ],
             [
              0.5555555555555556,
              "#d8576b"
             ],
             [
              0.6666666666666666,
              "#ed7953"
             ],
             [
              0.7777777777777778,
              "#fb9f3a"
             ],
             [
              0.8888888888888888,
              "#fdca26"
             ],
             [
              1,
              "#f0f921"
             ]
            ],
            "type": "histogram2dcontour"
           }
          ],
          "mesh3d": [
           {
            "colorbar": {
             "outlinewidth": 0,
             "ticks": ""
            },
            "type": "mesh3d"
           }
          ],
          "parcoords": [
           {
            "line": {
             "colorbar": {
              "outlinewidth": 0,
              "ticks": ""
             }
            },
            "type": "parcoords"
           }
          ],
          "pie": [
           {
            "automargin": true,
            "type": "pie"
           }
          ],
          "scatter": [
           {
            "fillpattern": {
             "fillmode": "overlay",
             "size": 10,
             "solidity": 0.2
            },
            "type": "scatter"
           }
          ],
          "scatter3d": [
           {
            "line": {
             "colorbar": {
              "outlinewidth": 0,
              "ticks": ""
             }
            },
            "marker": {
             "colorbar": {
              "outlinewidth": 0,
              "ticks": ""
             }
            },
            "type": "scatter3d"
           }
          ],
          "scattercarpet": [
           {
            "marker": {
             "colorbar": {
              "outlinewidth": 0,
              "ticks": ""
             }
            },
            "type": "scattercarpet"
           }
          ],
          "scattergeo": [
           {
            "marker": {
             "colorbar": {
              "outlinewidth": 0,
              "ticks": ""
             }
            },
            "type": "scattergeo"
           }
          ],
          "scattergl": [
           {
            "marker": {
             "colorbar": {
              "outlinewidth": 0,
              "ticks": ""
             }
            },
            "type": "scattergl"
           }
          ],
          "scattermapbox": [
           {
            "marker": {
             "colorbar": {
              "outlinewidth": 0,
              "ticks": ""
             }
            },
            "type": "scattermapbox"
           }
          ],
          "scatterpolar": [
           {
            "marker": {
             "colorbar": {
              "outlinewidth": 0,
              "ticks": ""
             }
            },
            "type": "scatterpolar"
           }
          ],
          "scatterpolargl": [
           {
            "marker": {
             "colorbar": {
              "outlinewidth": 0,
              "ticks": ""
             }
            },
            "type": "scatterpolargl"
           }
          ],
          "scatterternary": [
           {
            "marker": {
             "colorbar": {
              "outlinewidth": 0,
              "ticks": ""
             }
            },
            "type": "scatterternary"
           }
          ],
          "surface": [
           {
            "colorbar": {
             "outlinewidth": 0,
             "ticks": ""
            },
            "colorscale": [
             [
              0,
              "#0d0887"
             ],
             [
              0.1111111111111111,
              "#46039f"
             ],
             [
              0.2222222222222222,
              "#7201a8"
             ],
             [
              0.3333333333333333,
              "#9c179e"
             ],
             [
              0.4444444444444444,
              "#bd3786"
             ],
             [
              0.5555555555555556,
              "#d8576b"
             ],
             [
              0.6666666666666666,
              "#ed7953"
             ],
             [
              0.7777777777777778,
              "#fb9f3a"
             ],
             [
              0.8888888888888888,
              "#fdca26"
             ],
             [
              1,
              "#f0f921"
             ]
            ],
            "type": "surface"
           }
          ],
          "table": [
           {
            "cells": {
             "fill": {
              "color": "#EBF0F8"
             },
             "line": {
              "color": "white"
             }
            },
            "header": {
             "fill": {
              "color": "#C8D4E3"
             },
             "line": {
              "color": "white"
             }
            },
            "type": "table"
           }
          ]
         },
         "layout": {
          "annotationdefaults": {
           "arrowcolor": "#2a3f5f",
           "arrowhead": 0,
           "arrowwidth": 1
          },
          "autotypenumbers": "strict",
          "coloraxis": {
           "colorbar": {
            "outlinewidth": 0,
            "ticks": ""
           }
          },
          "colorscale": {
           "diverging": [
            [
             0,
             "#8e0152"
            ],
            [
             0.1,
             "#c51b7d"
            ],
            [
             0.2,
             "#de77ae"
            ],
            [
             0.3,
             "#f1b6da"
            ],
            [
             0.4,
             "#fde0ef"
            ],
            [
             0.5,
             "#f7f7f7"
            ],
            [
             0.6,
             "#e6f5d0"
            ],
            [
             0.7,
             "#b8e186"
            ],
            [
             0.8,
             "#7fbc41"
            ],
            [
             0.9,
             "#4d9221"
            ],
            [
             1,
             "#276419"
            ]
           ],
           "sequential": [
            [
             0,
             "#0d0887"
            ],
            [
             0.1111111111111111,
             "#46039f"
            ],
            [
             0.2222222222222222,
             "#7201a8"
            ],
            [
             0.3333333333333333,
             "#9c179e"
            ],
            [
             0.4444444444444444,
             "#bd3786"
            ],
            [
             0.5555555555555556,
             "#d8576b"
            ],
            [
             0.6666666666666666,
             "#ed7953"
            ],
            [
             0.7777777777777778,
             "#fb9f3a"
            ],
            [
             0.8888888888888888,
             "#fdca26"
            ],
            [
             1,
             "#f0f921"
            ]
           ],
           "sequentialminus": [
            [
             0,
             "#0d0887"
            ],
            [
             0.1111111111111111,
             "#46039f"
            ],
            [
             0.2222222222222222,
             "#7201a8"
            ],
            [
             0.3333333333333333,
             "#9c179e"
            ],
            [
             0.4444444444444444,
             "#bd3786"
            ],
            [
             0.5555555555555556,
             "#d8576b"
            ],
            [
             0.6666666666666666,
             "#ed7953"
            ],
            [
             0.7777777777777778,
             "#fb9f3a"
            ],
            [
             0.8888888888888888,
             "#fdca26"
            ],
            [
             1,
             "#f0f921"
            ]
           ]
          },
          "colorway": [
           "#636efa",
           "#EF553B",
           "#00cc96",
           "#ab63fa",
           "#FFA15A",
           "#19d3f3",
           "#FF6692",
           "#B6E880",
           "#FF97FF",
           "#FECB52"
          ],
          "font": {
           "color": "#2a3f5f"
          },
          "geo": {
           "bgcolor": "white",
           "lakecolor": "white",
           "landcolor": "#E5ECF6",
           "showlakes": true,
           "showland": true,
           "subunitcolor": "white"
          },
          "hoverlabel": {
           "align": "left"
          },
          "hovermode": "closest",
          "mapbox": {
           "style": "light"
          },
          "paper_bgcolor": "white",
          "plot_bgcolor": "#E5ECF6",
          "polar": {
           "angularaxis": {
            "gridcolor": "white",
            "linecolor": "white",
            "ticks": ""
           },
           "bgcolor": "#E5ECF6",
           "radialaxis": {
            "gridcolor": "white",
            "linecolor": "white",
            "ticks": ""
           }
          },
          "scene": {
           "xaxis": {
            "backgroundcolor": "#E5ECF6",
            "gridcolor": "white",
            "gridwidth": 2,
            "linecolor": "white",
            "showbackground": true,
            "ticks": "",
            "zerolinecolor": "white"
           },
           "yaxis": {
            "backgroundcolor": "#E5ECF6",
            "gridcolor": "white",
            "gridwidth": 2,
            "linecolor": "white",
            "showbackground": true,
            "ticks": "",
            "zerolinecolor": "white"
           },
           "zaxis": {
            "backgroundcolor": "#E5ECF6",
            "gridcolor": "white",
            "gridwidth": 2,
            "linecolor": "white",
            "showbackground": true,
            "ticks": "",
            "zerolinecolor": "white"
           }
          },
          "shapedefaults": {
           "line": {
            "color": "#2a3f5f"
           }
          },
          "ternary": {
           "aaxis": {
            "gridcolor": "white",
            "linecolor": "white",
            "ticks": ""
           },
           "baxis": {
            "gridcolor": "white",
            "linecolor": "white",
            "ticks": ""
           },
           "bgcolor": "#E5ECF6",
           "caxis": {
            "gridcolor": "white",
            "linecolor": "white",
            "ticks": ""
           }
          },
          "title": {
           "x": 0.05
          },
          "xaxis": {
           "automargin": true,
           "gridcolor": "white",
           "linecolor": "white",
           "ticks": "",
           "title": {
            "standoff": 15
           },
           "zerolinecolor": "white",
           "zerolinewidth": 2
          },
          "yaxis": {
           "automargin": true,
           "gridcolor": "white",
           "linecolor": "white",
           "ticks": "",
           "title": {
            "standoff": 15
           },
           "zerolinecolor": "white",
           "zerolinewidth": 2
          }
         }
        },
        "title": {
         "text": "Frecuencia de Dependencia Establecimiento"
        },
        "xaxis": {
         "anchor": "y",
         "domain": [
          0,
          1
         ],
         "tickangle": 0,
         "title": {
          "text": "Dependencia_establecimiento"
         }
        },
        "yaxis": {
         "anchor": "x",
         "domain": [
          0,
          1
         ],
         "title": {
          "text": "Frecuencia"
         }
        }
       }
      }
     },
     "metadata": {},
     "output_type": "display_data"
    }
   ],
   "source": [
    "import plotly.express as px\n",
    "\n",
    "# Filtrar los datos para excluir valores nulos en la columna Dependencia_establecimiento\n",
    "filtered_df_dep = df[df[\"Dependencia_establecimiento\"].notna()]\n",
    "\n",
    "# Contar las frecuencias de los valores en la columna Dependencia_establecimiento\n",
    "dep_counts = filtered_df_dep[\"Dependencia_establecimiento\"].value_counts().sort_values(ascending=True)\n",
    "\n",
    "# Crear el gráfico de barras en orientación vertical\n",
    "fig_dep = px.bar(dep_counts, x=dep_counts.index, y=dep_counts.values, orientation='v', color_discrete_sequence=['purple'], labels={'x': 'Dependencia Establecimiento', 'y': 'Frecuencia'}, title='Frecuencia de Dependencia Establecimiento', text=dep_counts.values)\n",
    "fig_dep.update_traces(textposition='outside', textfont_color='purple')\n",
    "fig_dep.update_layout(xaxis_tickangle=0)\n",
    "fig_dep.show()"
   ]
  },
  {
   "cell_type": "markdown",
   "metadata": {},
   "source": [
    "# Análisis Grupo Socioeconómico"
   ]
  },
  {
   "cell_type": "code",
   "execution_count": 7,
   "metadata": {},
   "outputs": [
    {
     "data": {
      "text/plain": [
       "GSE Establecimiento\n",
       "Alto                  870\n",
       "Medio                 678\n",
       "Medio alto            461\n",
       "Medio bajo            395\n",
       "estudio extranjero    122\n",
       "Bajo                   84\n",
       "0                      54\n",
       "Name: count, dtype: int64"
      ]
     },
     "execution_count": 7,
     "metadata": {},
     "output_type": "execute_result"
    }
   ],
   "source": [
    "df.loc[df[\"RBD Colegio Secundario\"] == \"estudio extranjero\", \"GSE Establecimiento\"] = \"estudio extranjero\"\n",
    "\n",
    "df[\"GSE Establecimiento\"].value_counts()"
   ]
  },
  {
   "cell_type": "code",
   "execution_count": 9,
   "metadata": {},
   "outputs": [
    {
     "data": {
      "text/html": [
       "<div>\n",
       "<style scoped>\n",
       "    .dataframe tbody tr th:only-of-type {\n",
       "        vertical-align: middle;\n",
       "    }\n",
       "\n",
       "    .dataframe tbody tr th {\n",
       "        vertical-align: top;\n",
       "    }\n",
       "\n",
       "    .dataframe thead th {\n",
       "        text-align: right;\n",
       "    }\n",
       "</style>\n",
       "<table border=\"1\" class=\"dataframe\">\n",
       "  <thead>\n",
       "    <tr style=\"text-align: right;\">\n",
       "      <th></th>\n",
       "      <th>GSE Establecimiento</th>\n",
       "      <th>GSE_Procesado</th>\n",
       "    </tr>\n",
       "  </thead>\n",
       "  <tbody>\n",
       "    <tr>\n",
       "      <th>0</th>\n",
       "      <td>Alto</td>\n",
       "      <td>Alto</td>\n",
       "    </tr>\n",
       "    <tr>\n",
       "      <th>1</th>\n",
       "      <td>Bajo</td>\n",
       "      <td>Bajo</td>\n",
       "    </tr>\n",
       "    <tr>\n",
       "      <th>2</th>\n",
       "      <td>Alto</td>\n",
       "      <td>Alto</td>\n",
       "    </tr>\n",
       "    <tr>\n",
       "      <th>3</th>\n",
       "      <td>Alto</td>\n",
       "      <td>Alto</td>\n",
       "    </tr>\n",
       "    <tr>\n",
       "      <th>4</th>\n",
       "      <td>Medio</td>\n",
       "      <td>Medio</td>\n",
       "    </tr>\n",
       "  </tbody>\n",
       "</table>\n",
       "</div>"
      ],
      "text/plain": [
       "  GSE Establecimiento GSE_Procesado\n",
       "0                Alto          Alto\n",
       "1                Bajo          Bajo\n",
       "2                Alto          Alto\n",
       "3                Alto          Alto\n",
       "4               Medio         Medio"
      ]
     },
     "execution_count": 9,
     "metadata": {},
     "output_type": "execute_result"
    }
   ],
   "source": [
    "# Crear una nueva columna 'GSE_Procesado' con los grupos especificados\n",
    "df['GSE_Procesado'] = df['GSE Establecimiento'].replace({\n",
    "    'Bajo': 'Bajo',\n",
    "    'Medio bajo': 'Bajo',\n",
    "    'Medio': 'Medio',\n",
    "    'Medio alto': 'Medio Alto',\n",
    "    'Alto': 'Alto',\n",
    "    'estudio extranjero': 'Extranjero'\n",
    "})\n",
    "\n",
    "# Mostrar los primeros registros para verificar\n",
    "df[['GSE Establecimiento', 'GSE_Procesado']].head()"
   ]
  },
  {
   "cell_type": "code",
   "execution_count": 11,
   "metadata": {},
   "outputs": [
    {
     "data": {
      "text/plain": [
       "GSE_Procesado\n",
       "Alto          870\n",
       "Medio         678\n",
       "Bajo          479\n",
       "Medio Alto    461\n",
       "Extranjero    122\n",
       "0              54\n",
       "Name: count, dtype: int64"
      ]
     },
     "execution_count": 11,
     "metadata": {},
     "output_type": "execute_result"
    }
   ],
   "source": [
    "df[\"GSE_Procesado\"].value_counts()"
   ]
  },
  {
   "cell_type": "code",
   "execution_count": null,
   "metadata": {
    "vscode": {
     "languageId": "julia"
    }
   },
   "outputs": [],
   "source": [
    "import shap\n",
    "import xgboost as xgb\n",
    "from sklearn.model_selection import train_test_split\n",
    "from sklearn.preprocessing import LabelEncoder\n",
    "\n",
    "# Filtrar el DataFrame para las columnas necesarias\n",
    "df_shap = df[['Tiene_fondecyt', 'GSE_Procesado', 'Nombre Secundaria', 'Dependencia_establecimiento']].dropna()\n",
    "\n",
    "# Codificar las variables categóricas\n",
    "label_encoder = LabelEncoder()\n",
    "df_shap['GSE_Procesado'] = label_encoder.fit_transform(df_shap['GSE_Procesado'])\n",
    "df_shap['Nombre Secundaria'] = label_encoder.fit_transform(df_shap['Nombre Secundaria'])\n",
    "df_shap['Dependencia_establecimiento'] = label_encoder.fit_transform(df_shap['Dependencia_establecimiento'])\n",
    "\n",
    "# Separar las características y la variable objetivo\n",
    "X = df_shap[['GSE_Procesado', 'Nombre Secundaria', 'Dependencia_establecimiento']]\n",
    "y = df_shap['Tiene_fondecyt']\n",
    "\n",
    "# Dividir los datos en conjuntos de entrenamiento y prueba\n",
    "X_train, X_test, y_train, y_test = train_test_split(X, y, test_size=0.2, random_state=42)\n",
    "\n",
    "# Entrenar un modelo XGBoost\n",
    "model = xgb.XGBClassifier()\n",
    "model.fit(X_train, y_train)\n",
    "\n",
    "# Crear un objeto SHAP explainer\n",
    "explainer = shap.Explainer(model, X_train)\n",
    "shap_values = explainer(X_test)\n",
    "\n",
    "# Visualizar los valores SHAP\n",
    "shap.summary_plot(shap_values, X_test)"
   ]
  }
 ],
 "metadata": {
  "kernelspec": {
   "display_name": "Python 3",
   "language": "python",
   "name": "python3"
  },
  "language_info": {
   "codemirror_mode": {
    "name": "ipython",
    "version": 3
   },
   "file_extension": ".py",
   "mimetype": "text/x-python",
   "name": "python",
   "nbconvert_exporter": "python",
   "pygments_lexer": "ipython3",
   "version": "3.12.4"
  }
 },
 "nbformat": 4,
 "nbformat_minor": 2
}
