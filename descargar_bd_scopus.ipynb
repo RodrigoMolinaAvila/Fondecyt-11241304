{
 "cells": [
  {
   "cell_type": "code",
   "execution_count": null,
   "metadata": {},
   "outputs": [],
   "source": [
    "import requests\n",
    "import pandas as pd\n",
    "import time\n",
    "from dotenv import load_dotenv\n",
    "import os\n",
    "import pandas as pd\n",
    "from concurrent.futures import ThreadPoolExecutor"
   ]
  },
  {
   "cell_type": "markdown",
   "metadata": {},
   "source": [
    "# 1. Abrir base de datos original."
   ]
  },
  {
   "cell_type": "code",
   "execution_count": null,
   "metadata": {},
   "outputs": [],
   "source": [
    "df = pd.read_excel(\"bd.xlsx\")\n",
    "df_2 = df[[\"Primer_Nombre\", \"Apellido_Paterno\"]]\n",
    "print(df_2.shape)\n",
    "names = df_2.to_dict(\"records\")  # Convertimos el dataframe a una lista de diccionarios"
   ]
  },
  {
   "cell_type": "markdown",
   "metadata": {},
   "source": [
    "# 2. Carga de variable de entornos "
   ]
  },
  {
   "cell_type": "code",
   "execution_count": null,
   "metadata": {},
   "outputs": [],
   "source": [
    "load_dotenv()\n",
    "API_KEY = os.getenv('API_KEY')\n",
    "INST_TOKEN = os.getenv('INST_TOKEN')"
   ]
  },
  {
   "cell_type": "markdown",
   "metadata": {},
   "source": [
    "# 3. Funciones para descargar datos de Scopus "
   ]
  },
  {
   "cell_type": "markdown",
   "metadata": {},
   "source": [
    "## 3.1 Función para obtener los datos del autor según nombre y apellido."
   ]
  },
  {
   "cell_type": "code",
   "execution_count": null,
   "metadata": {},
   "outputs": [],
   "source": [
    "def get_author_id(author_name, author_lastname):\n",
    "    URL = f\"https://api.elsevier.com/content/search/author?query=authlast({author_lastname})%20and%20authfirst({author_name})&apiKey={API_KEY}\"\n",
    "    # Debe haber un delay de 3 segundos entre cada request para no exceder el límite de requests por segundo.\n",
    "    time.sleep(3)\n",
    "    response = requests.get(\n",
    "        URL,\n",
    "        headers={\n",
    "            \"Accept\": \"application/json\",\n",
    "            \"X-ELS-APIKey\": API_KEY,\n",
    "            \"X-ELS-Insttoken\": INST_TOKEN,\n",
    "        },\n",
    "    )\n",
    "    data = response.json()\n",
    "    # Si la respuesta contiene un \"entry\" significa que se encontró un autor con ese nombre.\n",
    "    if \"search-results\" in data:\n",
    "        # Retornamos todos los autores encontrados\n",
    "        return [\n",
    "            {\n",
    "                \"entry\": entry,\n",
    "                \"author_name\": author_name,\n",
    "                \"author_lastname\": author_lastname,\n",
    "            }\n",
    "            for entry in data[\"search-results\"][\"entry\"]\n",
    "        ]\n",
    "    # Si no se encontró un autor con ese nombre, retornamos un diccionario con el error y los datos del autor. \n",
    "    return [\n",
    "        {\n",
    "            \"Error\": response,\n",
    "            \"entry\": None,\n",
    "            \"author_name\": author_name,\n",
    "            \"author_lastname\": author_lastname,\n",
    "        }\n",
    "    ]"
   ]
  },
  {
   "cell_type": "markdown",
   "metadata": {},
   "source": [
    "# 3.2 Función para realizar request de forma paralela"
   ]
  },
  {
   "cell_type": "code",
   "execution_count": null,
   "metadata": {},
   "outputs": [],
   "source": [
    "def fetch_all_authors(names):\n",
    "    # Usamos un ThreadPoolExecutor para hacer las requests en paralelo.\n",
    "    results = []\n",
    "    # Usamos un máximo de 2 workers para no exceder el límite de requests por segundo.\n",
    "    with ThreadPoolExecutor(max_workers=2) as executor:\n",
    "        # Usamos la función submit para enviar las requests al executor.\n",
    "        futures = [executor.submit(get_author_id,  # Enviamos la función que queremos ejecutar.\n",
    "                                   # Enviamos el nombre y apellido del autor.\n",
    "                                   name['Primer_Nombre'], \n",
    "                                   name['Apellido_Paterno']) \n",
    "                   for name in names] # Iteramos sobre la lista de nombres\n",
    "        # Iteramos sobre los resultados de las futures y los guardamos en una lista.\n",
    "        for future in futures:\n",
    "            results.extend(future.result()) # Usamos el método result para obtener el resultado de la future.\n",
    "    return results"
   ]
  },
  {
   "cell_type": "code",
   "execution_count": null,
   "metadata": {},
   "outputs": [],
   "source": [
    "# Dividimos la lista de nombres total en x partes para hacer requests en paralelo. Esto es recomendable, en caso de error no se pierden todas las requests.\n",
    "X = 1000\n",
    "all_results = fetch_all_authors(names[X-X:X])\n",
    "all_results"
   ]
  },
  {
   "cell_type": "markdown",
   "metadata": {},
   "source": [
    "# 4. Exportar datos obtenidos"
   ]
  },
  {
   "cell_type": "code",
   "execution_count": null,
   "metadata": {},
   "outputs": [],
   "source": [
    "results_list = []"
   ]
  },
  {
   "cell_type": "code",
   "execution_count": null,
   "metadata": {},
   "outputs": [],
   "source": [
    "for result in all_results:\n",
    "    try:\n",
    "        # Si el resultado contiene un error, lo imprimimos y continuamos con el siguiente resultado.\n",
    "        if 'error' in result:\n",
    "            print(f\"Error in result: {result['error']}\")\n",
    "            continue\n",
    "        # Extraer los datos del resultado.\n",
    "        entry = result.get(\"entry\", {})\n",
    "        author_name = result.get(\"author_name\", \"N/A\") # Si no se encuentra el nombre, se asigna \"N/A\".\n",
    "        author_lastname = result.get(\"author_lastname\", \"N/A\") # Si no se encuentra el apellido, se asigna \"N/A\".\n",
    "        author_id = entry.get(\"dc:identifier\", \"N/A\").split(\":\")[-1] # Extraer el ID del autor.\n",
    "        preferred_name = entry.get(\"preferred-name\", {}) # Extraer el nombre preferido del autor.\n",
    "        surname = preferred_name.get(\"surname\", \"N/A\") # Extraer el apellido del autor.\n",
    "        given_name = preferred_name.get(\"given-name\", \"N/A\") # Extraer el nombre del autor.\n",
    "        affiliation = entry.get(\"affiliation-current\", {}) # Extraer la afiliación actual del autor.\n",
    "        affiliation_name = affiliation.get(\"affiliation-name\", \"N/A\") # Extraer el nombre de la afiliación.\n",
    "        affiliation_city = affiliation.get(\"affiliation-city\", \"N/A\") # Extraer la ciudad de la afiliación.\n",
    "        affiliation_country = affiliation.get(\"affiliation-country\", \"N/A\") # Extraer el país de la afiliación.\n",
    "        document_count = entry.get(\"document-count\", \"N/A\") # Extraer el número de documentos del autor (OPCIONAL).\n",
    "        \n",
    "        # Si el campo \"subject-area\" es una lista, extraer los valores y unirlos en un string separado por comas. \n",
    "        # Esto no siempre funciona, ya que a veces el campo \"subject-area\" no es una lista. Por lo que aplicar una limpieza adicional si es necesario.\n",
    "        if isinstance(entry.get(\"subject-area\"), list):\n",
    "            subject_areas = \", \".join([area.get(\"$\", \"N/A\") if \"$\" in area else \"N/A\" for area in entry[\"subject-area\"]])  # Extraer los valores de la lista.\n",
    "        else:\n",
    "            subject_areas = entry.get(\"subject-area\", \"N/A\") # Si el campo no es una lista, extraer el valor directamente.\n",
    "        \n",
    "        # Agregar los resultados a la lista\n",
    "        results_list.append({\n",
    "            \"Author ID\": author_id, # Agregar el ID del autor.\n",
    "            \"Name\": f\"{given_name} {surname}\", # Agregar el nombre completo del autor.\n",
    "            \"Affiliation\": f\"{affiliation_name}, {affiliation_city}, {affiliation_country}\", # Agregar la afiliación del autor.\n",
    "            \"Document count\": document_count, # Agregar el número de documentos del\n",
    "            \"Subject areas\": subject_areas, # Agregar las áreas de investigación del autor.\n",
    "            \"Search Name\": f\"{author_name} {author_lastname}\" # Agregar el nombre de búsqueda.\n",
    "        })\n",
    "    except KeyError as e:\n",
    "        print(f\"KeyError: Missing key {e} in result {result}\") # Si falta una llave en el diccionario, imprimir el error.\n",
    "    except Exception as e:\n",
    "        print(f\"Unexpected error: {e} in result {result}\") # Si ocurre un error inesperado, imprimir el error."
   ]
  },
  {
   "cell_type": "code",
   "execution_count": null,
   "metadata": {},
   "outputs": [],
   "source": [
    "# Crear un DataFrame con los resultados\n",
    "df_results = pd.DataFrame(results_list)\n",
    "\n",
    "# Guardar los resultados en un archivo Excel\n",
    "df_results.to_excel(\"resultado_X_X.xlsx\")"
   ]
  }
 ],
 "metadata": {
  "kernelspec": {
   "display_name": "matematica_env",
   "language": "python",
   "name": "python3"
  },
  "language_info": {
   "codemirror_mode": {
    "name": "ipython",
    "version": 3
   },
   "file_extension": ".py",
   "mimetype": "text/x-python",
   "name": "python",
   "nbconvert_exporter": "python",
   "pygments_lexer": "ipython3",
   "version": "3.11.9"
  }
 },
 "nbformat": 4,
 "nbformat_minor": 2
}
